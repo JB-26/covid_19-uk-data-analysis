{
    "cells": [
        {
            "cell_type": "markdown",
            "source": [
                "# COVID-19 Data Exploration\r\n",
                "\r\n",
                "This Jupyter notebook looks at using an API from the [UK Government](https://coronavirus.data.gov.uk/details/developers-guide).\r\n",
                "\r\n",
                "The purpose of this exercise is for myself to improve my data analysis and programming skills in Python.\r\n",
                "\r\n",
                "Feel free to clone this repo if you want to take a look around! The requirements for running this notebook have been exported to the requirements.txt file.\r\n",
                "\r\n",
                "More documentation for this library can be found [here](https://publichealthengland.github.io/coronavirus-dashboard-api-python-sdk/index.html)"
            ],
            "metadata": {}
        },
        {
            "cell_type": "code",
            "execution_count": 2,
            "source": [
                "from uk_covid19 import Cov19API\r\n",
                "import seaborn as sns\r\n",
                "import matplotlib.pyplot as plt\r\n",
                "import numpy as np\r\n",
                "from plotly import __version__\r\n",
                "import cufflinks as cf\r\n",
                "from plotly.offline import download_plotlyjs, init_notebook_mode, plot, iplot\r\n",
                "import plotly.express as px\r\n",
                "\r\n",
                "sns.set_theme(style=\"darkgrid\", context=\"talk\")"
            ],
            "outputs": [],
            "metadata": {}
        },
        {
            "cell_type": "code",
            "execution_count": 3,
            "source": [
                "%matplotlib inline"
            ],
            "outputs": [],
            "metadata": {}
        },
        {
            "cell_type": "code",
            "execution_count": 4,
            "source": [
                "init_notebook_mode(connected=True) #connects JS to the notebook"
            ],
            "outputs": [
                {
                    "output_type": "display_data",
                    "data": {
                        "text/html": [
                            "        <script type=\"text/javascript\">\n",
                            "        window.PlotlyConfig = {MathJaxConfig: 'local'};\n",
                            "        if (window.MathJax) {MathJax.Hub.Config({SVG: {font: \"STIX-Web\"}});}\n",
                            "        if (typeof require !== 'undefined') {\n",
                            "        require.undef(\"plotly\");\n",
                            "        requirejs.config({\n",
                            "            paths: {\n",
                            "                'plotly': ['https://cdn.plot.ly/plotly-2.2.0.min']\n",
                            "            }\n",
                            "        });\n",
                            "        require(['plotly'], function(Plotly) {\n",
                            "            window._Plotly = Plotly;\n",
                            "        });\n",
                            "        }\n",
                            "        </script>\n",
                            "        "
                        ]
                    },
                    "metadata": {}
                }
            ],
            "metadata": {}
        },
        {
            "cell_type": "code",
            "execution_count": 5,
            "source": [
                "cf.go_offline() #allows to use cufflinks offline"
            ],
            "outputs": [
                {
                    "output_type": "display_data",
                    "data": {
                        "text/html": [
                            "        <script type=\"text/javascript\">\n",
                            "        window.PlotlyConfig = {MathJaxConfig: 'local'};\n",
                            "        if (window.MathJax) {MathJax.Hub.Config({SVG: {font: \"STIX-Web\"}});}\n",
                            "        if (typeof require !== 'undefined') {\n",
                            "        require.undef(\"plotly\");\n",
                            "        requirejs.config({\n",
                            "            paths: {\n",
                            "                'plotly': ['https://cdn.plot.ly/plotly-2.2.0.min']\n",
                            "            }\n",
                            "        });\n",
                            "        require(['plotly'], function(Plotly) {\n",
                            "            window._Plotly = Plotly;\n",
                            "        });\n",
                            "        }\n",
                            "        </script>\n",
                            "        "
                        ]
                    },
                    "metadata": {}
                }
            ],
            "metadata": {}
        },
        {
            "cell_type": "code",
            "execution_count": 6,
            "source": [
                "area_filter = [\r\n",
                "    'areaType=ltla',\r\n",
                "    'areaName=Milton Keynes'\r\n",
                "]\r\n",
                "\r\n",
                "structure_dict = {\r\n",
                "    \"date\": \"date\",\r\n",
                "    \"newCasesByPublishDate\": \"newCasesByPublishDate\",\r\n",
                "    \"cumCasesByPublishDate\": \"cumCasesByPublishDate\",\r\n",
                "    \"newDeaths28DaysByDeathDate\": \"newDeaths28DaysByDeathDate\",\r\n",
                "    \"cumDeaths28DaysByDeathDate\": \"cumDeaths28DaysByDeathDate\",\r\n",
                "}\r\n",
                "\r\n",
                "api = Cov19API(filters=area_filter, structure=structure_dict)\r\n",
                "df = api.get_dataframe()\r\n",
                "\r\n",
                "# reverse the order, so the graph starts with the earliest date\r\n",
                "df = df.iloc[::-1]\r\n",
                "\r\n",
                "# clean up! Replace nan with 0\r\n",
                "df.replace(np.nan, 0, inplace=True)"
            ],
            "outputs": [],
            "metadata": {}
        },
        {
            "cell_type": "code",
            "execution_count": 7,
            "source": [
                "# create the plot\r\n",
                "fig, ax = plt.subplots(figsize = (20,15))\r\n",
                "# remove X Ticks\r\n",
                "plt.xticks([])\r\n",
                "# rename X and Y label\r\n",
                "plt.xlabel('Date from 05-03-2020', fontsize=15)\r\n",
                "plt.ylabel('New cases', fontsize=15)\r\n",
                "# set title\r\n",
                "plt.title(\"COVID-19 Milton Keynes (new cases)\")\r\n",
                "# create plot\r\n",
                "sns.scatterplot(x='date', y='newCasesByPublishDate', size=\"newDeaths28DaysByDeathDate\", sizes=(15,200), data=df)"
            ],
            "outputs": [
                {
                    "output_type": "execute_result",
                    "data": {
                        "text/plain": [
                            "<AxesSubplot:title={'center':'COVID-19 Milton Keynes (new cases)'}, xlabel='Date from 05-03-2020', ylabel='New cases'>"
                        ]
                    },
                    "metadata": {},
                    "execution_count": 7
                },
                {
                    "output_type": "display_data",
                    "data": {
                        "text/plain": [
                            "<Figure size 1440x1080 with 1 Axes>"
                        ],
                        "image/png": "[encoded data removed]"
                    },
                    "metadata": {
                        "needs_background": "light"
                    }
                }
            ],
            "metadata": {}
        },
        {
            "cell_type": "code",
            "execution_count": 8,
            "source": [
                "# create the plot\r\n",
                "fig, ax = plt.subplots(figsize = (20,15))\r\n",
                "# remove X Ticks\r\n",
                "plt.xticks([])\r\n",
                "# rename X and Y label\r\n",
                "plt.xlabel('Date from 05-03-2020', fontsize=15)\r\n",
                "plt.ylabel('Cumulative Deaths - 28 days by death date', fontsize=15)\r\n",
                "# set title\r\n",
                "plt.title(\"COVID-19 Milton Keynes (cumulative deaths)\")\r\n",
                "# create plot\r\n",
                "sns.scatterplot(x='date', y='cumDeaths28DaysByDeathDate', size='newCasesByPublishDate', sizes=(15,200), data=df)"
            ],
            "outputs": [
                {
                    "output_type": "execute_result",
                    "data": {
                        "text/plain": [
                            "<AxesSubplot:title={'center':'COVID-19 Milton Keynes (cumulative deaths)'}, xlabel='Date from 05-03-2020', ylabel='Cumulative Deaths - 28 days by death date'>"
                        ]
                    },
                    "metadata": {},
                    "execution_count": 8
                },
                {
                    "output_type": "display_data",
                    "data": {
                        "text/plain": [
                            "<Figure size 1440x1080 with 1 Axes>"
                        ],
                        "image/png": "[encoded data removed]"
                    },
                    "metadata": {
                        "needs_background": "light"
                    }
                }
            ],
            "metadata": {}
        },
        {
            "cell_type": "code",
            "execution_count": 9,
            "source": [
                "df.corr()"
            ],
            "outputs": [
                {
                    "output_type": "execute_result",
                    "data": {
                        "text/plain": [
                            "                            newCasesByPublishDate  cumCasesByPublishDate  \\\n",
                            "newCasesByPublishDate                    1.000000               0.036812   \n",
                            "cumCasesByPublishDate                    0.036812               1.000000   \n",
                            "newDeaths28DaysByDeathDate               0.604956              -0.022605   \n",
                            "cumDeaths28DaysByDeathDate               0.180896              -0.062086   \n",
                            "\n",
                            "                            newDeaths28DaysByDeathDate  \\\n",
                            "newCasesByPublishDate                         0.604956   \n",
                            "cumCasesByPublishDate                        -0.022605   \n",
                            "newDeaths28DaysByDeathDate                    1.000000   \n",
                            "cumDeaths28DaysByDeathDate                   -0.010431   \n",
                            "\n",
                            "                            cumDeaths28DaysByDeathDate  \n",
                            "newCasesByPublishDate                         0.180896  \n",
                            "cumCasesByPublishDate                        -0.062086  \n",
                            "newDeaths28DaysByDeathDate                   -0.010431  \n",
                            "cumDeaths28DaysByDeathDate                    1.000000  "
                        ],
                        "text/html": [
                            "<div>\n",
                            "<style scoped>\n",
                            "    .dataframe tbody tr th:only-of-type {\n",
                            "        vertical-align: middle;\n",
                            "    }\n",
                            "\n",
                            "    .dataframe tbody tr th {\n",
                            "        vertical-align: top;\n",
                            "    }\n",
                            "\n",
                            "    .dataframe thead th {\n",
                            "        text-align: right;\n",
                            "    }\n",
                            "</style>\n",
                            "<table border=\"1\" class=\"dataframe\">\n",
                            "  <thead>\n",
                            "    <tr style=\"text-align: right;\">\n",
                            "      <th></th>\n",
                            "      <th>newCasesByPublishDate</th>\n",
                            "      <th>cumCasesByPublishDate</th>\n",
                            "      <th>newDeaths28DaysByDeathDate</th>\n",
                            "      <th>cumDeaths28DaysByDeathDate</th>\n",
                            "    </tr>\n",
                            "  </thead>\n",
                            "  <tbody>\n",
                            "    <tr>\n",
                            "      <th>newCasesByPublishDate</th>\n",
                            "      <td>1.000000</td>\n",
                            "      <td>0.036812</td>\n",
                            "      <td>0.604956</td>\n",
                            "      <td>0.180896</td>\n",
                            "    </tr>\n",
                            "    <tr>\n",
                            "      <th>cumCasesByPublishDate</th>\n",
                            "      <td>0.036812</td>\n",
                            "      <td>1.000000</td>\n",
                            "      <td>-0.022605</td>\n",
                            "      <td>-0.062086</td>\n",
                            "    </tr>\n",
                            "    <tr>\n",
                            "      <th>newDeaths28DaysByDeathDate</th>\n",
                            "      <td>0.604956</td>\n",
                            "      <td>-0.022605</td>\n",
                            "      <td>1.000000</td>\n",
                            "      <td>-0.010431</td>\n",
                            "    </tr>\n",
                            "    <tr>\n",
                            "      <th>cumDeaths28DaysByDeathDate</th>\n",
                            "      <td>0.180896</td>\n",
                            "      <td>-0.062086</td>\n",
                            "      <td>-0.010431</td>\n",
                            "      <td>1.000000</td>\n",
                            "    </tr>\n",
                            "  </tbody>\n",
                            "</table>\n",
                            "</div>"
                        ]
                    },
                    "metadata": {},
                    "execution_count": 9
                }
            ],
            "metadata": {}
        },
        {
            "cell_type": "code",
            "execution_count": 10,
            "source": [
                "# create the plot (1 row, 2 columns)\r\n",
                "fig, axes = plt.subplots(2, 1, figsize = (40,30))\r\n",
                "# create plot 1\r\n",
                "g1 = sns.scatterplot(x='date', y='newCasesByPublishDate', size=\"newDeaths28DaysByDeathDate\", sizes=(15,200), data=df, ax=axes[0])\r\n",
                "g1.set(xticklabels=[])\r\n",
                "g1.set(title=\"COVID-19 Milton Keynes (new cases)\")\r\n",
                "g1.set(xlabel='Date from 05-03-2020')\r\n",
                "g1.set(ylabel=\"New cases\")\r\n",
                "\r\n",
                "# create plot 2\r\n",
                "g2 = sns.scatterplot(x='date', y='cumDeaths28DaysByDeathDate', size='newCasesByPublishDate', sizes=(15,200), data=df, ax=axes[1])\r\n",
                "g2.set(xticklabels=[])\r\n",
                "g2.set(title=\"COVID-19 Milton Keynes (cumulative deaths)\")\r\n",
                "g2.set(xlabel='Date from 05-03-2020')\r\n",
                "g2.set(ylabel=\"Cumulative Deaths - 28 days by death date\")"
            ],
            "outputs": [
                {
                    "output_type": "execute_result",
                    "data": {
                        "text/plain": [
                            "[Text(0, 0.5, 'Cumulative Deaths - 28 days by death date')]"
                        ]
                    },
                    "metadata": {},
                    "execution_count": 10
                },
                {
                    "output_type": "display_data",
                    "data": {
                        "text/plain": [
                            "<Figure size 2880x2160 with 2 Axes>"
                        ],
                        "image/png": "[encoded data removed]"
                    },
                    "metadata": {
                        "needs_background": "light"
                    }
                }
            ],
            "metadata": {}
        },
        {
            "cell_type": "code",
            "execution_count": 11,
            "source": [
                "# first attempt with plotly\r\n",
                "df.iplot(kind='scatter',x='date', y='newCasesByPublishDate', mode='markers',size=10)"
            ],
            "outputs": [
                {
                    "output_type": "display_data",
                    "data": {
                        "text/html": [
                            "<div>                            <div id=\"db593f32-7e72-43e6-9928-2e4128ed9782\" class=\"plotly-graph-div\" style=\"height:525px; width:100%;\"></div>            <script type=\"text/javascript\">                require([\"plotly\"], function(Plotly) {                    window.PLOTLYENV=window.PLOTLYENV || {};\n",
                            "                    window.PLOTLYENV.BASE_URL='https://plot.ly';                                    if (document.getElementById(\"db593f32-7e72-43e6-9928-2e4128ed9782\")) {                    Plotly.newPlot(                        \"db593f32-7e72-43e6-9928-2e4128ed9782\",                        [{\"line\":{\"color\":\"rgba(255, 153, 51, 1.0)\",\"dash\":\"solid\",\"shape\":\"linear\",\"width\":1.3},\"marker\":{\"size\":10,\"symbol\":\"circle\"},\"mode\":\"markers\",\"name\":\"newCasesByPublishDate\",\"text\":\"\",\"type\":\"scatter\",\"x\":[\"2020-03-05\",\"2020-03-06\",\"2020-03-07\",\"2020-03-08\",\"2020-03-09\",\"2020-03-10\",\"2020-03-11\",\"2020-03-12\",\"2020-03-13\",\"2020-03-14\",\"2020-03-15\",\"2020-03-16\",\"2020-03-17\",\"2020-03-18\",\"2020-03-19\",\"2020-03-20\",\"2020-03-21\",\"2020-03-22\",\"2020-03-23\",\"2020-03-24\",\"2020-03-25\",\"2020-03-26\",\"2020-03-27\",\"2020-03-28\",\"2020-03-29\",\"2020-03-30\",\"2020-03-31\",\"2020-04-01\",\"2020-04-02\",\"2020-04-03\",\"2020-04-04\",\"2020-04-05\",\"2020-04-06\",\"2020-04-07\",\"2020-04-08\",\"2020-04-09\",\"2020-04-10\",\"2020-04-11\",\"2020-04-12\",\"2020-04-13\",\"2020-04-14\",\"2020-04-15\",\"2020-04-16\",\"2020-04-17\",\"2020-04-18\",\"2020-04-19\",\"2020-04-20\",\"2020-04-21\",\"2020-04-22\",\"2020-04-23\",\"2020-04-24\",\"2020-04-25\",\"2020-04-26\",\"2020-04-27\",\"2020-04-28\",\"2020-04-29\",\"2020-04-30\",\"2020-05-01\",\"2020-05-02\",\"2020-05-03\",\"2020-05-04\",\"2020-05-05\",\"2020-05-06\",\"2020-05-07\",\"2020-05-08\",\"2020-05-09\",\"2020-05-10\",\"2020-05-11\",\"2020-05-12\",\"2020-05-13\",\"2020-05-14\",\"2020-05-15\",\"2020-05-16\",\"2020-05-17\",\"2020-05-18\",\"2020-05-19\",\"2020-05-20\",\"2020-05-21\",\"2020-05-22\",\"2020-05-23\",\"2020-05-24\",\"2020-05-25\",\"2020-05-26\",\"2020-05-27\",\"2020-05-28\",\"2020-05-29\",\"2020-05-30\",\"2020-05-31\",\"2020-06-01\",\"2020-06-02\",\"2020-06-03\",\"2020-06-04\",\"2020-06-05\",\"2020-06-06\",\"2020-06-07\",\"2020-06-08\",\"2020-06-09\",\"2020-06-10\",\"2020-06-11\",\"2020-06-12\",\"2020-06-13\",\"2020-06-14\",\"2020-06-15\",\"2020-06-16\",\"2020-06-17\",\"2020-06-18\",\"2020-06-19\",\"2020-06-20\",\"2020-06-21\",\"2020-06-22\",\"2020-06-23\",\"2020-06-24\",\"2020-06-25\",\"2020-06-26\",\"2020-06-27\",\"2020-06-28\",\"2020-06-29\",\"2020-06-30\",\"2020-07-01\",\"2020-07-02\",\"2020-07-03\",\"2020-07-04\",\"2020-07-05\",\"2020-07-06\",\"2020-07-07\",\"2020-07-08\",\"2020-07-09\",\"2020-07-10\",\"2020-07-11\",\"2020-07-12\",\"2020-07-13\",\"2020-07-14\",\"2020-07-15\",\"2020-07-16\",\"2020-07-17\",\"2020-07-18\",\"2020-07-19\",\"2020-07-20\",\"2020-07-21\",\"2020-07-22\",\"2020-07-23\",\"2020-07-24\",\"2020-07-25\",\"2020-07-26\",\"2020-07-27\",\"2020-07-28\",\"2020-07-29\",\"2020-07-30\",\"2020-07-31\",\"2020-08-01\",\"2020-08-02\",\"2020-08-03\",\"2020-08-04\",\"2020-08-05\",\"2020-08-06\",\"2020-08-07\",\"2020-08-08\",\"2020-08-09\",\"2020-08-10\",\"2020-08-11\",\"2020-08-12\",\"2020-08-13\",\"2020-08-14\",\"2020-08-15\",\"2020-08-16\",\"2020-08-17\",\"2020-08-18\",\"2020-08-19\",\"2020-08-20\",\"2020-08-21\",\"2020-08-22\",\"2020-08-23\",\"2020-08-24\",\"2020-08-25\",\"2020-08-26\",\"2020-08-27\",\"2020-08-28\",\"2020-08-29\",\"2020-08-30\",\"2020-08-31\",\"2020-09-01\",\"2020-09-02\",\"2020-09-03\",\"2020-09-04\",\"2020-09-05\",\"2020-09-06\",\"2020-09-07\",\"2020-09-08\",\"2020-09-09\",\"2020-09-10\",\"2020-09-11\",\"2020-09-12\",\"2020-09-13\",\"2020-09-14\",\"2020-09-15\",\"2020-09-16\",\"2020-09-17\",\"2020-09-18\",\"2020-09-19\",\"2020-09-20\",\"2020-09-21\",\"2020-09-22\",\"2020-09-23\",\"2020-09-24\",\"2020-09-25\",\"2020-09-26\",\"2020-09-27\",\"2020-09-28\",\"2020-09-29\",\"2020-09-30\",\"2020-10-01\",\"2020-10-02\",\"2020-10-03\",\"2020-10-04\",\"2020-10-05\",\"2020-10-06\",\"2020-10-07\",\"2020-10-08\",\"2020-10-09\",\"2020-10-10\",\"2020-10-11\",\"2020-10-12\",\"2020-10-13\",\"2020-10-14\",\"2020-10-15\",\"2020-10-16\",\"2020-10-17\",\"2020-10-18\",\"2020-10-19\",\"2020-10-20\",\"2020-10-21\",\"2020-10-22\",\"2020-10-23\",\"2020-10-24\",\"2020-10-25\",\"2020-10-26\",\"2020-10-27\",\"2020-10-28\",\"2020-10-29\",\"2020-10-30\",\"2020-10-31\",\"2020-11-01\",\"2020-11-02\",\"2020-11-03\",\"2020-11-04\",\"2020-11-05\",\"2020-11-06\",\"2020-11-07\",\"2020-11-08\",\"2020-11-09\",\"2020-11-10\",\"2020-11-11\",\"2020-11-12\",\"2020-11-13\",\"2020-11-14\",\"2020-11-15\",\"2020-11-16\",\"2020-11-17\",\"2020-11-18\",\"2020-11-19\",\"2020-11-20\",\"2020-11-21\",\"2020-11-22\",\"2020-11-23\",\"2020-11-24\",\"2020-11-25\",\"2020-11-26\",\"2020-11-27\",\"2020-11-28\",\"2020-11-29\",\"2020-11-30\",\"2020-12-01\",\"2020-12-02\",\"2020-12-03\",\"2020-12-04\",\"2020-12-05\",\"2020-12-06\",\"2020-12-07\",\"2020-12-08\",\"2020-12-09\",\"2020-12-10\",\"2020-12-11\",\"2020-12-12\",\"2020-12-13\",\"2020-12-14\",\"2020-12-15\",\"2020-12-16\",\"2020-12-17\",\"2020-12-18\",\"2020-12-19\",\"2020-12-20\",\"2020-12-21\",\"2020-12-22\",\"2020-12-23\",\"2020-12-24\",\"2020-12-25\",\"2020-12-26\",\"2020-12-27\",\"2020-12-28\",\"2020-12-29\",\"2020-12-30\",\"2020-12-31\",\"2021-01-01\",\"2021-01-02\",\"2021-01-03\",\"2021-01-04\",\"2021-01-05\",\"2021-01-06\",\"2021-01-07\",\"2021-01-08\",\"2021-01-09\",\"2021-01-10\",\"2021-01-11\",\"2021-01-12\",\"2021-01-13\",\"2021-01-14\",\"2021-01-15\",\"2021-01-16\",\"2021-01-17\",\"2021-01-18\",\"2021-01-19\",\"2021-01-20\",\"2021-01-21\",\"2021-01-22\",\"2021-01-23\",\"2021-01-24\",\"2021-01-25\",\"2021-01-26\",\"2021-01-27\",\"2021-01-28\",\"2021-01-29\",\"2021-01-30\",\"2021-01-31\",\"2021-02-01\",\"2021-02-02\",\"2021-02-03\",\"2021-02-04\",\"2021-02-05\",\"2021-02-06\",\"2021-02-07\",\"2021-02-08\",\"2021-02-09\",\"2021-02-10\",\"2021-02-11\",\"2021-02-12\",\"2021-02-13\",\"2021-02-14\",\"2021-02-15\",\"2021-02-16\",\"2021-02-17\",\"2021-02-18\",\"2021-02-19\",\"2021-02-20\",\"2021-02-21\",\"2021-02-22\",\"2021-02-23\",\"2021-02-24\",\"2021-02-25\",\"2021-02-26\",\"2021-02-27\",\"2021-02-28\",\"2021-03-01\",\"2021-03-02\",\"2021-03-03\",\"2021-03-04\",\"2021-03-05\",\"2021-03-06\",\"2021-03-07\",\"2021-03-08\",\"2021-03-09\",\"2021-03-10\",\"2021-03-11\",\"2021-03-12\",\"2021-03-13\",\"2021-03-14\",\"2021-03-15\",\"2021-03-16\",\"2021-03-17\",\"2021-03-18\",\"2021-03-19\",\"2021-03-20\",\"2021-03-21\",\"2021-03-22\",\"2021-03-23\",\"2021-03-24\",\"2021-03-25\",\"2021-03-26\",\"2021-03-27\",\"2021-03-28\",\"2021-03-29\",\"2021-03-30\",\"2021-03-31\",\"2021-04-01\",\"2021-04-02\",\"2021-04-03\",\"2021-04-04\",\"2021-04-05\",\"2021-04-06\",\"2021-04-07\",\"2021-04-08\",\"2021-04-09\",\"2021-04-10\",\"2021-04-11\",\"2021-04-12\",\"2021-04-13\",\"2021-04-14\",\"2021-04-15\",\"2021-04-16\",\"2021-04-17\",\"2021-04-18\",\"2021-04-19\",\"2021-04-20\",\"2021-04-21\",\"2021-04-22\",\"2021-04-23\",\"2021-04-24\",\"2021-04-25\",\"2021-04-26\",\"2021-04-27\",\"2021-04-28\",\"2021-04-29\",\"2021-04-30\",\"2021-05-01\",\"2021-05-02\",\"2021-05-03\",\"2021-05-04\",\"2021-05-05\",\"2021-05-06\",\"2021-05-07\",\"2021-05-08\",\"2021-05-09\",\"2021-05-10\",\"2021-05-11\",\"2021-05-12\",\"2021-05-13\",\"2021-05-14\",\"2021-05-15\",\"2021-05-16\",\"2021-05-17\",\"2021-05-18\",\"2021-05-19\",\"2021-05-20\",\"2021-05-21\",\"2021-05-22\",\"2021-05-23\",\"2021-05-24\",\"2021-05-25\",\"2021-05-26\",\"2021-05-27\",\"2021-05-28\",\"2021-05-29\",\"2021-05-30\",\"2021-05-31\",\"2021-06-01\",\"2021-06-02\",\"2021-06-03\",\"2021-06-04\",\"2021-06-05\",\"2021-06-06\",\"2021-06-07\",\"2021-06-08\",\"2021-06-09\",\"2021-06-10\",\"2021-06-11\",\"2021-06-12\",\"2021-06-13\",\"2021-06-14\",\"2021-06-15\",\"2021-06-16\",\"2021-06-17\",\"2021-06-18\",\"2021-06-19\",\"2021-06-20\",\"2021-06-21\",\"2021-06-22\",\"2021-06-23\",\"2021-06-24\",\"2021-06-25\",\"2021-06-26\",\"2021-06-27\",\"2021-06-28\",\"2021-06-29\",\"2021-06-30\",\"2021-07-01\",\"2021-07-02\",\"2021-07-03\",\"2021-07-04\",\"2021-07-05\",\"2021-07-06\",\"2021-07-07\",\"2021-07-08\",\"2021-07-09\",\"2021-07-10\",\"2021-07-11\",\"2021-07-12\",\"2021-07-13\",\"2021-07-14\",\"2021-07-15\",\"2021-07-16\",\"2021-07-17\",\"2021-07-18\",\"2021-07-19\",\"2021-07-20\",\"2021-07-21\",\"2021-07-22\",\"2021-07-23\",\"2021-07-24\",\"2021-07-25\",\"2021-07-26\",\"2021-07-27\",\"2021-07-28\",\"2021-07-29\",\"2021-07-30\",\"2021-07-31\",\"2021-08-01\"],\"y\":[0.0,0.0,0.0,0.0,0.0,0.0,0.0,0.0,0.0,0.0,0.0,0.0,0.0,0.0,0.0,0.0,0.0,0.0,0.0,0.0,0.0,0.0,0.0,0.0,0.0,0.0,0.0,0.0,0.0,0.0,0.0,0.0,0.0,0.0,0.0,0.0,0.0,0.0,0.0,0.0,0.0,0.0,0.0,0.0,0.0,0.0,0.0,0.0,5.0,8.0,9.0,13.0,7.0,4.0,5.0,2.0,5.0,3.0,18.0,6.0,3.0,1.0,5.0,0.0,5.0,6.0,3.0,0.0,2.0,1.0,1.0,1.0,1.0,3.0,1.0,0.0,0.0,0.0,1.0,1.0,0.0,1.0,0.0,2.0,0.0,0.0,1.0,0.0,0.0,1.0,0.0,0.0,0.0,0.0,0.0,0.0,2.0,0.0,0.0,1.0,0.0,0.0,0.0,0.0,0.0,0.0,0.0,1.0,0.0,0.0,1.0,0.0,2.0,0.0,0.0,0.0,0.0,1.0,330.0,0.0,1.0,0.0,0.0,0.0,4.0,2.0,1.0,0.0,1.0,1.0,1.0,2.0,0.0,1.0,0.0,0.0,2.0,0.0,0.0,0.0,2.0,1.0,0.0,2.0,1.0,1.0,2.0,3.0,1.0,2.0,0.0,1.0,2.0,5.0,2.0,5.0,2.0,2.0,1.0,6.0,6.0,0.0,4.0,3.0,4.0,4.0,1.0,2.0,3.0,7.0,3.0,3.0,6.0,3.0,2.0,3.0,4.0,2.0,1.0,2.0,4.0,1.0,4.0,5.0,5.0,5.0,5.0,9.0,9.0,8.0,4.0,4.0,2.0,4.0,7.0,2.0,10.0,9.0,4.0,10.0,5.0,5.0,14.0,13.0,8.0,6.0,10.0,4.0,6.0,11.0,9.0,8.0,18.0,27.0,18.0,19.0,24.0,33.0,28.0,35.0,14.0,16.0,20.0,31.0,42.0,12.0,21.0,22.0,30.0,22.0,53.0,32.0,21.0,63.0,21.0,31.0,65.0,71.0,29.0,51.0,44.0,34.0,45.0,50.0,58.0,50.0,43.0,54.0,45.0,65.0,28.0,78.0,89.0,58.0,75.0,97.0,0.0,113.0,31.0,72.0,39.0,91.0,73.0,69.0,35.0,58.0,54.0,53.0,57.0,57.0,66.0,62.0,70.0,68.0,69.0,66.0,91.0,79.0,94.0,76.0,117.0,119.0,138.0,140.0,214.0,116.0,164.0,245.0,272.0,202.0,308.0,225.0,334.0,364.0,385.0,429.0,261.0,249.0,246.0,446.0,414.0,207.0,423.0,348.0,370.0,312.0,494.0,346.0,347.0,334.0,375.0,282.0,272.0,270.0,147.0,267.0,351.0,279.0,117.0,265.0,152.0,184.0,123.0,245.0,168.0,200.0,125.0,47.0,164.0,146.0,165.0,80.0,90.0,99.0,62.0,68.0,91.0,74.0,79.0,60.0,47.0,57.0,49.0,50.0,68.0,55.0,37.0,48.0,51.0,59.0,54.0,40.0,43.0,46.0,67.0,34.0,39.0,76.0,48.0,25.0,29.0,20.0,43.0,16.0,21.0,32.0,30.0,32.0,30.0,24.0,21.0,32.0,54.0,31.0,8.0,23.0,21.0,17.0,20.0,17.0,23.0,22.0,18.0,21.0,19.0,22.0,27.0,10.0,17.0,11.0,24.0,13.0,18.0,16.0,9.0,9.0,4.0,12.0,15.0,13.0,0.0,17.0,12.0,13.0,22.0,6.0,15.0,10.0,12.0,6.0,6.0,3.0,6.0,7.0,14.0,5.0,8.0,9.0,19.0,4.0,5.0,6.0,4.0,5.0,4.0,3.0,3.0,12.0,11.0,8.0,6.0,10.0,10.0,5.0,18.0,10.0,4.0,5.0,8.0,0.0,8.0,3.0,11.0,3.0,7.0,15.0,19.0,3.0,23.0,14.0,15.0,9.0,14.0,14.0,13.0,21.0,28.0,16.0,18.0,22.0,29.0,27.0,17.0,15.0,31.0,27.0,32.0,19.0,23.0,20.0,33.0,41.0,20.0,21.0,30.0,21.0,30.0,40.0,64.0,34.0,74.0,58.0,79.0,109.0,91.0,83.0,118.0,63.0,111.0,109.0,71.0,94.0,128.0,124.0,127.0,131.0,167.0,176.0,194.0,193.0,203.0,89.0,237.0,164.0,135.0,153.0,120.0,98.0,90.0,100.0,135.0,130.0,115.0,102.0,119.0]}],                        {\"legend\":{\"bgcolor\":\"#F5F6F9\",\"font\":{\"color\":\"#4D5663\"}},\"paper_bgcolor\":\"#F5F6F9\",\"plot_bgcolor\":\"#F5F6F9\",\"template\":{\"data\":{\"bar\":[{\"error_x\":{\"color\":\"#2a3f5f\"},\"error_y\":{\"color\":\"#2a3f5f\"},\"marker\":{\"line\":{\"color\":\"#E5ECF6\",\"width\":0.5},\"pattern\":{\"fillmode\":\"overlay\",\"size\":10,\"solidity\":0.2}},\"type\":\"bar\"}],\"barpolar\":[{\"marker\":{\"line\":{\"color\":\"#E5ECF6\",\"width\":0.5},\"pattern\":{\"fillmode\":\"overlay\",\"size\":10,\"solidity\":0.2}},\"type\":\"barpolar\"}],\"carpet\":[{\"aaxis\":{\"endlinecolor\":\"#2a3f5f\",\"gridcolor\":\"white\",\"linecolor\":\"white\",\"minorgridcolor\":\"white\",\"startlinecolor\":\"#2a3f5f\"},\"baxis\":{\"endlinecolor\":\"#2a3f5f\",\"gridcolor\":\"white\",\"linecolor\":\"white\",\"minorgridcolor\":\"white\",\"startlinecolor\":\"#2a3f5f\"},\"type\":\"carpet\"}],\"choropleth\":[{\"colorbar\":{\"outlinewidth\":0,\"ticks\":\"\"},\"type\":\"choropleth\"}],\"contour\":[{\"colorbar\":{\"outlinewidth\":0,\"ticks\":\"\"},\"colorscale\":[[0.0,\"#0d0887\"],[0.1111111111111111,\"#46039f\"],[0.2222222222222222,\"#7201a8\"],[0.3333333333333333,\"#9c179e\"],[0.4444444444444444,\"#bd3786\"],[0.5555555555555556,\"#d8576b\"],[0.6666666666666666,\"#ed7953\"],[0.7777777777777778,\"#fb9f3a\"],[0.8888888888888888,\"#fdca26\"],[1.0,\"#f0f921\"]],\"type\":\"contour\"}],\"contourcarpet\":[{\"colorbar\":{\"outlinewidth\":0,\"ticks\":\"\"},\"type\":\"contourcarpet\"}],\"heatmap\":[{\"colorbar\":{\"outlinewidth\":0,\"ticks\":\"\"},\"colorscale\":[[0.0,\"#0d0887\"],[0.1111111111111111,\"#46039f\"],[0.2222222222222222,\"#7201a8\"],[0.3333333333333333,\"#9c179e\"],[0.4444444444444444,\"#bd3786\"],[0.5555555555555556,\"#d8576b\"],[0.6666666666666666,\"#ed7953\"],[0.7777777777777778,\"#fb9f3a\"],[0.8888888888888888,\"#fdca26\"],[1.0,\"#f0f921\"]],\"type\":\"heatmap\"}],\"heatmapgl\":[{\"colorbar\":{\"outlinewidth\":0,\"ticks\":\"\"},\"colorscale\":[[0.0,\"#0d0887\"],[0.1111111111111111,\"#46039f\"],[0.2222222222222222,\"#7201a8\"],[0.3333333333333333,\"#9c179e\"],[0.4444444444444444,\"#bd3786\"],[0.5555555555555556,\"#d8576b\"],[0.6666666666666666,\"#ed7953\"],[0.7777777777777778,\"#fb9f3a\"],[0.8888888888888888,\"#fdca26\"],[1.0,\"#f0f921\"]],\"type\":\"heatmapgl\"}],\"histogram\":[{\"marker\":{\"pattern\":{\"fillmode\":\"overlay\",\"size\":10,\"solidity\":0.2}},\"type\":\"histogram\"}],\"histogram2d\":[{\"colorbar\":{\"outlinewidth\":0,\"ticks\":\"\"},\"colorscale\":[[0.0,\"#0d0887\"],[0.1111111111111111,\"#46039f\"],[0.2222222222222222,\"#7201a8\"],[0.3333333333333333,\"#9c179e\"],[0.4444444444444444,\"#bd3786\"],[0.5555555555555556,\"#d8576b\"],[0.6666666666666666,\"#ed7953\"],[0.7777777777777778,\"#fb9f3a\"],[0.8888888888888888,\"#fdca26\"],[1.0,\"#f0f921\"]],\"type\":\"histogram2d\"}],\"histogram2dcontour\":[{\"colorbar\":{\"outlinewidth\":0,\"ticks\":\"\"},\"colorscale\":[[0.0,\"#0d0887\"],[0.1111111111111111,\"#46039f\"],[0.2222222222222222,\"#7201a8\"],[0.3333333333333333,\"#9c179e\"],[0.4444444444444444,\"#bd3786\"],[0.5555555555555556,\"#d8576b\"],[0.6666666666666666,\"#ed7953\"],[0.7777777777777778,\"#fb9f3a\"],[0.8888888888888888,\"#fdca26\"],[1.0,\"#f0f921\"]],\"type\":\"histogram2dcontour\"}],\"mesh3d\":[{\"colorbar\":{\"outlinewidth\":0,\"ticks\":\"\"},\"type\":\"mesh3d\"}],\"parcoords\":[{\"line\":{\"colorbar\":{\"outlinewidth\":0,\"ticks\":\"\"}},\"type\":\"parcoords\"}],\"pie\":[{\"automargin\":true,\"type\":\"pie\"}],\"scatter\":[{\"marker\":{\"colorbar\":{\"outlinewidth\":0,\"ticks\":\"\"}},\"type\":\"scatter\"}],\"scatter3d\":[{\"line\":{\"colorbar\":{\"outlinewidth\":0,\"ticks\":\"\"}},\"marker\":{\"colorbar\":{\"outlinewidth\":0,\"ticks\":\"\"}},\"type\":\"scatter3d\"}],\"scattercarpet\":[{\"marker\":{\"colorbar\":{\"outlinewidth\":0,\"ticks\":\"\"}},\"type\":\"scattercarpet\"}],\"scattergeo\":[{\"marker\":{\"colorbar\":{\"outlinewidth\":0,\"ticks\":\"\"}},\"type\":\"scattergeo\"}],\"scattergl\":[{\"marker\":{\"colorbar\":{\"outlinewidth\":0,\"ticks\":\"\"}},\"type\":\"scattergl\"}],\"scattermapbox\":[{\"marker\":{\"colorbar\":{\"outlinewidth\":0,\"ticks\":\"\"}},\"type\":\"scattermapbox\"}],\"scatterpolar\":[{\"marker\":{\"colorbar\":{\"outlinewidth\":0,\"ticks\":\"\"}},\"type\":\"scatterpolar\"}],\"scatterpolargl\":[{\"marker\":{\"colorbar\":{\"outlinewidth\":0,\"ticks\":\"\"}},\"type\":\"scatterpolargl\"}],\"scatterternary\":[{\"marker\":{\"colorbar\":{\"outlinewidth\":0,\"ticks\":\"\"}},\"type\":\"scatterternary\"}],\"surface\":[{\"colorbar\":{\"outlinewidth\":0,\"ticks\":\"\"},\"colorscale\":[[0.0,\"#0d0887\"],[0.1111111111111111,\"#46039f\"],[0.2222222222222222,\"#7201a8\"],[0.3333333333333333,\"#9c179e\"],[0.4444444444444444,\"#bd3786\"],[0.5555555555555556,\"#d8576b\"],[0.6666666666666666,\"#ed7953\"],[0.7777777777777778,\"#fb9f3a\"],[0.8888888888888888,\"#fdca26\"],[1.0,\"#f0f921\"]],\"type\":\"surface\"}],\"table\":[{\"cells\":{\"fill\":{\"color\":\"#EBF0F8\"},\"line\":{\"color\":\"white\"}},\"header\":{\"fill\":{\"color\":\"#C8D4E3\"},\"line\":{\"color\":\"white\"}},\"type\":\"table\"}]},\"layout\":{\"annotationdefaults\":{\"arrowcolor\":\"#2a3f5f\",\"arrowhead\":0,\"arrowwidth\":1},\"autotypenumbers\":\"strict\",\"coloraxis\":{\"colorbar\":{\"outlinewidth\":0,\"ticks\":\"\"}},\"colorscale\":{\"diverging\":[[0,\"#8e0152\"],[0.1,\"#c51b7d\"],[0.2,\"#de77ae\"],[0.3,\"#f1b6da\"],[0.4,\"#fde0ef\"],[0.5,\"#f7f7f7\"],[0.6,\"#e6f5d0\"],[0.7,\"#b8e186\"],[0.8,\"#7fbc41\"],[0.9,\"#4d9221\"],[1,\"#276419\"]],\"sequential\":[[0.0,\"#0d0887\"],[0.1111111111111111,\"#46039f\"],[0.2222222222222222,\"#7201a8\"],[0.3333333333333333,\"#9c179e\"],[0.4444444444444444,\"#bd3786\"],[0.5555555555555556,\"#d8576b\"],[0.6666666666666666,\"#ed7953\"],[0.7777777777777778,\"#fb9f3a\"],[0.8888888888888888,\"#fdca26\"],[1.0,\"#f0f921\"]],\"sequentialminus\":[[0.0,\"#0d0887\"],[0.1111111111111111,\"#46039f\"],[0.2222222222222222,\"#7201a8\"],[0.3333333333333333,\"#9c179e\"],[0.4444444444444444,\"#bd3786\"],[0.5555555555555556,\"#d8576b\"],[0.6666666666666666,\"#ed7953\"],[0.7777777777777778,\"#fb9f3a\"],[0.8888888888888888,\"#fdca26\"],[1.0,\"#f0f921\"]]},\"colorway\":[\"#636efa\",\"#EF553B\",\"#00cc96\",\"#ab63fa\",\"#FFA15A\",\"#19d3f3\",\"#FF6692\",\"#B6E880\",\"#FF97FF\",\"#FECB52\"],\"font\":{\"color\":\"#2a3f5f\"},\"geo\":{\"bgcolor\":\"white\",\"lakecolor\":\"white\",\"landcolor\":\"#E5ECF6\",\"showlakes\":true,\"showland\":true,\"subunitcolor\":\"white\"},\"hoverlabel\":{\"align\":\"left\"},\"hovermode\":\"closest\",\"mapbox\":{\"style\":\"light\"},\"paper_bgcolor\":\"white\",\"plot_bgcolor\":\"#E5ECF6\",\"polar\":{\"angularaxis\":{\"gridcolor\":\"white\",\"linecolor\":\"white\",\"ticks\":\"\"},\"bgcolor\":\"#E5ECF6\",\"radialaxis\":{\"gridcolor\":\"white\",\"linecolor\":\"white\",\"ticks\":\"\"}},\"scene\":{\"xaxis\":{\"backgroundcolor\":\"#E5ECF6\",\"gridcolor\":\"white\",\"gridwidth\":2,\"linecolor\":\"white\",\"showbackground\":true,\"ticks\":\"\",\"zerolinecolor\":\"white\"},\"yaxis\":{\"backgroundcolor\":\"#E5ECF6\",\"gridcolor\":\"white\",\"gridwidth\":2,\"linecolor\":\"white\",\"showbackground\":true,\"ticks\":\"\",\"zerolinecolor\":\"white\"},\"zaxis\":{\"backgroundcolor\":\"#E5ECF6\",\"gridcolor\":\"white\",\"gridwidth\":2,\"linecolor\":\"white\",\"showbackground\":true,\"ticks\":\"\",\"zerolinecolor\":\"white\"}},\"shapedefaults\":{\"line\":{\"color\":\"#2a3f5f\"}},\"ternary\":{\"aaxis\":{\"gridcolor\":\"white\",\"linecolor\":\"white\",\"ticks\":\"\"},\"baxis\":{\"gridcolor\":\"white\",\"linecolor\":\"white\",\"ticks\":\"\"},\"bgcolor\":\"#E5ECF6\",\"caxis\":{\"gridcolor\":\"white\",\"linecolor\":\"white\",\"ticks\":\"\"}},\"title\":{\"x\":0.05},\"xaxis\":{\"automargin\":true,\"gridcolor\":\"white\",\"linecolor\":\"white\",\"ticks\":\"\",\"title\":{\"standoff\":15},\"zerolinecolor\":\"white\",\"zerolinewidth\":2},\"yaxis\":{\"automargin\":true,\"gridcolor\":\"white\",\"linecolor\":\"white\",\"ticks\":\"\",\"title\":{\"standoff\":15},\"zerolinecolor\":\"white\",\"zerolinewidth\":2}}},\"title\":{\"font\":{\"color\":\"#4D5663\"}},\"xaxis\":{\"gridcolor\":\"#E1E5ED\",\"showgrid\":true,\"tickfont\":{\"color\":\"#4D5663\"},\"title\":{\"font\":{\"color\":\"#4D5663\"},\"text\":\"\"},\"zerolinecolor\":\"#E1E5ED\"},\"yaxis\":{\"gridcolor\":\"#E1E5ED\",\"showgrid\":true,\"tickfont\":{\"color\":\"#4D5663\"},\"title\":{\"font\":{\"color\":\"#4D5663\"},\"text\":\"\"},\"zerolinecolor\":\"#E1E5ED\"}},                        {\"showLink\": true, \"linkText\": \"Export to plot.ly\", \"plotlyServerURL\": \"https://plot.ly\", \"responsive\": true}                    ).then(function(){\n",
                            "                            \n",
                            "var gd = document.getElementById('db593f32-7e72-43e6-9928-2e4128ed9782');\n",
                            "var x = new MutationObserver(function (mutations, observer) {{\n",
                            "        var display = window.getComputedStyle(gd).display;\n",
                            "        if (!display || display === 'none') {{\n",
                            "            console.log([gd, 'removed!']);\n",
                            "            Plotly.purge(gd);\n",
                            "            observer.disconnect();\n",
                            "        }}\n",
                            "}});\n",
                            "\n",
                            "// Listen for the removal of the full notebook cells\n",
                            "var notebookContainer = gd.closest('#notebook-container');\n",
                            "if (notebookContainer) {{\n",
                            "    x.observe(notebookContainer, {childList: true});\n",
                            "}}\n",
                            "\n",
                            "// Listen for the clearing of the current output cell\n",
                            "var outputEl = gd.closest('.output');\n",
                            "if (outputEl) {{\n",
                            "    x.observe(outputEl, {childList: true});\n",
                            "}}\n",
                            "\n",
                            "                        })                };                });            </script>        </div>"
                        ],
                        "application/vnd.plotly.v1+json": {
                            "config": {
                                "linkText": "Export to plot.ly",
                                "plotlyServerURL": "https://plot.ly",
                                "showLink": true
                            },
                            "data": [
                                {
                                    "line": {
                                        "color": "rgba(255, 153, 51, 1.0)",
                                        "dash": "solid",
                                        "shape": "linear",
                                        "width": 1.3
                                    },
                                    "marker": {
                                        "size": 10,
                                        "symbol": "circle"
                                    },
                                    "mode": "markers",
                                    "name": "newCasesByPublishDate",
                                    "text": "",
                                    "type": "scatter",
                                    "x": [
                                        "2020-03-05",
                                        "2020-03-06",
                                        "2020-03-07",
                                        "2020-03-08",
                                        "2020-03-09",
                                        "2020-03-10",
                                        "2020-03-11",
                                        "2020-03-12",
                                        "2020-03-13",
                                        "2020-03-14",
                                        "2020-03-15",
                                        "2020-03-16",
                                        "2020-03-17",
                                        "2020-03-18",
                                        "2020-03-19",
                                        "2020-03-20",
                                        "2020-03-21",
                                        "2020-03-22",
                                        "2020-03-23",
                                        "2020-03-24",
                                        "2020-03-25",
                                        "2020-03-26",
                                        "2020-03-27",
                                        "2020-03-28",
                                        "2020-03-29",
                                        "2020-03-30",
                                        "2020-03-31",
                                        "2020-04-01",
                                        "2020-04-02",
                                        "2020-04-03",
                                        "2020-04-04",
                                        "2020-04-05",
                                        "2020-04-06",
                                        "2020-04-07",
                                        "2020-04-08",
                                        "2020-04-09",
                                        "2020-04-10",
                                        "2020-04-11",
                                        "2020-04-12",
                                        "2020-04-13",
                                        "2020-04-14",
                                        "2020-04-15",
                                        "2020-04-16",
                                        "2020-04-17",
                                        "2020-04-18",
                                        "2020-04-19",
                                        "2020-04-20",
                                        "2020-04-21",
                                        "2020-04-22",
                                        "2020-04-23",
                                        "2020-04-24",
                                        "2020-04-25",
                                        "2020-04-26",
                                        "2020-04-27",
                                        "2020-04-28",
                                        "2020-04-29",
                                        "2020-04-30",
                                        "2020-05-01",
                                        "2020-05-02",
                                        "2020-05-03",
                                        "2020-05-04",
                                        "2020-05-05",
                                        "2020-05-06",
                                        "2020-05-07",
                                        "2020-05-08",
                                        "2020-05-09",
                                        "2020-05-10",
                                        "2020-05-11",
                                        "2020-05-12",
                                        "2020-05-13",
                                        "2020-05-14",
                                        "2020-05-15",
                                        "2020-05-16",
                                        "2020-05-17",
                                        "2020-05-18",
                                        "2020-05-19",
                                        "2020-05-20",
                                        "2020-05-21",
                                        "2020-05-22",
                                        "2020-05-23",
                                        "2020-05-24",
                                        "2020-05-25",
                                        "2020-05-26",
                                        "2020-05-27",
                                        "2020-05-28",
                                        "2020-05-29",
                                        "2020-05-30",
                                        "2020-05-31",
                                        "2020-06-01",
                                        "2020-06-02",
                                        "2020-06-03",
                                        "2020-06-04",
                                        "2020-06-05",
                                        "2020-06-06",
                                        "2020-06-07",
                                        "2020-06-08",
                                        "2020-06-09",
                                        "2020-06-10",
                                        "2020-06-11",
                                        "2020-06-12",
                                        "2020-06-13",
                                        "2020-06-14",
                                        "2020-06-15",
                                        "2020-06-16",
                                        "2020-06-17",
                                        "2020-06-18",
                                        "2020-06-19",
                                        "2020-06-20",
                                        "2020-06-21",
                                        "2020-06-22",
                                        "2020-06-23",
                                        "2020-06-24",
                                        "2020-06-25",
                                        "2020-06-26",
                                        "2020-06-27",
                                        "2020-06-28",
                                        "2020-06-29",
                                        "2020-06-30",
                                        "2020-07-01",
                                        "2020-07-02",
                                        "2020-07-03",
                                        "2020-07-04",
                                        "2020-07-05",
                                        "2020-07-06",
                                        "2020-07-07",
                                        "2020-07-08",
                                        "2020-07-09",
                                        "2020-07-10",
                                        "2020-07-11",
                                        "2020-07-12",
                                        "2020-07-13",
                                        "2020-07-14",
                                        "2020-07-15",
                                        "2020-07-16",
                                        "2020-07-17",
                                        "2020-07-18",
                                        "2020-07-19",
                                        "2020-07-20",
                                        "2020-07-21",
                                        "2020-07-22",
                                        "2020-07-23",
                                        "2020-07-24",
                                        "2020-07-25",
                                        "2020-07-26",
                                        "2020-07-27",
                                        "2020-07-28",
                                        "2020-07-29",
                                        "2020-07-30",
                                        "2020-07-31",
                                        "2020-08-01",
                                        "2020-08-02",
                                        "2020-08-03",
                                        "2020-08-04",
                                        "2020-08-05",
                                        "2020-08-06",
                                        "2020-08-07",
                                        "2020-08-08",
                                        "2020-08-09",
                                        "2020-08-10",
                                        "2020-08-11",
                                        "2020-08-12",
                                        "2020-08-13",
                                        "2020-08-14",
                                        "2020-08-15",
                                        "2020-08-16",
                                        "2020-08-17",
                                        "2020-08-18",
                                        "2020-08-19",
                                        "2020-08-20",
                                        "2020-08-21",
                                        "2020-08-22",
                                        "2020-08-23",
                                        "2020-08-24",
                                        "2020-08-25",
                                        "2020-08-26",
                                        "2020-08-27",
                                        "2020-08-28",
                                        "2020-08-29",
                                        "2020-08-30",
                                        "2020-08-31",
                                        "2020-09-01",
                                        "2020-09-02",
                                        "2020-09-03",
                                        "2020-09-04",
                                        "2020-09-05",
                                        "2020-09-06",
                                        "2020-09-07",
                                        "2020-09-08",
                                        "2020-09-09",
                                        "2020-09-10",
                                        "2020-09-11",
                                        "2020-09-12",
                                        "2020-09-13",
                                        "2020-09-14",
                                        "2020-09-15",
                                        "2020-09-16",
                                        "2020-09-17",
                                        "2020-09-18",
                                        "2020-09-19",
                                        "2020-09-20",
                                        "2020-09-21",
                                        "2020-09-22",
                                        "2020-09-23",
                                        "2020-09-24",
                                        "2020-09-25",
                                        "2020-09-26",
                                        "2020-09-27",
                                        "2020-09-28",
                                        "2020-09-29",
                                        "2020-09-30",
                                        "2020-10-01",
                                        "2020-10-02",
                                        "2020-10-03",
                                        "2020-10-04",
                                        "2020-10-05",
                                        "2020-10-06",
                                        "2020-10-07",
                                        "2020-10-08",
                                        "2020-10-09",
                                        "2020-10-10",
                                        "2020-10-11",
                                        "2020-10-12",
                                        "2020-10-13",
                                        "2020-10-14",
                                        "2020-10-15",
                                        "2020-10-16",
                                        "2020-10-17",
                                        "2020-10-18",
                                        "2020-10-19",
                                        "2020-10-20",
                                        "2020-10-21",
                                        "2020-10-22",
                                        "2020-10-23",
                                        "2020-10-24",
                                        "2020-10-25",
                                        "2020-10-26",
                                        "2020-10-27",
                                        "2020-10-28",
                                        "2020-10-29",
                                        "2020-10-30",
                                        "2020-10-31",
                                        "2020-11-01",
                                        "2020-11-02",
                                        "2020-11-03",
                                        "2020-11-04",
                                        "2020-11-05",
                                        "2020-11-06",
                                        "2020-11-07",
                                        "2020-11-08",
                                        "2020-11-09",
                                        "2020-11-10",
                                        "2020-11-11",
                                        "2020-11-12",
                                        "2020-11-13",
                                        "2020-11-14",
                                        "2020-11-15",
                                        "2020-11-16",
                                        "2020-11-17",
                                        "2020-11-18",
                                        "2020-11-19",
                                        "2020-11-20",
                                        "2020-11-21",
                                        "2020-11-22",
                                        "2020-11-23",
                                        "2020-11-24",
                                        "2020-11-25",
                                        "2020-11-26",
                                        "2020-11-27",
                                        "2020-11-28",
                                        "2020-11-29",
                                        "2020-11-30",
                                        "2020-12-01",
                                        "2020-12-02",
                                        "2020-12-03",
                                        "2020-12-04",
                                        "2020-12-05",
                                        "2020-12-06",
                                        "2020-12-07",
                                        "2020-12-08",
                                        "2020-12-09",
                                        "2020-12-10",
                                        "2020-12-11",
                                        "2020-12-12",
                                        "2020-12-13",
                                        "2020-12-14",
                                        "2020-12-15",
                                        "2020-12-16",
                                        "2020-12-17",
                                        "2020-12-18",
                                        "2020-12-19",
                                        "2020-12-20",
                                        "2020-12-21",
                                        "2020-12-22",
                                        "2020-12-23",
                                        "2020-12-24",
                                        "2020-12-25",
                                        "2020-12-26",
                                        "2020-12-27",
                                        "2020-12-28",
                                        "2020-12-29",
                                        "2020-12-30",
                                        "2020-12-31",
                                        "2021-01-01",
                                        "2021-01-02",
                                        "2021-01-03",
                                        "2021-01-04",
                                        "2021-01-05",
                                        "2021-01-06",
                                        "2021-01-07",
                                        "2021-01-08",
                                        "2021-01-09",
                                        "2021-01-10",
                                        "2021-01-11",
                                        "2021-01-12",
                                        "2021-01-13",
                                        "2021-01-14",
                                        "2021-01-15",
                                        "2021-01-16",
                                        "2021-01-17",
                                        "2021-01-18",
                                        "2021-01-19",
                                        "2021-01-20",
                                        "2021-01-21",
                                        "2021-01-22",
                                        "2021-01-23",
                                        "2021-01-24",
                                        "2021-01-25",
                                        "2021-01-26",
                                        "2021-01-27",
                                        "2021-01-28",
                                        "2021-01-29",
                                        "2021-01-30",
                                        "2021-01-31",
                                        "2021-02-01",
                                        "2021-02-02",
                                        "2021-02-03",
                                        "2021-02-04",
                                        "2021-02-05",
                                        "2021-02-06",
                                        "2021-02-07",
                                        "2021-02-08",
                                        "2021-02-09",
                                        "2021-02-10",
                                        "2021-02-11",
                                        "2021-02-12",
                                        "2021-02-13",
                                        "2021-02-14",
                                        "2021-02-15",
                                        "2021-02-16",
                                        "2021-02-17",
                                        "2021-02-18",
                                        "2021-02-19",
                                        "2021-02-20",
                                        "2021-02-21",
                                        "2021-02-22",
                                        "2021-02-23",
                                        "2021-02-24",
                                        "2021-02-25",
                                        "2021-02-26",
                                        "2021-02-27",
                                        "2021-02-28",
                                        "2021-03-01",
                                        "2021-03-02",
                                        "2021-03-03",
                                        "2021-03-04",
                                        "2021-03-05",
                                        "2021-03-06",
                                        "2021-03-07",
                                        "2021-03-08",
                                        "2021-03-09",
                                        "2021-03-10",
                                        "2021-03-11",
                                        "2021-03-12",
                                        "2021-03-13",
                                        "2021-03-14",
                                        "2021-03-15",
                                        "2021-03-16",
                                        "2021-03-17",
                                        "2021-03-18",
                                        "2021-03-19",
                                        "2021-03-20",
                                        "2021-03-21",
                                        "2021-03-22",
                                        "2021-03-23",
                                        "2021-03-24",
                                        "2021-03-25",
                                        "2021-03-26",
                                        "2021-03-27",
                                        "2021-03-28",
                                        "2021-03-29",
                                        "2021-03-30",
                                        "2021-03-31",
                                        "2021-04-01",
                                        "2021-04-02",
                                        "2021-04-03",
                                        "2021-04-04",
                                        "2021-04-05",
                                        "2021-04-06",
                                        "2021-04-07",
                                        "2021-04-08",
                                        "2021-04-09",
                                        "2021-04-10",
                                        "2021-04-11",
                                        "2021-04-12",
                                        "2021-04-13",
                                        "2021-04-14",
                                        "2021-04-15",
                                        "2021-04-16",
                                        "2021-04-17",
                                        "2021-04-18",
                                        "2021-04-19",
                                        "2021-04-20",
                                        "2021-04-21",
                                        "2021-04-22",
                                        "2021-04-23",
                                        "2021-04-24",
                                        "2021-04-25",
                                        "2021-04-26",
                                        "2021-04-27",
                                        "2021-04-28",
                                        "2021-04-29",
                                        "2021-04-30",
                                        "2021-05-01",
                                        "2021-05-02",
                                        "2021-05-03",
                                        "2021-05-04",
                                        "2021-05-05",
                                        "2021-05-06",
                                        "2021-05-07",
                                        "2021-05-08",
                                        "2021-05-09",
                                        "2021-05-10",
                                        "2021-05-11",
                                        "2021-05-12",
                                        "2021-05-13",
                                        "2021-05-14",
                                        "2021-05-15",
                                        "2021-05-16",
                                        "2021-05-17",
                                        "2021-05-18",
                                        "2021-05-19",
                                        "2021-05-20",
                                        "2021-05-21",
                                        "2021-05-22",
                                        "2021-05-23",
                                        "2021-05-24",
                                        "2021-05-25",
                                        "2021-05-26",
                                        "2021-05-27",
                                        "2021-05-28",
                                        "2021-05-29",
                                        "2021-05-30",
                                        "2021-05-31",
                                        "2021-06-01",
                                        "2021-06-02",
                                        "2021-06-03",
                                        "2021-06-04",
                                        "2021-06-05",
                                        "2021-06-06",
                                        "2021-06-07",
                                        "2021-06-08",
                                        "2021-06-09",
                                        "2021-06-10",
                                        "2021-06-11",
                                        "2021-06-12",
                                        "2021-06-13",
                                        "2021-06-14",
                                        "2021-06-15",
                                        "2021-06-16",
                                        "2021-06-17",
                                        "2021-06-18",
                                        "2021-06-19",
                                        "2021-06-20",
                                        "2021-06-21",
                                        "2021-06-22",
                                        "2021-06-23",
                                        "2021-06-24",
                                        "2021-06-25",
                                        "2021-06-26",
                                        "2021-06-27",
                                        "2021-06-28",
                                        "2021-06-29",
                                        "2021-06-30",
                                        "2021-07-01",
                                        "2021-07-02",
                                        "2021-07-03",
                                        "2021-07-04",
                                        "2021-07-05",
                                        "2021-07-06",
                                        "2021-07-07",
                                        "2021-07-08",
                                        "2021-07-09",
                                        "2021-07-10",
                                        "2021-07-11",
                                        "2021-07-12",
                                        "2021-07-13",
                                        "2021-07-14",
                                        "2021-07-15",
                                        "2021-07-16",
                                        "2021-07-17",
                                        "2021-07-18",
                                        "2021-07-19",
                                        "2021-07-20",
                                        "2021-07-21",
                                        "2021-07-22",
                                        "2021-07-23",
                                        "2021-07-24",
                                        "2021-07-25",
                                        "2021-07-26",
                                        "2021-07-27",
                                        "2021-07-28",
                                        "2021-07-29",
                                        "2021-07-30",
                                        "2021-07-31",
                                        "2021-08-01"
                                    ],
                                    "y": [
                                        0,
                                        0,
                                        0,
                                        0,
                                        0,
                                        0,
                                        0,
                                        0,
                                        0,
                                        0,
                                        0,
                                        0,
                                        0,
                                        0,
                                        0,
                                        0,
                                        0,
                                        0,
                                        0,
                                        0,
                                        0,
                                        0,
                                        0,
                                        0,
                                        0,
                                        0,
                                        0,
                                        0,
                                        0,
                                        0,
                                        0,
                                        0,
                                        0,
                                        0,
                                        0,
                                        0,
                                        0,
                                        0,
                                        0,
                                        0,
                                        0,
                                        0,
                                        0,
                                        0,
                                        0,
                                        0,
                                        0,
                                        0,
                                        5,
                                        8,
                                        9,
                                        13,
                                        7,
                                        4,
                                        5,
                                        2,
                                        5,
                                        3,
                                        18,
                                        6,
                                        3,
                                        1,
                                        5,
                                        0,
                                        5,
                                        6,
                                        3,
                                        0,
                                        2,
                                        1,
                                        1,
                                        1,
                                        1,
                                        3,
                                        1,
                                        0,
                                        0,
                                        0,
                                        1,
                                        1,
                                        0,
                                        1,
                                        0,
                                        2,
                                        0,
                                        0,
                                        1,
                                        0,
                                        0,
                                        1,
                                        0,
                                        0,
                                        0,
                                        0,
                                        0,
                                        0,
                                        2,
                                        0,
                                        0,
                                        1,
                                        0,
                                        0,
                                        0,
                                        0,
                                        0,
                                        0,
                                        0,
                                        1,
                                        0,
                                        0,
                                        1,
                                        0,
                                        2,
                                        0,
                                        0,
                                        0,
                                        0,
                                        1,
                                        330,
                                        0,
                                        1,
                                        0,
                                        0,
                                        0,
                                        4,
                                        2,
                                        1,
                                        0,
                                        1,
                                        1,
                                        1,
                                        2,
                                        0,
                                        1,
                                        0,
                                        0,
                                        2,
                                        0,
                                        0,
                                        0,
                                        2,
                                        1,
                                        0,
                                        2,
                                        1,
                                        1,
                                        2,
                                        3,
                                        1,
                                        2,
                                        0,
                                        1,
                                        2,
                                        5,
                                        2,
                                        5,
                                        2,
                                        2,
                                        1,
                                        6,
                                        6,
                                        0,
                                        4,
                                        3,
                                        4,
                                        4,
                                        1,
                                        2,
                                        3,
                                        7,
                                        3,
                                        3,
                                        6,
                                        3,
                                        2,
                                        3,
                                        4,
                                        2,
                                        1,
                                        2,
                                        4,
                                        1,
                                        4,
                                        5,
                                        5,
                                        5,
                                        5,
                                        9,
                                        9,
                                        8,
                                        4,
                                        4,
                                        2,
                                        4,
                                        7,
                                        2,
                                        10,
                                        9,
                                        4,
                                        10,
                                        5,
                                        5,
                                        14,
                                        13,
                                        8,
                                        6,
                                        10,
                                        4,
                                        6,
                                        11,
                                        9,
                                        8,
                                        18,
                                        27,
                                        18,
                                        19,
                                        24,
                                        33,
                                        28,
                                        35,
                                        14,
                                        16,
                                        20,
                                        31,
                                        42,
                                        12,
                                        21,
                                        22,
                                        30,
                                        22,
                                        53,
                                        32,
                                        21,
                                        63,
                                        21,
                                        31,
                                        65,
                                        71,
                                        29,
                                        51,
                                        44,
                                        34,
                                        45,
                                        50,
                                        58,
                                        50,
                                        43,
                                        54,
                                        45,
                                        65,
                                        28,
                                        78,
                                        89,
                                        58,
                                        75,
                                        97,
                                        0,
                                        113,
                                        31,
                                        72,
                                        39,
                                        91,
                                        73,
                                        69,
                                        35,
                                        58,
                                        54,
                                        53,
                                        57,
                                        57,
                                        66,
                                        62,
                                        70,
                                        68,
                                        69,
                                        66,
                                        91,
                                        79,
                                        94,
                                        76,
                                        117,
                                        119,
                                        138,
                                        140,
                                        214,
                                        116,
                                        164,
                                        245,
                                        272,
                                        202,
                                        308,
                                        225,
                                        334,
                                        364,
                                        385,
                                        429,
                                        261,
                                        249,
                                        246,
                                        446,
                                        414,
                                        207,
                                        423,
                                        348,
                                        370,
                                        312,
                                        494,
                                        346,
                                        347,
                                        334,
                                        375,
                                        282,
                                        272,
                                        270,
                                        147,
                                        267,
                                        351,
                                        279,
                                        117,
                                        265,
                                        152,
                                        184,
                                        123,
                                        245,
                                        168,
                                        200,
                                        125,
                                        47,
                                        164,
                                        146,
                                        165,
                                        80,
                                        90,
                                        99,
                                        62,
                                        68,
                                        91,
                                        74,
                                        79,
                                        60,
                                        47,
                                        57,
                                        49,
                                        50,
                                        68,
                                        55,
                                        37,
                                        48,
                                        51,
                                        59,
                                        54,
                                        40,
                                        43,
                                        46,
                                        67,
                                        34,
                                        39,
                                        76,
                                        48,
                                        25,
                                        29,
                                        20,
                                        43,
                                        16,
                                        21,
                                        32,
                                        30,
                                        32,
                                        30,
                                        24,
                                        21,
                                        32,
                                        54,
                                        31,
                                        8,
                                        23,
                                        21,
                                        17,
                                        20,
                                        17,
                                        23,
                                        22,
                                        18,
                                        21,
                                        19,
                                        22,
                                        27,
                                        10,
                                        17,
                                        11,
                                        24,
                                        13,
                                        18,
                                        16,
                                        9,
                                        9,
                                        4,
                                        12,
                                        15,
                                        13,
                                        0,
                                        17,
                                        12,
                                        13,
                                        22,
                                        6,
                                        15,
                                        10,
                                        12,
                                        6,
                                        6,
                                        3,
                                        6,
                                        7,
                                        14,
                                        5,
                                        8,
                                        9,
                                        19,
                                        4,
                                        5,
                                        6,
                                        4,
                                        5,
                                        4,
                                        3,
                                        3,
                                        12,
                                        11,
                                        8,
                                        6,
                                        10,
                                        10,
                                        5,
                                        18,
                                        10,
                                        4,
                                        5,
                                        8,
                                        0,
                                        8,
                                        3,
                                        11,
                                        3,
                                        7,
                                        15,
                                        19,
                                        3,
                                        23,
                                        14,
                                        15,
                                        9,
                                        14,
                                        14,
                                        13,
                                        21,
                                        28,
                                        16,
                                        18,
                                        22,
                                        29,
                                        27,
                                        17,
                                        15,
                                        31,
                                        27,
                                        32,
                                        19,
                                        23,
                                        20,
                                        33,
                                        41,
                                        20,
                                        21,
                                        30,
                                        21,
                                        30,
                                        40,
                                        64,
                                        34,
                                        74,
                                        58,
                                        79,
                                        109,
                                        91,
                                        83,
                                        118,
                                        63,
                                        111,
                                        109,
                                        71,
                                        94,
                                        128,
                                        124,
                                        127,
                                        131,
                                        167,
                                        176,
                                        194,
                                        193,
                                        203,
                                        89,
                                        237,
                                        164,
                                        135,
                                        153,
                                        120,
                                        98,
                                        90,
                                        100,
                                        135,
                                        130,
                                        115,
                                        102,
                                        119
                                    ]
                                }
                            ],
                            "layout": {
                                "legend": {
                                    "bgcolor": "#F5F6F9",
                                    "font": {
                                        "color": "#4D5663"
                                    }
                                },
                                "paper_bgcolor": "#F5F6F9",
                                "plot_bgcolor": "#F5F6F9",
                                "template": {
                                    "data": {
                                        "bar": [
                                            {
                                                "error_x": {
                                                    "color": "#2a3f5f"
                                                },
                                                "error_y": {
                                                    "color": "#2a3f5f"
                                                },
                                                "marker": {
                                                    "line": {
                                                        "color": "#E5ECF6",
                                                        "width": 0.5
                                                    },
                                                    "pattern": {
                                                        "fillmode": "overlay",
                                                        "size": 10,
                                                        "solidity": 0.2
                                                    }
                                                },
                                                "type": "bar"
                                            }
                                        ],
                                        "barpolar": [
                                            {
                                                "marker": {
                                                    "line": {
                                                        "color": "#E5ECF6",
                                                        "width": 0.5
                                                    },
                                                    "pattern": {
                                                        "fillmode": "overlay",
                                                        "size": 10,
                                                        "solidity": 0.2
                                                    }
                                                },
                                                "type": "barpolar"
                                            }
                                        ],
                                        "carpet": [
                                            {
                                                "aaxis": {
                                                    "endlinecolor": "#2a3f5f",
                                                    "gridcolor": "white",
                                                    "linecolor": "white",
                                                    "minorgridcolor": "white",
                                                    "startlinecolor": "#2a3f5f"
                                                },
                                                "baxis": {
                                                    "endlinecolor": "#2a3f5f",
                                                    "gridcolor": "white",
                                                    "linecolor": "white",
                                                    "minorgridcolor": "white",
                                                    "startlinecolor": "#2a3f5f"
                                                },
                                                "type": "carpet"
                                            }
                                        ],
                                        "choropleth": [
                                            {
                                                "colorbar": {
                                                    "outlinewidth": 0,
                                                    "ticks": ""
                                                },
                                                "type": "choropleth"
                                            }
                                        ],
                                        "contour": [
                                            {
                                                "colorbar": {
                                                    "outlinewidth": 0,
                                                    "ticks": ""
                                                },
                                                "colorscale": [
                                                    [
                                                        0,
                                                        "#0d0887"
                                                    ],
                                                    [
                                                        0.1111111111111111,
                                                        "#46039f"
                                                    ],
                                                    [
                                                        0.2222222222222222,
                                                        "#7201a8"
                                                    ],
                                                    [
                                                        0.3333333333333333,
                                                        "#9c179e"
                                                    ],
                                                    [
                                                        0.4444444444444444,
                                                        "#bd3786"
                                                    ],
                                                    [
                                                        0.5555555555555556,
                                                        "#d8576b"
                                                    ],
                                                    [
                                                        0.6666666666666666,
                                                        "#ed7953"
                                                    ],
                                                    [
                                                        0.7777777777777778,
                                                        "#fb9f3a"
                                                    ],
                                                    [
                                                        0.8888888888888888,
                                                        "#fdca26"
                                                    ],
                                                    [
                                                        1,
                                                        "#f0f921"
                                                    ]
                                                ],
                                                "type": "contour"
                                            }
                                        ],
                                        "contourcarpet": [
                                            {
                                                "colorbar": {
                                                    "outlinewidth": 0,
                                                    "ticks": ""
                                                },
                                                "type": "contourcarpet"
                                            }
                                        ],
                                        "heatmap": [
                                            {
                                                "colorbar": {
                                                    "outlinewidth": 0,
                                                    "ticks": ""
                                                },
                                                "colorscale": [
                                                    [
                                                        0,
                                                        "#0d0887"
                                                    ],
                                                    [
                                                        0.1111111111111111,
                                                        "#46039f"
                                                    ],
                                                    [
                                                        0.2222222222222222,
                                                        "#7201a8"
                                                    ],
                                                    [
                                                        0.3333333333333333,
                                                        "#9c179e"
                                                    ],
                                                    [
                                                        0.4444444444444444,
                                                        "#bd3786"
                                                    ],
                                                    [
                                                        0.5555555555555556,
                                                        "#d8576b"
                                                    ],
                                                    [
                                                        0.6666666666666666,
                                                        "#ed7953"
                                                    ],
                                                    [
                                                        0.7777777777777778,
                                                        "#fb9f3a"
                                                    ],
                                                    [
                                                        0.8888888888888888,
                                                        "#fdca26"
                                                    ],
                                                    [
                                                        1,
                                                        "#f0f921"
                                                    ]
                                                ],
                                                "type": "heatmap"
                                            }
                                        ],
                                        "heatmapgl": [
                                            {
                                                "colorbar": {
                                                    "outlinewidth": 0,
                                                    "ticks": ""
                                                },
                                                "colorscale": [
                                                    [
                                                        0,
                                                        "#0d0887"
                                                    ],
                                                    [
                                                        0.1111111111111111,
                                                        "#46039f"
                                                    ],
                                                    [
                                                        0.2222222222222222,
                                                        "#7201a8"
                                                    ],
                                                    [
                                                        0.3333333333333333,
                                                        "#9c179e"
                                                    ],
                                                    [
                                                        0.4444444444444444,
                                                        "#bd3786"
                                                    ],
                                                    [
                                                        0.5555555555555556,
                                                        "#d8576b"
                                                    ],
                                                    [
                                                        0.6666666666666666,
                                                        "#ed7953"
                                                    ],
                                                    [
                                                        0.7777777777777778,
                                                        "#fb9f3a"
                                                    ],
                                                    [
                                                        0.8888888888888888,
                                                        "#fdca26"
                                                    ],
                                                    [
                                                        1,
                                                        "#f0f921"
                                                    ]
                                                ],
                                                "type": "heatmapgl"
                                            }
                                        ],
                                        "histogram": [
                                            {
                                                "marker": {
                                                    "pattern": {
                                                        "fillmode": "overlay",
                                                        "size": 10,
                                                        "solidity": 0.2
                                                    }
                                                },
                                                "type": "histogram"
                                            }
                                        ],
                                        "histogram2d": [
                                            {
                                                "colorbar": {
                                                    "outlinewidth": 0,
                                                    "ticks": ""
                                                },
                                                "colorscale": [
                                                    [
                                                        0,
                                                        "#0d0887"
                                                    ],
                                                    [
                                                        0.1111111111111111,
                                                        "#46039f"
                                                    ],
                                                    [
                                                        0.2222222222222222,
                                                        "#7201a8"
                                                    ],
                                                    [
                                                        0.3333333333333333,
                                                        "#9c179e"
                                                    ],
                                                    [
                                                        0.4444444444444444,
                                                        "#bd3786"
                                                    ],
                                                    [
                                                        0.5555555555555556,
                                                        "#d8576b"
                                                    ],
                                                    [
                                                        0.6666666666666666,
                                                        "#ed7953"
                                                    ],
                                                    [
                                                        0.7777777777777778,
                                                        "#fb9f3a"
                                                    ],
                                                    [
                                                        0.8888888888888888,
                                                        "#fdca26"
                                                    ],
                                                    [
                                                        1,
                                                        "#f0f921"
                                                    ]
                                                ],
                                                "type": "histogram2d"
                                            }
                                        ],
                                        "histogram2dcontour": [
                                            {
                                                "colorbar": {
                                                    "outlinewidth": 0,
                                                    "ticks": ""
                                                },
                                                "colorscale": [
                                                    [
                                                        0,
                                                        "#0d0887"
                                                    ],
                                                    [
                                                        0.1111111111111111,
                                                        "#46039f"
                                                    ],
                                                    [
                                                        0.2222222222222222,
                                                        "#7201a8"
                                                    ],
                                                    [
                                                        0.3333333333333333,
                                                        "#9c179e"
                                                    ],
                                                    [
                                                        0.4444444444444444,
                                                        "#bd3786"
                                                    ],
                                                    [
                                                        0.5555555555555556,
                                                        "#d8576b"
                                                    ],
                                                    [
                                                        0.6666666666666666,
                                                        "#ed7953"
                                                    ],
                                                    [
                                                        0.7777777777777778,
                                                        "#fb9f3a"
                                                    ],
                                                    [
                                                        0.8888888888888888,
                                                        "#fdca26"
                                                    ],
                                                    [
                                                        1,
                                                        "#f0f921"
                                                    ]
                                                ],
                                                "type": "histogram2dcontour"
                                            }
                                        ],
                                        "mesh3d": [
                                            {
                                                "colorbar": {
                                                    "outlinewidth": 0,
                                                    "ticks": ""
                                                },
                                                "type": "mesh3d"
                                            }
                                        ],
                                        "parcoords": [
                                            {
                                                "line": {
                                                    "colorbar": {
                                                        "outlinewidth": 0,
                                                        "ticks": ""
                                                    }
                                                },
                                                "type": "parcoords"
                                            }
                                        ],
                                        "pie": [
                                            {
                                                "automargin": true,
                                                "type": "pie"
                                            }
                                        ],
                                        "scatter": [
                                            {
                                                "marker": {
                                                    "colorbar": {
                                                        "outlinewidth": 0,
                                                        "ticks": ""
                                                    }
                                                },
                                                "type": "scatter"
                                            }
                                        ],
                                        "scatter3d": [
                                            {
                                                "line": {
                                                    "colorbar": {
                                                        "outlinewidth": 0,
                                                        "ticks": ""
                                                    }
                                                },
                                                "marker": {
                                                    "colorbar": {
                                                        "outlinewidth": 0,
                                                        "ticks": ""
                                                    }
                                                },
                                                "type": "scatter3d"
                                            }
                                        ],
                                        "scattercarpet": [
                                            {
                                                "marker": {
                                                    "colorbar": {
                                                        "outlinewidth": 0,
                                                        "ticks": ""
                                                    }
                                                },
                                                "type": "scattercarpet"
                                            }
                                        ],
                                        "scattergeo": [
                                            {
                                                "marker": {
                                                    "colorbar": {
                                                        "outlinewidth": 0,
                                                        "ticks": ""
                                                    }
                                                },
                                                "type": "scattergeo"
                                            }
                                        ],
                                        "scattergl": [
                                            {
                                                "marker": {
                                                    "colorbar": {
                                                        "outlinewidth": 0,
                                                        "ticks": ""
                                                    }
                                                },
                                                "type": "scattergl"
                                            }
                                        ],
                                        "scattermapbox": [
                                            {
                                                "marker": {
                                                    "colorbar": {
                                                        "outlinewidth": 0,
                                                        "ticks": ""
                                                    }
                                                },
                                                "type": "scattermapbox"
                                            }
                                        ],
                                        "scatterpolar": [
                                            {
                                                "marker": {
                                                    "colorbar": {
                                                        "outlinewidth": 0,
                                                        "ticks": ""
                                                    }
                                                },
                                                "type": "scatterpolar"
                                            }
                                        ],
                                        "scatterpolargl": [
                                            {
                                                "marker": {
                                                    "colorbar": {
                                                        "outlinewidth": 0,
                                                        "ticks": ""
                                                    }
                                                },
                                                "type": "scatterpolargl"
                                            }
                                        ],
                                        "scatterternary": [
                                            {
                                                "marker": {
                                                    "colorbar": {
                                                        "outlinewidth": 0,
                                                        "ticks": ""
                                                    }
                                                },
                                                "type": "scatterternary"
                                            }
                                        ],
                                        "surface": [
                                            {
                                                "colorbar": {
                                                    "outlinewidth": 0,
                                                    "ticks": ""
                                                },
                                                "colorscale": [
                                                    [
                                                        0,
                                                        "#0d0887"
                                                    ],
                                                    [
                                                        0.1111111111111111,
                                                        "#46039f"
                                                    ],
                                                    [
                                                        0.2222222222222222,
                                                        "#7201a8"
                                                    ],
                                                    [
                                                        0.3333333333333333,
                                                        "#9c179e"
                                                    ],
                                                    [
                                                        0.4444444444444444,
                                                        "#bd3786"
                                                    ],
                                                    [
                                                        0.5555555555555556,
                                                        "#d8576b"
                                                    ],
                                                    [
                                                        0.6666666666666666,
                                                        "#ed7953"
                                                    ],
                                                    [
                                                        0.7777777777777778,
                                                        "#fb9f3a"
                                                    ],
                                                    [
                                                        0.8888888888888888,
                                                        "#fdca26"
                                                    ],
                                                    [
                                                        1,
                                                        "#f0f921"
                                                    ]
                                                ],
                                                "type": "surface"
                                            }
                                        ],
                                        "table": [
                                            {
                                                "cells": {
                                                    "fill": {
                                                        "color": "#EBF0F8"
                                                    },
                                                    "line": {
                                                        "color": "white"
                                                    }
                                                },
                                                "header": {
                                                    "fill": {
                                                        "color": "#C8D4E3"
                                                    },
                                                    "line": {
                                                        "color": "white"
                                                    }
                                                },
                                                "type": "table"
                                            }
                                        ]
                                    },
                                    "layout": {
                                        "annotationdefaults": {
                                            "arrowcolor": "#2a3f5f",
                                            "arrowhead": 0,
                                            "arrowwidth": 1
                                        },
                                        "autotypenumbers": "strict",
                                        "coloraxis": {
                                            "colorbar": {
                                                "outlinewidth": 0,
                                                "ticks": ""
                                            }
                                        },
                                        "colorscale": {
                                            "diverging": [
                                                [
                                                    0,
                                                    "#8e0152"
                                                ],
                                                [
                                                    0.1,
                                                    "#c51b7d"
                                                ],
                                                [
                                                    0.2,
                                                    "#de77ae"
                                                ],
                                                [
                                                    0.3,
                                                    "#f1b6da"
                                                ],
                                                [
                                                    0.4,
                                                    "#fde0ef"
                                                ],
                                                [
                                                    0.5,
                                                    "#f7f7f7"
                                                ],
                                                [
                                                    0.6,
                                                    "#e6f5d0"
                                                ],
                                                [
                                                    0.7,
                                                    "#b8e186"
                                                ],
                                                [
                                                    0.8,
                                                    "#7fbc41"
                                                ],
                                                [
                                                    0.9,
                                                    "#4d9221"
                                                ],
                                                [
                                                    1,
                                                    "#276419"
                                                ]
                                            ],
                                            "sequential": [
                                                [
                                                    0,
                                                    "#0d0887"
                                                ],
                                                [
                                                    0.1111111111111111,
                                                    "#46039f"
                                                ],
                                                [
                                                    0.2222222222222222,
                                                    "#7201a8"
                                                ],
                                                [
                                                    0.3333333333333333,
                                                    "#9c179e"
                                                ],
                                                [
                                                    0.4444444444444444,
                                                    "#bd3786"
                                                ],
                                                [
                                                    0.5555555555555556,
                                                    "#d8576b"
                                                ],
                                                [
                                                    0.6666666666666666,
                                                    "#ed7953"
                                                ],
                                                [
                                                    0.7777777777777778,
                                                    "#fb9f3a"
                                                ],
                                                [
                                                    0.8888888888888888,
                                                    "#fdca26"
                                                ],
                                                [
                                                    1,
                                                    "#f0f921"
                                                ]
                                            ],
                                            "sequentialminus": [
                                                [
                                                    0,
                                                    "#0d0887"
                                                ],
                                                [
                                                    0.1111111111111111,
                                                    "#46039f"
                                                ],
                                                [
                                                    0.2222222222222222,
                                                    "#7201a8"
                                                ],
                                                [
                                                    0.3333333333333333,
                                                    "#9c179e"
                                                ],
                                                [
                                                    0.4444444444444444,
                                                    "#bd3786"
                                                ],
                                                [
                                                    0.5555555555555556,
                                                    "#d8576b"
                                                ],
                                                [
                                                    0.6666666666666666,
                                                    "#ed7953"
                                                ],
                                                [
                                                    0.7777777777777778,
                                                    "#fb9f3a"
                                                ],
                                                [
                                                    0.8888888888888888,
                                                    "#fdca26"
                                                ],
                                                [
                                                    1,
                                                    "#f0f921"
                                                ]
                                            ]
                                        },
                                        "colorway": [
                                            "#636efa",
                                            "#EF553B",
                                            "#00cc96",
                                            "#ab63fa",
                                            "#FFA15A",
                                            "#19d3f3",
                                            "#FF6692",
                                            "#B6E880",
                                            "#FF97FF",
                                            "#FECB52"
                                        ],
                                        "font": {
                                            "color": "#2a3f5f"
                                        },
                                        "geo": {
                                            "bgcolor": "white",
                                            "lakecolor": "white",
                                            "landcolor": "#E5ECF6",
                                            "showlakes": true,
                                            "showland": true,
                                            "subunitcolor": "white"
                                        },
                                        "hoverlabel": {
                                            "align": "left"
                                        },
                                        "hovermode": "closest",
                                        "mapbox": {
                                            "style": "light"
                                        },
                                        "paper_bgcolor": "white",
                                        "plot_bgcolor": "#E5ECF6",
                                        "polar": {
                                            "angularaxis": {
                                                "gridcolor": "white",
                                                "linecolor": "white",
                                                "ticks": ""
                                            },
                                            "bgcolor": "#E5ECF6",
                                            "radialaxis": {
                                                "gridcolor": "white",
                                                "linecolor": "white",
                                                "ticks": ""
                                            }
                                        },
                                        "scene": {
                                            "xaxis": {
                                                "backgroundcolor": "#E5ECF6",
                                                "gridcolor": "white",
                                                "gridwidth": 2,
                                                "linecolor": "white",
                                                "showbackground": true,
                                                "ticks": "",
                                                "zerolinecolor": "white"
                                            },
                                            "yaxis": {
                                                "backgroundcolor": "#E5ECF6",
                                                "gridcolor": "white",
                                                "gridwidth": 2,
                                                "linecolor": "white",
                                                "showbackground": true,
                                                "ticks": "",
                                                "zerolinecolor": "white"
                                            },
                                            "zaxis": {
                                                "backgroundcolor": "#E5ECF6",
                                                "gridcolor": "white",
                                                "gridwidth": 2,
                                                "linecolor": "white",
                                                "showbackground": true,
                                                "ticks": "",
                                                "zerolinecolor": "white"
                                            }
                                        },
                                        "shapedefaults": {
                                            "line": {
                                                "color": "#2a3f5f"
                                            }
                                        },
                                        "ternary": {
                                            "aaxis": {
                                                "gridcolor": "white",
                                                "linecolor": "white",
                                                "ticks": ""
                                            },
                                            "baxis": {
                                                "gridcolor": "white",
                                                "linecolor": "white",
                                                "ticks": ""
                                            },
                                            "bgcolor": "#E5ECF6",
                                            "caxis": {
                                                "gridcolor": "white",
                                                "linecolor": "white",
                                                "ticks": ""
                                            }
                                        },
                                        "title": {
                                            "x": 0.05
                                        },
                                        "xaxis": {
                                            "automargin": true,
                                            "gridcolor": "white",
                                            "linecolor": "white",
                                            "ticks": "",
                                            "title": {
                                                "standoff": 15
                                            },
                                            "zerolinecolor": "white",
                                            "zerolinewidth": 2
                                        },
                                        "yaxis": {
                                            "automargin": true,
                                            "gridcolor": "white",
                                            "linecolor": "white",
                                            "ticks": "",
                                            "title": {
                                                "standoff": 15
                                            },
                                            "zerolinecolor": "white",
                                            "zerolinewidth": 2
                                        }
                                    }
                                },
                                "title": {
                                    "font": {
                                        "color": "#4D5663"
                                    }
                                },
                                "xaxis": {
                                    "gridcolor": "#E1E5ED",
                                    "showgrid": true,
                                    "tickfont": {
                                        "color": "#4D5663"
                                    },
                                    "title": {
                                        "font": {
                                            "color": "#4D5663"
                                        },
                                        "text": ""
                                    },
                                    "zerolinecolor": "#E1E5ED"
                                },
                                "yaxis": {
                                    "gridcolor": "#E1E5ED",
                                    "showgrid": true,
                                    "tickfont": {
                                        "color": "#4D5663"
                                    },
                                    "title": {
                                        "font": {
                                            "color": "#4D5663"
                                        },
                                        "text": ""
                                    },
                                    "zerolinecolor": "#E1E5ED"
                                }
                            }
                        }
                    },
                    "metadata": {}
                }
            ],
            "metadata": {}
        },
        {
            "cell_type": "code",
            "execution_count": 12,
            "source": [
                "# using plotly express\r\n",
                "df = df.dropna()\r\n",
                "fig = px.scatter(df, x='date', y='newCasesByPublishDate', size=\"newDeaths28DaysByDeathDate\", title=\"COVID-19 Milton Keynes (new cases)\")\r\n",
                "fig.show()"
            ],
            "outputs": [
                {
                    "output_type": "display_data",
                    "data": {
                        "text/html": [
                            "<div>                            <div id=\"9c972574-585d-413f-a275-e581dc4f4a78\" class=\"plotly-graph-div\" style=\"height:525px; width:100%;\"></div>            <script type=\"text/javascript\">                require([\"plotly\"], function(Plotly) {                    window.PLOTLYENV=window.PLOTLYENV || {};                                    if (document.getElementById(\"9c972574-585d-413f-a275-e581dc4f4a78\")) {                    Plotly.newPlot(                        \"9c972574-585d-413f-a275-e581dc4f4a78\",                        [{\"hovertemplate\":\"date=%{x}<br>newCasesByPublishDate=%{y}<br>newDeaths28DaysByDeathDate=%{marker.size}<extra></extra>\",\"legendgroup\":\"\",\"marker\":{\"color\":\"#636efa\",\"size\":[1.0,0.0,0.0,0.0,0.0,0.0,0.0,0.0,0.0,1.0,1.0,0.0,0.0,2.0,0.0,0.0,1.0,0.0,1.0,1.0,3.0,4.0,3.0,0.0,0.0,2.0,2.0,3.0,1.0,3.0,5.0,4.0,2.0,5.0,2.0,1.0,4.0,1.0,1.0,7.0,1.0,3.0,3.0,4.0,1.0,3.0,3.0,4.0,1.0,4.0,1.0,2.0,0.0,0.0,0.0,0.0,2.0,3.0,0.0,0.0,0.0,1.0,1.0,0.0,0.0,1.0,1.0,3.0,0.0,1.0,0.0,0.0,0.0,0.0,1.0,0.0,0.0,0.0,0.0,0.0,0.0,0.0,0.0,0.0,0.0,0.0,1.0,0.0,0.0,0.0,0.0,0.0,0.0,0.0,0.0,0.0,0.0,0.0,0.0,0.0,0.0,1.0,0.0,0.0,0.0,0.0,0.0,0.0,0.0,0.0,0.0,0.0,0.0,0.0,1.0,0.0,0.0,0.0,0.0,0.0,0.0,0.0,0.0,0.0,0.0,0.0,0.0,0.0,0.0,0.0,0.0,0.0,0.0,0.0,0.0,0.0,0.0,0.0,0.0,0.0,0.0,0.0,0.0,1.0,0.0,0.0,0.0,0.0,1.0,0.0,0.0,0.0,0.0,0.0,0.0,0.0,0.0,0.0,0.0,0.0,0.0,0.0,0.0,0.0,0.0,0.0,0.0,0.0,0.0,0.0,0.0,0.0,0.0,0.0,0.0,0.0,0.0,0.0,0.0,0.0,0.0,0.0,0.0,0.0,0.0,0.0,0.0,0.0,0.0,0.0,0.0,0.0,0.0,0.0,0.0,0.0,0.0,0.0,0.0,0.0,0.0,0.0,0.0,0.0,0.0,0.0,0.0,0.0,0.0,0.0,0.0,0.0,0.0,0.0,0.0,0.0,0.0,0.0,0.0,0.0,0.0,0.0,0.0,0.0,0.0,0.0,0.0,0.0,0.0,0.0,0.0,0.0,0.0,0.0,0.0,0.0,0.0,0.0,0.0,0.0,0.0,1.0,0.0,1.0,2.0,0.0,2.0,0.0,0.0,0.0,0.0,1.0,0.0,3.0,0.0,4.0,1.0,1.0,2.0,2.0,1.0,2.0,1.0,3.0,1.0,0.0,2.0,1.0,2.0,2.0,0.0,2.0,0.0,4.0,1.0,0.0,2.0,1.0,3.0,2.0,0.0,2.0,1.0,4.0,2.0,4.0,2.0,2.0,1.0,2.0,4.0,5.0,3.0,2.0,1.0,5.0,3.0,4.0,3.0,2.0,8.0,5.0,6.0,0.0,6.0,7.0,5.0,8.0,6.0,6.0,9.0,7.0,8.0,11.0,9.0,12.0,5.0,5.0,6.0,8.0,5.0,7.0,2.0,3.0,2.0,2.0,5.0,4.0,3.0,3.0,6.0,4.0,1.0,1.0,0.0,3.0,4.0,4.0,2.0,2.0,3.0,2.0,4.0,2.0,2.0,2.0,4.0,0.0,1.0,2.0,2.0,2.0,1.0,1.0,2.0,2.0,2.0,1.0,0.0,1.0,1.0,2.0,3.0,0.0,2.0,1.0,0.0,0.0,0.0,0.0,0.0,0.0,1.0,0.0,1.0,0.0,0.0,1.0,0.0,0.0,0.0,0.0,0.0,0.0,0.0,0.0,0.0,0.0,0.0,0.0,0.0,0.0,1.0,0.0,0.0,1.0,0.0,0.0,0.0,0.0,0.0,0.0,0.0,0.0,0.0,0.0,0.0,0.0,0.0,0.0,0.0,0.0,0.0,0.0,0.0,0.0,0.0,0.0,0.0,0.0,0.0,0.0,0.0,0.0,0.0,0.0,0.0,0.0,0.0,0.0,0.0,0.0,0.0,0.0,0.0,0.0,0.0,0.0,0.0,0.0,0.0,0.0,0.0,0.0,0.0,0.0,0.0,0.0,0.0,1.0,0.0,0.0,0.0,0.0,0.0,0.0,0.0,0.0,0.0,0.0,0.0,0.0,0.0,0.0,0.0,0.0,0.0,0.0,0.0,0.0,0.0,0.0,0.0,0.0,0.0,0.0,0.0,0.0,0.0,0.0,0.0,0.0,0.0,0.0,0.0,0.0,0.0,0.0,0.0,0.0,0.0,1.0,1.0,0.0,0.0,0.0,0.0,1.0,0.0,0.0,0.0,0.0,0.0,0.0,0.0,1.0,0.0,0.0,0.0,0.0,0.0,2.0,1.0,0.0,0.0],\"sizemode\":\"area\",\"sizeref\":0.03,\"symbol\":\"circle\"},\"mode\":\"markers\",\"name\":\"\",\"orientation\":\"v\",\"showlegend\":false,\"type\":\"scatter\",\"x\":[\"2020-03-05\",\"2020-03-06\",\"2020-03-07\",\"2020-03-08\",\"2020-03-09\",\"2020-03-10\",\"2020-03-11\",\"2020-03-12\",\"2020-03-13\",\"2020-03-14\",\"2020-03-15\",\"2020-03-16\",\"2020-03-17\",\"2020-03-18\",\"2020-03-19\",\"2020-03-20\",\"2020-03-21\",\"2020-03-22\",\"2020-03-23\",\"2020-03-24\",\"2020-03-25\",\"2020-03-26\",\"2020-03-27\",\"2020-03-28\",\"2020-03-29\",\"2020-03-30\",\"2020-03-31\",\"2020-04-01\",\"2020-04-02\",\"2020-04-03\",\"2020-04-04\",\"2020-04-05\",\"2020-04-06\",\"2020-04-07\",\"2020-04-08\",\"2020-04-09\",\"2020-04-10\",\"2020-04-11\",\"2020-04-12\",\"2020-04-13\",\"2020-04-14\",\"2020-04-15\",\"2020-04-16\",\"2020-04-17\",\"2020-04-18\",\"2020-04-19\",\"2020-04-20\",\"2020-04-21\",\"2020-04-22\",\"2020-04-23\",\"2020-04-24\",\"2020-04-25\",\"2020-04-26\",\"2020-04-27\",\"2020-04-28\",\"2020-04-29\",\"2020-04-30\",\"2020-05-01\",\"2020-05-02\",\"2020-05-03\",\"2020-05-04\",\"2020-05-05\",\"2020-05-06\",\"2020-05-07\",\"2020-05-08\",\"2020-05-09\",\"2020-05-10\",\"2020-05-11\",\"2020-05-12\",\"2020-05-13\",\"2020-05-14\",\"2020-05-15\",\"2020-05-16\",\"2020-05-17\",\"2020-05-18\",\"2020-05-19\",\"2020-05-20\",\"2020-05-21\",\"2020-05-22\",\"2020-05-23\",\"2020-05-24\",\"2020-05-25\",\"2020-05-26\",\"2020-05-27\",\"2020-05-28\",\"2020-05-29\",\"2020-05-30\",\"2020-05-31\",\"2020-06-01\",\"2020-06-02\",\"2020-06-03\",\"2020-06-04\",\"2020-06-05\",\"2020-06-06\",\"2020-06-07\",\"2020-06-08\",\"2020-06-09\",\"2020-06-10\",\"2020-06-11\",\"2020-06-12\",\"2020-06-13\",\"2020-06-14\",\"2020-06-15\",\"2020-06-16\",\"2020-06-17\",\"2020-06-18\",\"2020-06-19\",\"2020-06-20\",\"2020-06-21\",\"2020-06-22\",\"2020-06-23\",\"2020-06-24\",\"2020-06-25\",\"2020-06-26\",\"2020-06-27\",\"2020-06-28\",\"2020-06-29\",\"2020-06-30\",\"2020-07-01\",\"2020-07-02\",\"2020-07-03\",\"2020-07-04\",\"2020-07-05\",\"2020-07-06\",\"2020-07-07\",\"2020-07-08\",\"2020-07-09\",\"2020-07-10\",\"2020-07-11\",\"2020-07-12\",\"2020-07-13\",\"2020-07-14\",\"2020-07-15\",\"2020-07-16\",\"2020-07-17\",\"2020-07-18\",\"2020-07-19\",\"2020-07-20\",\"2020-07-21\",\"2020-07-22\",\"2020-07-23\",\"2020-07-24\",\"2020-07-25\",\"2020-07-26\",\"2020-07-27\",\"2020-07-28\",\"2020-07-29\",\"2020-07-30\",\"2020-07-31\",\"2020-08-01\",\"2020-08-02\",\"2020-08-03\",\"2020-08-04\",\"2020-08-05\",\"2020-08-06\",\"2020-08-07\",\"2020-08-08\",\"2020-08-09\",\"2020-08-10\",\"2020-08-11\",\"2020-08-12\",\"2020-08-13\",\"2020-08-14\",\"2020-08-15\",\"2020-08-16\",\"2020-08-17\",\"2020-08-18\",\"2020-08-19\",\"2020-08-20\",\"2020-08-21\",\"2020-08-22\",\"2020-08-23\",\"2020-08-24\",\"2020-08-25\",\"2020-08-26\",\"2020-08-27\",\"2020-08-28\",\"2020-08-29\",\"2020-08-30\",\"2020-08-31\",\"2020-09-01\",\"2020-09-02\",\"2020-09-03\",\"2020-09-04\",\"2020-09-05\",\"2020-09-06\",\"2020-09-07\",\"2020-09-08\",\"2020-09-09\",\"2020-09-10\",\"2020-09-11\",\"2020-09-12\",\"2020-09-13\",\"2020-09-14\",\"2020-09-15\",\"2020-09-16\",\"2020-09-17\",\"2020-09-18\",\"2020-09-19\",\"2020-09-20\",\"2020-09-21\",\"2020-09-22\",\"2020-09-23\",\"2020-09-24\",\"2020-09-25\",\"2020-09-26\",\"2020-09-27\",\"2020-09-28\",\"2020-09-29\",\"2020-09-30\",\"2020-10-01\",\"2020-10-02\",\"2020-10-03\",\"2020-10-04\",\"2020-10-05\",\"2020-10-06\",\"2020-10-07\",\"2020-10-08\",\"2020-10-09\",\"2020-10-10\",\"2020-10-11\",\"2020-10-12\",\"2020-10-13\",\"2020-10-14\",\"2020-10-15\",\"2020-10-16\",\"2020-10-17\",\"2020-10-18\",\"2020-10-19\",\"2020-10-20\",\"2020-10-21\",\"2020-10-22\",\"2020-10-23\",\"2020-10-24\",\"2020-10-25\",\"2020-10-26\",\"2020-10-27\",\"2020-10-28\",\"2020-10-29\",\"2020-10-30\",\"2020-10-31\",\"2020-11-01\",\"2020-11-02\",\"2020-11-03\",\"2020-11-04\",\"2020-11-05\",\"2020-11-06\",\"2020-11-07\",\"2020-11-08\",\"2020-11-09\",\"2020-11-10\",\"2020-11-11\",\"2020-11-12\",\"2020-11-13\",\"2020-11-14\",\"2020-11-15\",\"2020-11-16\",\"2020-11-17\",\"2020-11-18\",\"2020-11-19\",\"2020-11-20\",\"2020-11-21\",\"2020-11-22\",\"2020-11-23\",\"2020-11-24\",\"2020-11-25\",\"2020-11-26\",\"2020-11-27\",\"2020-11-28\",\"2020-11-29\",\"2020-11-30\",\"2020-12-01\",\"2020-12-02\",\"2020-12-03\",\"2020-12-04\",\"2020-12-05\",\"2020-12-06\",\"2020-12-07\",\"2020-12-08\",\"2020-12-09\",\"2020-12-10\",\"2020-12-11\",\"2020-12-12\",\"2020-12-13\",\"2020-12-14\",\"2020-12-15\",\"2020-12-16\",\"2020-12-17\",\"2020-12-18\",\"2020-12-19\",\"2020-12-20\",\"2020-12-21\",\"2020-12-22\",\"2020-12-23\",\"2020-12-24\",\"2020-12-25\",\"2020-12-26\",\"2020-12-27\",\"2020-12-28\",\"2020-12-29\",\"2020-12-30\",\"2020-12-31\",\"2021-01-01\",\"2021-01-02\",\"2021-01-03\",\"2021-01-04\",\"2021-01-05\",\"2021-01-06\",\"2021-01-07\",\"2021-01-08\",\"2021-01-09\",\"2021-01-10\",\"2021-01-11\",\"2021-01-12\",\"2021-01-13\",\"2021-01-14\",\"2021-01-15\",\"2021-01-16\",\"2021-01-17\",\"2021-01-18\",\"2021-01-19\",\"2021-01-20\",\"2021-01-21\",\"2021-01-22\",\"2021-01-23\",\"2021-01-24\",\"2021-01-25\",\"2021-01-26\",\"2021-01-27\",\"2021-01-28\",\"2021-01-29\",\"2021-01-30\",\"2021-01-31\",\"2021-02-01\",\"2021-02-02\",\"2021-02-03\",\"2021-02-04\",\"2021-02-05\",\"2021-02-06\",\"2021-02-07\",\"2021-02-08\",\"2021-02-09\",\"2021-02-10\",\"2021-02-11\",\"2021-02-12\",\"2021-02-13\",\"2021-02-14\",\"2021-02-15\",\"2021-02-16\",\"2021-02-17\",\"2021-02-18\",\"2021-02-19\",\"2021-02-20\",\"2021-02-21\",\"2021-02-22\",\"2021-02-23\",\"2021-02-24\",\"2021-02-25\",\"2021-02-26\",\"2021-02-27\",\"2021-02-28\",\"2021-03-01\",\"2021-03-02\",\"2021-03-03\",\"2021-03-04\",\"2021-03-05\",\"2021-03-06\",\"2021-03-07\",\"2021-03-08\",\"2021-03-09\",\"2021-03-10\",\"2021-03-11\",\"2021-03-12\",\"2021-03-13\",\"2021-03-14\",\"2021-03-15\",\"2021-03-16\",\"2021-03-17\",\"2021-03-18\",\"2021-03-19\",\"2021-03-20\",\"2021-03-21\",\"2021-03-22\",\"2021-03-23\",\"2021-03-24\",\"2021-03-25\",\"2021-03-26\",\"2021-03-27\",\"2021-03-28\",\"2021-03-29\",\"2021-03-30\",\"2021-03-31\",\"2021-04-01\",\"2021-04-02\",\"2021-04-03\",\"2021-04-04\",\"2021-04-05\",\"2021-04-06\",\"2021-04-07\",\"2021-04-08\",\"2021-04-09\",\"2021-04-10\",\"2021-04-11\",\"2021-04-12\",\"2021-04-13\",\"2021-04-14\",\"2021-04-15\",\"2021-04-16\",\"2021-04-17\",\"2021-04-18\",\"2021-04-19\",\"2021-04-20\",\"2021-04-21\",\"2021-04-22\",\"2021-04-23\",\"2021-04-24\",\"2021-04-25\",\"2021-04-26\",\"2021-04-27\",\"2021-04-28\",\"2021-04-29\",\"2021-04-30\",\"2021-05-01\",\"2021-05-02\",\"2021-05-03\",\"2021-05-04\",\"2021-05-05\",\"2021-05-06\",\"2021-05-07\",\"2021-05-08\",\"2021-05-09\",\"2021-05-10\",\"2021-05-11\",\"2021-05-12\",\"2021-05-13\",\"2021-05-14\",\"2021-05-15\",\"2021-05-16\",\"2021-05-17\",\"2021-05-18\",\"2021-05-19\",\"2021-05-20\",\"2021-05-21\",\"2021-05-22\",\"2021-05-23\",\"2021-05-24\",\"2021-05-25\",\"2021-05-26\",\"2021-05-27\",\"2021-05-28\",\"2021-05-29\",\"2021-05-30\",\"2021-05-31\",\"2021-06-01\",\"2021-06-02\",\"2021-06-03\",\"2021-06-04\",\"2021-06-05\",\"2021-06-06\",\"2021-06-07\",\"2021-06-08\",\"2021-06-09\",\"2021-06-10\",\"2021-06-11\",\"2021-06-12\",\"2021-06-13\",\"2021-06-14\",\"2021-06-15\",\"2021-06-16\",\"2021-06-17\",\"2021-06-18\",\"2021-06-19\",\"2021-06-20\",\"2021-06-21\",\"2021-06-22\",\"2021-06-23\",\"2021-06-24\",\"2021-06-25\",\"2021-06-26\",\"2021-06-27\",\"2021-06-28\",\"2021-06-29\",\"2021-06-30\",\"2021-07-01\",\"2021-07-02\",\"2021-07-03\",\"2021-07-04\",\"2021-07-05\",\"2021-07-06\",\"2021-07-07\",\"2021-07-08\",\"2021-07-09\",\"2021-07-10\",\"2021-07-11\",\"2021-07-12\",\"2021-07-13\",\"2021-07-14\",\"2021-07-15\",\"2021-07-16\",\"2021-07-17\",\"2021-07-18\",\"2021-07-19\",\"2021-07-20\",\"2021-07-21\",\"2021-07-22\",\"2021-07-23\",\"2021-07-24\",\"2021-07-25\",\"2021-07-26\",\"2021-07-27\",\"2021-07-28\",\"2021-07-29\",\"2021-07-30\",\"2021-07-31\",\"2021-08-01\"],\"xaxis\":\"x\",\"y\":[0.0,0.0,0.0,0.0,0.0,0.0,0.0,0.0,0.0,0.0,0.0,0.0,0.0,0.0,0.0,0.0,0.0,0.0,0.0,0.0,0.0,0.0,0.0,0.0,0.0,0.0,0.0,0.0,0.0,0.0,0.0,0.0,0.0,0.0,0.0,0.0,0.0,0.0,0.0,0.0,0.0,0.0,0.0,0.0,0.0,0.0,0.0,0.0,5.0,8.0,9.0,13.0,7.0,4.0,5.0,2.0,5.0,3.0,18.0,6.0,3.0,1.0,5.0,0.0,5.0,6.0,3.0,0.0,2.0,1.0,1.0,1.0,1.0,3.0,1.0,0.0,0.0,0.0,1.0,1.0,0.0,1.0,0.0,2.0,0.0,0.0,1.0,0.0,0.0,1.0,0.0,0.0,0.0,0.0,0.0,0.0,2.0,0.0,0.0,1.0,0.0,0.0,0.0,0.0,0.0,0.0,0.0,1.0,0.0,0.0,1.0,0.0,2.0,0.0,0.0,0.0,0.0,1.0,330.0,0.0,1.0,0.0,0.0,0.0,4.0,2.0,1.0,0.0,1.0,1.0,1.0,2.0,0.0,1.0,0.0,0.0,2.0,0.0,0.0,0.0,2.0,1.0,0.0,2.0,1.0,1.0,2.0,3.0,1.0,2.0,0.0,1.0,2.0,5.0,2.0,5.0,2.0,2.0,1.0,6.0,6.0,0.0,4.0,3.0,4.0,4.0,1.0,2.0,3.0,7.0,3.0,3.0,6.0,3.0,2.0,3.0,4.0,2.0,1.0,2.0,4.0,1.0,4.0,5.0,5.0,5.0,5.0,9.0,9.0,8.0,4.0,4.0,2.0,4.0,7.0,2.0,10.0,9.0,4.0,10.0,5.0,5.0,14.0,13.0,8.0,6.0,10.0,4.0,6.0,11.0,9.0,8.0,18.0,27.0,18.0,19.0,24.0,33.0,28.0,35.0,14.0,16.0,20.0,31.0,42.0,12.0,21.0,22.0,30.0,22.0,53.0,32.0,21.0,63.0,21.0,31.0,65.0,71.0,29.0,51.0,44.0,34.0,45.0,50.0,58.0,50.0,43.0,54.0,45.0,65.0,28.0,78.0,89.0,58.0,75.0,97.0,0.0,113.0,31.0,72.0,39.0,91.0,73.0,69.0,35.0,58.0,54.0,53.0,57.0,57.0,66.0,62.0,70.0,68.0,69.0,66.0,91.0,79.0,94.0,76.0,117.0,119.0,138.0,140.0,214.0,116.0,164.0,245.0,272.0,202.0,308.0,225.0,334.0,364.0,385.0,429.0,261.0,249.0,246.0,446.0,414.0,207.0,423.0,348.0,370.0,312.0,494.0,346.0,347.0,334.0,375.0,282.0,272.0,270.0,147.0,267.0,351.0,279.0,117.0,265.0,152.0,184.0,123.0,245.0,168.0,200.0,125.0,47.0,164.0,146.0,165.0,80.0,90.0,99.0,62.0,68.0,91.0,74.0,79.0,60.0,47.0,57.0,49.0,50.0,68.0,55.0,37.0,48.0,51.0,59.0,54.0,40.0,43.0,46.0,67.0,34.0,39.0,76.0,48.0,25.0,29.0,20.0,43.0,16.0,21.0,32.0,30.0,32.0,30.0,24.0,21.0,32.0,54.0,31.0,8.0,23.0,21.0,17.0,20.0,17.0,23.0,22.0,18.0,21.0,19.0,22.0,27.0,10.0,17.0,11.0,24.0,13.0,18.0,16.0,9.0,9.0,4.0,12.0,15.0,13.0,0.0,17.0,12.0,13.0,22.0,6.0,15.0,10.0,12.0,6.0,6.0,3.0,6.0,7.0,14.0,5.0,8.0,9.0,19.0,4.0,5.0,6.0,4.0,5.0,4.0,3.0,3.0,12.0,11.0,8.0,6.0,10.0,10.0,5.0,18.0,10.0,4.0,5.0,8.0,0.0,8.0,3.0,11.0,3.0,7.0,15.0,19.0,3.0,23.0,14.0,15.0,9.0,14.0,14.0,13.0,21.0,28.0,16.0,18.0,22.0,29.0,27.0,17.0,15.0,31.0,27.0,32.0,19.0,23.0,20.0,33.0,41.0,20.0,21.0,30.0,21.0,30.0,40.0,64.0,34.0,74.0,58.0,79.0,109.0,91.0,83.0,118.0,63.0,111.0,109.0,71.0,94.0,128.0,124.0,127.0,131.0,167.0,176.0,194.0,193.0,203.0,89.0,237.0,164.0,135.0,153.0,120.0,98.0,90.0,100.0,135.0,130.0,115.0,102.0,119.0],\"yaxis\":\"y\"}],                        {\"legend\":{\"itemsizing\":\"constant\",\"tracegroupgap\":0},\"template\":{\"data\":{\"bar\":[{\"error_x\":{\"color\":\"#2a3f5f\"},\"error_y\":{\"color\":\"#2a3f5f\"},\"marker\":{\"line\":{\"color\":\"#E5ECF6\",\"width\":0.5},\"pattern\":{\"fillmode\":\"overlay\",\"size\":10,\"solidity\":0.2}},\"type\":\"bar\"}],\"barpolar\":[{\"marker\":{\"line\":{\"color\":\"#E5ECF6\",\"width\":0.5},\"pattern\":{\"fillmode\":\"overlay\",\"size\":10,\"solidity\":0.2}},\"type\":\"barpolar\"}],\"carpet\":[{\"aaxis\":{\"endlinecolor\":\"#2a3f5f\",\"gridcolor\":\"white\",\"linecolor\":\"white\",\"minorgridcolor\":\"white\",\"startlinecolor\":\"#2a3f5f\"},\"baxis\":{\"endlinecolor\":\"#2a3f5f\",\"gridcolor\":\"white\",\"linecolor\":\"white\",\"minorgridcolor\":\"white\",\"startlinecolor\":\"#2a3f5f\"},\"type\":\"carpet\"}],\"choropleth\":[{\"colorbar\":{\"outlinewidth\":0,\"ticks\":\"\"},\"type\":\"choropleth\"}],\"contour\":[{\"colorbar\":{\"outlinewidth\":0,\"ticks\":\"\"},\"colorscale\":[[0.0,\"#0d0887\"],[0.1111111111111111,\"#46039f\"],[0.2222222222222222,\"#7201a8\"],[0.3333333333333333,\"#9c179e\"],[0.4444444444444444,\"#bd3786\"],[0.5555555555555556,\"#d8576b\"],[0.6666666666666666,\"#ed7953\"],[0.7777777777777778,\"#fb9f3a\"],[0.8888888888888888,\"#fdca26\"],[1.0,\"#f0f921\"]],\"type\":\"contour\"}],\"contourcarpet\":[{\"colorbar\":{\"outlinewidth\":0,\"ticks\":\"\"},\"type\":\"contourcarpet\"}],\"heatmap\":[{\"colorbar\":{\"outlinewidth\":0,\"ticks\":\"\"},\"colorscale\":[[0.0,\"#0d0887\"],[0.1111111111111111,\"#46039f\"],[0.2222222222222222,\"#7201a8\"],[0.3333333333333333,\"#9c179e\"],[0.4444444444444444,\"#bd3786\"],[0.5555555555555556,\"#d8576b\"],[0.6666666666666666,\"#ed7953\"],[0.7777777777777778,\"#fb9f3a\"],[0.8888888888888888,\"#fdca26\"],[1.0,\"#f0f921\"]],\"type\":\"heatmap\"}],\"heatmapgl\":[{\"colorbar\":{\"outlinewidth\":0,\"ticks\":\"\"},\"colorscale\":[[0.0,\"#0d0887\"],[0.1111111111111111,\"#46039f\"],[0.2222222222222222,\"#7201a8\"],[0.3333333333333333,\"#9c179e\"],[0.4444444444444444,\"#bd3786\"],[0.5555555555555556,\"#d8576b\"],[0.6666666666666666,\"#ed7953\"],[0.7777777777777778,\"#fb9f3a\"],[0.8888888888888888,\"#fdca26\"],[1.0,\"#f0f921\"]],\"type\":\"heatmapgl\"}],\"histogram\":[{\"marker\":{\"pattern\":{\"fillmode\":\"overlay\",\"size\":10,\"solidity\":0.2}},\"type\":\"histogram\"}],\"histogram2d\":[{\"colorbar\":{\"outlinewidth\":0,\"ticks\":\"\"},\"colorscale\":[[0.0,\"#0d0887\"],[0.1111111111111111,\"#46039f\"],[0.2222222222222222,\"#7201a8\"],[0.3333333333333333,\"#9c179e\"],[0.4444444444444444,\"#bd3786\"],[0.5555555555555556,\"#d8576b\"],[0.6666666666666666,\"#ed7953\"],[0.7777777777777778,\"#fb9f3a\"],[0.8888888888888888,\"#fdca26\"],[1.0,\"#f0f921\"]],\"type\":\"histogram2d\"}],\"histogram2dcontour\":[{\"colorbar\":{\"outlinewidth\":0,\"ticks\":\"\"},\"colorscale\":[[0.0,\"#0d0887\"],[0.1111111111111111,\"#46039f\"],[0.2222222222222222,\"#7201a8\"],[0.3333333333333333,\"#9c179e\"],[0.4444444444444444,\"#bd3786\"],[0.5555555555555556,\"#d8576b\"],[0.6666666666666666,\"#ed7953\"],[0.7777777777777778,\"#fb9f3a\"],[0.8888888888888888,\"#fdca26\"],[1.0,\"#f0f921\"]],\"type\":\"histogram2dcontour\"}],\"mesh3d\":[{\"colorbar\":{\"outlinewidth\":0,\"ticks\":\"\"},\"type\":\"mesh3d\"}],\"parcoords\":[{\"line\":{\"colorbar\":{\"outlinewidth\":0,\"ticks\":\"\"}},\"type\":\"parcoords\"}],\"pie\":[{\"automargin\":true,\"type\":\"pie\"}],\"scatter\":[{\"marker\":{\"colorbar\":{\"outlinewidth\":0,\"ticks\":\"\"}},\"type\":\"scatter\"}],\"scatter3d\":[{\"line\":{\"colorbar\":{\"outlinewidth\":0,\"ticks\":\"\"}},\"marker\":{\"colorbar\":{\"outlinewidth\":0,\"ticks\":\"\"}},\"type\":\"scatter3d\"}],\"scattercarpet\":[{\"marker\":{\"colorbar\":{\"outlinewidth\":0,\"ticks\":\"\"}},\"type\":\"scattercarpet\"}],\"scattergeo\":[{\"marker\":{\"colorbar\":{\"outlinewidth\":0,\"ticks\":\"\"}},\"type\":\"scattergeo\"}],\"scattergl\":[{\"marker\":{\"colorbar\":{\"outlinewidth\":0,\"ticks\":\"\"}},\"type\":\"scattergl\"}],\"scattermapbox\":[{\"marker\":{\"colorbar\":{\"outlinewidth\":0,\"ticks\":\"\"}},\"type\":\"scattermapbox\"}],\"scatterpolar\":[{\"marker\":{\"colorbar\":{\"outlinewidth\":0,\"ticks\":\"\"}},\"type\":\"scatterpolar\"}],\"scatterpolargl\":[{\"marker\":{\"colorbar\":{\"outlinewidth\":0,\"ticks\":\"\"}},\"type\":\"scatterpolargl\"}],\"scatterternary\":[{\"marker\":{\"colorbar\":{\"outlinewidth\":0,\"ticks\":\"\"}},\"type\":\"scatterternary\"}],\"surface\":[{\"colorbar\":{\"outlinewidth\":0,\"ticks\":\"\"},\"colorscale\":[[0.0,\"#0d0887\"],[0.1111111111111111,\"#46039f\"],[0.2222222222222222,\"#7201a8\"],[0.3333333333333333,\"#9c179e\"],[0.4444444444444444,\"#bd3786\"],[0.5555555555555556,\"#d8576b\"],[0.6666666666666666,\"#ed7953\"],[0.7777777777777778,\"#fb9f3a\"],[0.8888888888888888,\"#fdca26\"],[1.0,\"#f0f921\"]],\"type\":\"surface\"}],\"table\":[{\"cells\":{\"fill\":{\"color\":\"#EBF0F8\"},\"line\":{\"color\":\"white\"}},\"header\":{\"fill\":{\"color\":\"#C8D4E3\"},\"line\":{\"color\":\"white\"}},\"type\":\"table\"}]},\"layout\":{\"annotationdefaults\":{\"arrowcolor\":\"#2a3f5f\",\"arrowhead\":0,\"arrowwidth\":1},\"autotypenumbers\":\"strict\",\"coloraxis\":{\"colorbar\":{\"outlinewidth\":0,\"ticks\":\"\"}},\"colorscale\":{\"diverging\":[[0,\"#8e0152\"],[0.1,\"#c51b7d\"],[0.2,\"#de77ae\"],[0.3,\"#f1b6da\"],[0.4,\"#fde0ef\"],[0.5,\"#f7f7f7\"],[0.6,\"#e6f5d0\"],[0.7,\"#b8e186\"],[0.8,\"#7fbc41\"],[0.9,\"#4d9221\"],[1,\"#276419\"]],\"sequential\":[[0.0,\"#0d0887\"],[0.1111111111111111,\"#46039f\"],[0.2222222222222222,\"#7201a8\"],[0.3333333333333333,\"#9c179e\"],[0.4444444444444444,\"#bd3786\"],[0.5555555555555556,\"#d8576b\"],[0.6666666666666666,\"#ed7953\"],[0.7777777777777778,\"#fb9f3a\"],[0.8888888888888888,\"#fdca26\"],[1.0,\"#f0f921\"]],\"sequentialminus\":[[0.0,\"#0d0887\"],[0.1111111111111111,\"#46039f\"],[0.2222222222222222,\"#7201a8\"],[0.3333333333333333,\"#9c179e\"],[0.4444444444444444,\"#bd3786\"],[0.5555555555555556,\"#d8576b\"],[0.6666666666666666,\"#ed7953\"],[0.7777777777777778,\"#fb9f3a\"],[0.8888888888888888,\"#fdca26\"],[1.0,\"#f0f921\"]]},\"colorway\":[\"#636efa\",\"#EF553B\",\"#00cc96\",\"#ab63fa\",\"#FFA15A\",\"#19d3f3\",\"#FF6692\",\"#B6E880\",\"#FF97FF\",\"#FECB52\"],\"font\":{\"color\":\"#2a3f5f\"},\"geo\":{\"bgcolor\":\"white\",\"lakecolor\":\"white\",\"landcolor\":\"#E5ECF6\",\"showlakes\":true,\"showland\":true,\"subunitcolor\":\"white\"},\"hoverlabel\":{\"align\":\"left\"},\"hovermode\":\"closest\",\"mapbox\":{\"style\":\"light\"},\"paper_bgcolor\":\"white\",\"plot_bgcolor\":\"#E5ECF6\",\"polar\":{\"angularaxis\":{\"gridcolor\":\"white\",\"linecolor\":\"white\",\"ticks\":\"\"},\"bgcolor\":\"#E5ECF6\",\"radialaxis\":{\"gridcolor\":\"white\",\"linecolor\":\"white\",\"ticks\":\"\"}},\"scene\":{\"xaxis\":{\"backgroundcolor\":\"#E5ECF6\",\"gridcolor\":\"white\",\"gridwidth\":2,\"linecolor\":\"white\",\"showbackground\":true,\"ticks\":\"\",\"zerolinecolor\":\"white\"},\"yaxis\":{\"backgroundcolor\":\"#E5ECF6\",\"gridcolor\":\"white\",\"gridwidth\":2,\"linecolor\":\"white\",\"showbackground\":true,\"ticks\":\"\",\"zerolinecolor\":\"white\"},\"zaxis\":{\"backgroundcolor\":\"#E5ECF6\",\"gridcolor\":\"white\",\"gridwidth\":2,\"linecolor\":\"white\",\"showbackground\":true,\"ticks\":\"\",\"zerolinecolor\":\"white\"}},\"shapedefaults\":{\"line\":{\"color\":\"#2a3f5f\"}},\"ternary\":{\"aaxis\":{\"gridcolor\":\"white\",\"linecolor\":\"white\",\"ticks\":\"\"},\"baxis\":{\"gridcolor\":\"white\",\"linecolor\":\"white\",\"ticks\":\"\"},\"bgcolor\":\"#E5ECF6\",\"caxis\":{\"gridcolor\":\"white\",\"linecolor\":\"white\",\"ticks\":\"\"}},\"title\":{\"x\":0.05},\"xaxis\":{\"automargin\":true,\"gridcolor\":\"white\",\"linecolor\":\"white\",\"ticks\":\"\",\"title\":{\"standoff\":15},\"zerolinecolor\":\"white\",\"zerolinewidth\":2},\"yaxis\":{\"automargin\":true,\"gridcolor\":\"white\",\"linecolor\":\"white\",\"ticks\":\"\",\"title\":{\"standoff\":15},\"zerolinecolor\":\"white\",\"zerolinewidth\":2}}},\"title\":{\"text\":\"COVID-19 Milton Keynes (new cases)\"},\"xaxis\":{\"anchor\":\"y\",\"domain\":[0.0,1.0],\"title\":{\"text\":\"date\"}},\"yaxis\":{\"anchor\":\"x\",\"domain\":[0.0,1.0],\"title\":{\"text\":\"newCasesByPublishDate\"}}},                        {\"responsive\": true}                    ).then(function(){\n",
                            "                            \n",
                            "var gd = document.getElementById('9c972574-585d-413f-a275-e581dc4f4a78');\n",
                            "var x = new MutationObserver(function (mutations, observer) {{\n",
                            "        var display = window.getComputedStyle(gd).display;\n",
                            "        if (!display || display === 'none') {{\n",
                            "            console.log([gd, 'removed!']);\n",
                            "            Plotly.purge(gd);\n",
                            "            observer.disconnect();\n",
                            "        }}\n",
                            "}});\n",
                            "\n",
                            "// Listen for the removal of the full notebook cells\n",
                            "var notebookContainer = gd.closest('#notebook-container');\n",
                            "if (notebookContainer) {{\n",
                            "    x.observe(notebookContainer, {childList: true});\n",
                            "}}\n",
                            "\n",
                            "// Listen for the clearing of the current output cell\n",
                            "var outputEl = gd.closest('.output');\n",
                            "if (outputEl) {{\n",
                            "    x.observe(outputEl, {childList: true});\n",
                            "}}\n",
                            "\n",
                            "                        })                };                });            </script>        </div>"
                        ],
                        "application/vnd.plotly.v1+json": {
                            "config": {
                                "plotlyServerURL": "https://plot.ly"
                            },
                            "data": [
                                {
                                    "hovertemplate": "date=%{x}<br>newCasesByPublishDate=%{y}<br>newDeaths28DaysByDeathDate=%{marker.size}<extra></extra>",
                                    "legendgroup": "",
                                    "marker": {
                                        "color": "#636efa",
                                        "size": [
                                            1,
                                            0,
                                            0,
                                            0,
                                            0,
                                            0,
                                            0,
                                            0,
                                            0,
                                            1,
                                            1,
                                            0,
                                            0,
                                            2,
                                            0,
                                            0,
                                            1,
                                            0,
                                            1,
                                            1,
                                            3,
                                            4,
                                            3,
                                            0,
                                            0,
                                            2,
                                            2,
                                            3,
                                            1,
                                            3,
                                            5,
                                            4,
                                            2,
                                            5,
                                            2,
                                            1,
                                            4,
                                            1,
                                            1,
                                            7,
                                            1,
                                            3,
                                            3,
                                            4,
                                            1,
                                            3,
                                            3,
                                            4,
                                            1,
                                            4,
                                            1,
                                            2,
                                            0,
                                            0,
                                            0,
                                            0,
                                            2,
                                            3,
                                            0,
                                            0,
                                            0,
                                            1,
                                            1,
                                            0,
                                            0,
                                            1,
                                            1,
                                            3,
                                            0,
                                            1,
                                            0,
                                            0,
                                            0,
                                            0,
                                            1,
                                            0,
                                            0,
                                            0,
                                            0,
                                            0,
                                            0,
                                            0,
                                            0,
                                            0,
                                            0,
                                            0,
                                            1,
                                            0,
                                            0,
                                            0,
                                            0,
                                            0,
                                            0,
                                            0,
                                            0,
                                            0,
                                            0,
                                            0,
                                            0,
                                            0,
                                            0,
                                            1,
                                            0,
                                            0,
                                            0,
                                            0,
                                            0,
                                            0,
                                            0,
                                            0,
                                            0,
                                            0,
                                            0,
                                            0,
                                            1,
                                            0,
                                            0,
                                            0,
                                            0,
                                            0,
                                            0,
                                            0,
                                            0,
                                            0,
                                            0,
                                            0,
                                            0,
                                            0,
                                            0,
                                            0,
                                            0,
                                            0,
                                            0,
                                            0,
                                            0,
                                            0,
                                            0,
                                            0,
                                            0,
                                            0,
                                            0,
                                            0,
                                            0,
                                            1,
                                            0,
                                            0,
                                            0,
                                            0,
                                            1,
                                            0,
                                            0,
                                            0,
                                            0,
                                            0,
                                            0,
                                            0,
                                            0,
                                            0,
                                            0,
                                            0,
                                            0,
                                            0,
                                            0,
                                            0,
                                            0,
                                            0,
                                            0,
                                            0,
                                            0,
                                            0,
                                            0,
                                            0,
                                            0,
                                            0,
                                            0,
                                            0,
                                            0,
                                            0,
                                            0,
                                            0,
                                            0,
                                            0,
                                            0,
                                            0,
                                            0,
                                            0,
                                            0,
                                            0,
                                            0,
                                            0,
                                            0,
                                            0,
                                            0,
                                            0,
                                            0,
                                            0,
                                            0,
                                            0,
                                            0,
                                            0,
                                            0,
                                            0,
                                            0,
                                            0,
                                            0,
                                            0,
                                            0,
                                            0,
                                            0,
                                            0,
                                            0,
                                            0,
                                            0,
                                            0,
                                            0,
                                            0,
                                            0,
                                            0,
                                            0,
                                            0,
                                            0,
                                            0,
                                            0,
                                            0,
                                            0,
                                            0,
                                            0,
                                            0,
                                            0,
                                            0,
                                            0,
                                            0,
                                            0,
                                            0,
                                            0,
                                            0,
                                            0,
                                            0,
                                            0,
                                            0,
                                            0,
                                            1,
                                            0,
                                            1,
                                            2,
                                            0,
                                            2,
                                            0,
                                            0,
                                            0,
                                            0,
                                            1,
                                            0,
                                            3,
                                            0,
                                            4,
                                            1,
                                            1,
                                            2,
                                            2,
                                            1,
                                            2,
                                            1,
                                            3,
                                            1,
                                            0,
                                            2,
                                            1,
                                            2,
                                            2,
                                            0,
                                            2,
                                            0,
                                            4,
                                            1,
                                            0,
                                            2,
                                            1,
                                            3,
                                            2,
                                            0,
                                            2,
                                            1,
                                            4,
                                            2,
                                            4,
                                            2,
                                            2,
                                            1,
                                            2,
                                            4,
                                            5,
                                            3,
                                            2,
                                            1,
                                            5,
                                            3,
                                            4,
                                            3,
                                            2,
                                            8,
                                            5,
                                            6,
                                            0,
                                            6,
                                            7,
                                            5,
                                            8,
                                            6,
                                            6,
                                            9,
                                            7,
                                            8,
                                            11,
                                            9,
                                            12,
                                            5,
                                            5,
                                            6,
                                            8,
                                            5,
                                            7,
                                            2,
                                            3,
                                            2,
                                            2,
                                            5,
                                            4,
                                            3,
                                            3,
                                            6,
                                            4,
                                            1,
                                            1,
                                            0,
                                            3,
                                            4,
                                            4,
                                            2,
                                            2,
                                            3,
                                            2,
                                            4,
                                            2,
                                            2,
                                            2,
                                            4,
                                            0,
                                            1,
                                            2,
                                            2,
                                            2,
                                            1,
                                            1,
                                            2,
                                            2,
                                            2,
                                            1,
                                            0,
                                            1,
                                            1,
                                            2,
                                            3,
                                            0,
                                            2,
                                            1,
                                            0,
                                            0,
                                            0,
                                            0,
                                            0,
                                            0,
                                            1,
                                            0,
                                            1,
                                            0,
                                            0,
                                            1,
                                            0,
                                            0,
                                            0,
                                            0,
                                            0,
                                            0,
                                            0,
                                            0,
                                            0,
                                            0,
                                            0,
                                            0,
                                            0,
                                            0,
                                            1,
                                            0,
                                            0,
                                            1,
                                            0,
                                            0,
                                            0,
                                            0,
                                            0,
                                            0,
                                            0,
                                            0,
                                            0,
                                            0,
                                            0,
                                            0,
                                            0,
                                            0,
                                            0,
                                            0,
                                            0,
                                            0,
                                            0,
                                            0,
                                            0,
                                            0,
                                            0,
                                            0,
                                            0,
                                            0,
                                            0,
                                            0,
                                            0,
                                            0,
                                            0,
                                            0,
                                            0,
                                            0,
                                            0,
                                            0,
                                            0,
                                            0,
                                            0,
                                            0,
                                            0,
                                            0,
                                            0,
                                            0,
                                            0,
                                            0,
                                            0,
                                            0,
                                            0,
                                            0,
                                            0,
                                            0,
                                            0,
                                            1,
                                            0,
                                            0,
                                            0,
                                            0,
                                            0,
                                            0,
                                            0,
                                            0,
                                            0,
                                            0,
                                            0,
                                            0,
                                            0,
                                            0,
                                            0,
                                            0,
                                            0,
                                            0,
                                            0,
                                            0,
                                            0,
                                            0,
                                            0,
                                            0,
                                            0,
                                            0,
                                            0,
                                            0,
                                            0,
                                            0,
                                            0,
                                            0,
                                            0,
                                            0,
                                            0,
                                            0,
                                            0,
                                            0,
                                            0,
                                            0,
                                            0,
                                            1,
                                            1,
                                            0,
                                            0,
                                            0,
                                            0,
                                            1,
                                            0,
                                            0,
                                            0,
                                            0,
                                            0,
                                            0,
                                            0,
                                            1,
                                            0,
                                            0,
                                            0,
                                            0,
                                            0,
                                            2,
                                            1,
                                            0,
                                            0
                                        ],
                                        "sizemode": "area",
                                        "sizeref": 0.03,
                                        "symbol": "circle"
                                    },
                                    "mode": "markers",
                                    "name": "",
                                    "orientation": "v",
                                    "showlegend": false,
                                    "type": "scatter",
                                    "x": [
                                        "2020-03-05",
                                        "2020-03-06",
                                        "2020-03-07",
                                        "2020-03-08",
                                        "2020-03-09",
                                        "2020-03-10",
                                        "2020-03-11",
                                        "2020-03-12",
                                        "2020-03-13",
                                        "2020-03-14",
                                        "2020-03-15",
                                        "2020-03-16",
                                        "2020-03-17",
                                        "2020-03-18",
                                        "2020-03-19",
                                        "2020-03-20",
                                        "2020-03-21",
                                        "2020-03-22",
                                        "2020-03-23",
                                        "2020-03-24",
                                        "2020-03-25",
                                        "2020-03-26",
                                        "2020-03-27",
                                        "2020-03-28",
                                        "2020-03-29",
                                        "2020-03-30",
                                        "2020-03-31",
                                        "2020-04-01",
                                        "2020-04-02",
                                        "2020-04-03",
                                        "2020-04-04",
                                        "2020-04-05",
                                        "2020-04-06",
                                        "2020-04-07",
                                        "2020-04-08",
                                        "2020-04-09",
                                        "2020-04-10",
                                        "2020-04-11",
                                        "2020-04-12",
                                        "2020-04-13",
                                        "2020-04-14",
                                        "2020-04-15",
                                        "2020-04-16",
                                        "2020-04-17",
                                        "2020-04-18",
                                        "2020-04-19",
                                        "2020-04-20",
                                        "2020-04-21",
                                        "2020-04-22",
                                        "2020-04-23",
                                        "2020-04-24",
                                        "2020-04-25",
                                        "2020-04-26",
                                        "2020-04-27",
                                        "2020-04-28",
                                        "2020-04-29",
                                        "2020-04-30",
                                        "2020-05-01",
                                        "2020-05-02",
                                        "2020-05-03",
                                        "2020-05-04",
                                        "2020-05-05",
                                        "2020-05-06",
                                        "2020-05-07",
                                        "2020-05-08",
                                        "2020-05-09",
                                        "2020-05-10",
                                        "2020-05-11",
                                        "2020-05-12",
                                        "2020-05-13",
                                        "2020-05-14",
                                        "2020-05-15",
                                        "2020-05-16",
                                        "2020-05-17",
                                        "2020-05-18",
                                        "2020-05-19",
                                        "2020-05-20",
                                        "2020-05-21",
                                        "2020-05-22",
                                        "2020-05-23",
                                        "2020-05-24",
                                        "2020-05-25",
                                        "2020-05-26",
                                        "2020-05-27",
                                        "2020-05-28",
                                        "2020-05-29",
                                        "2020-05-30",
                                        "2020-05-31",
                                        "2020-06-01",
                                        "2020-06-02",
                                        "2020-06-03",
                                        "2020-06-04",
                                        "2020-06-05",
                                        "2020-06-06",
                                        "2020-06-07",
                                        "2020-06-08",
                                        "2020-06-09",
                                        "2020-06-10",
                                        "2020-06-11",
                                        "2020-06-12",
                                        "2020-06-13",
                                        "2020-06-14",
                                        "2020-06-15",
                                        "2020-06-16",
                                        "2020-06-17",
                                        "2020-06-18",
                                        "2020-06-19",
                                        "2020-06-20",
                                        "2020-06-21",
                                        "2020-06-22",
                                        "2020-06-23",
                                        "2020-06-24",
                                        "2020-06-25",
                                        "2020-06-26",
                                        "2020-06-27",
                                        "2020-06-28",
                                        "2020-06-29",
                                        "2020-06-30",
                                        "2020-07-01",
                                        "2020-07-02",
                                        "2020-07-03",
                                        "2020-07-04",
                                        "2020-07-05",
                                        "2020-07-06",
                                        "2020-07-07",
                                        "2020-07-08",
                                        "2020-07-09",
                                        "2020-07-10",
                                        "2020-07-11",
                                        "2020-07-12",
                                        "2020-07-13",
                                        "2020-07-14",
                                        "2020-07-15",
                                        "2020-07-16",
                                        "2020-07-17",
                                        "2020-07-18",
                                        "2020-07-19",
                                        "2020-07-20",
                                        "2020-07-21",
                                        "2020-07-22",
                                        "2020-07-23",
                                        "2020-07-24",
                                        "2020-07-25",
                                        "2020-07-26",
                                        "2020-07-27",
                                        "2020-07-28",
                                        "2020-07-29",
                                        "2020-07-30",
                                        "2020-07-31",
                                        "2020-08-01",
                                        "2020-08-02",
                                        "2020-08-03",
                                        "2020-08-04",
                                        "2020-08-05",
                                        "2020-08-06",
                                        "2020-08-07",
                                        "2020-08-08",
                                        "2020-08-09",
                                        "2020-08-10",
                                        "2020-08-11",
                                        "2020-08-12",
                                        "2020-08-13",
                                        "2020-08-14",
                                        "2020-08-15",
                                        "2020-08-16",
                                        "2020-08-17",
                                        "2020-08-18",
                                        "2020-08-19",
                                        "2020-08-20",
                                        "2020-08-21",
                                        "2020-08-22",
                                        "2020-08-23",
                                        "2020-08-24",
                                        "2020-08-25",
                                        "2020-08-26",
                                        "2020-08-27",
                                        "2020-08-28",
                                        "2020-08-29",
                                        "2020-08-30",
                                        "2020-08-31",
                                        "2020-09-01",
                                        "2020-09-02",
                                        "2020-09-03",
                                        "2020-09-04",
                                        "2020-09-05",
                                        "2020-09-06",
                                        "2020-09-07",
                                        "2020-09-08",
                                        "2020-09-09",
                                        "2020-09-10",
                                        "2020-09-11",
                                        "2020-09-12",
                                        "2020-09-13",
                                        "2020-09-14",
                                        "2020-09-15",
                                        "2020-09-16",
                                        "2020-09-17",
                                        "2020-09-18",
                                        "2020-09-19",
                                        "2020-09-20",
                                        "2020-09-21",
                                        "2020-09-22",
                                        "2020-09-23",
                                        "2020-09-24",
                                        "2020-09-25",
                                        "2020-09-26",
                                        "2020-09-27",
                                        "2020-09-28",
                                        "2020-09-29",
                                        "2020-09-30",
                                        "2020-10-01",
                                        "2020-10-02",
                                        "2020-10-03",
                                        "2020-10-04",
                                        "2020-10-05",
                                        "2020-10-06",
                                        "2020-10-07",
                                        "2020-10-08",
                                        "2020-10-09",
                                        "2020-10-10",
                                        "2020-10-11",
                                        "2020-10-12",
                                        "2020-10-13",
                                        "2020-10-14",
                                        "2020-10-15",
                                        "2020-10-16",
                                        "2020-10-17",
                                        "2020-10-18",
                                        "2020-10-19",
                                        "2020-10-20",
                                        "2020-10-21",
                                        "2020-10-22",
                                        "2020-10-23",
                                        "2020-10-24",
                                        "2020-10-25",
                                        "2020-10-26",
                                        "2020-10-27",
                                        "2020-10-28",
                                        "2020-10-29",
                                        "2020-10-30",
                                        "2020-10-31",
                                        "2020-11-01",
                                        "2020-11-02",
                                        "2020-11-03",
                                        "2020-11-04",
                                        "2020-11-05",
                                        "2020-11-06",
                                        "2020-11-07",
                                        "2020-11-08",
                                        "2020-11-09",
                                        "2020-11-10",
                                        "2020-11-11",
                                        "2020-11-12",
                                        "2020-11-13",
                                        "2020-11-14",
                                        "2020-11-15",
                                        "2020-11-16",
                                        "2020-11-17",
                                        "2020-11-18",
                                        "2020-11-19",
                                        "2020-11-20",
                                        "2020-11-21",
                                        "2020-11-22",
                                        "2020-11-23",
                                        "2020-11-24",
                                        "2020-11-25",
                                        "2020-11-26",
                                        "2020-11-27",
                                        "2020-11-28",
                                        "2020-11-29",
                                        "2020-11-30",
                                        "2020-12-01",
                                        "2020-12-02",
                                        "2020-12-03",
                                        "2020-12-04",
                                        "2020-12-05",
                                        "2020-12-06",
                                        "2020-12-07",
                                        "2020-12-08",
                                        "2020-12-09",
                                        "2020-12-10",
                                        "2020-12-11",
                                        "2020-12-12",
                                        "2020-12-13",
                                        "2020-12-14",
                                        "2020-12-15",
                                        "2020-12-16",
                                        "2020-12-17",
                                        "2020-12-18",
                                        "2020-12-19",
                                        "2020-12-20",
                                        "2020-12-21",
                                        "2020-12-22",
                                        "2020-12-23",
                                        "2020-12-24",
                                        "2020-12-25",
                                        "2020-12-26",
                                        "2020-12-27",
                                        "2020-12-28",
                                        "2020-12-29",
                                        "2020-12-30",
                                        "2020-12-31",
                                        "2021-01-01",
                                        "2021-01-02",
                                        "2021-01-03",
                                        "2021-01-04",
                                        "2021-01-05",
                                        "2021-01-06",
                                        "2021-01-07",
                                        "2021-01-08",
                                        "2021-01-09",
                                        "2021-01-10",
                                        "2021-01-11",
                                        "2021-01-12",
                                        "2021-01-13",
                                        "2021-01-14",
                                        "2021-01-15",
                                        "2021-01-16",
                                        "2021-01-17",
                                        "2021-01-18",
                                        "2021-01-19",
                                        "2021-01-20",
                                        "2021-01-21",
                                        "2021-01-22",
                                        "2021-01-23",
                                        "2021-01-24",
                                        "2021-01-25",
                                        "2021-01-26",
                                        "2021-01-27",
                                        "2021-01-28",
                                        "2021-01-29",
                                        "2021-01-30",
                                        "2021-01-31",
                                        "2021-02-01",
                                        "2021-02-02",
                                        "2021-02-03",
                                        "2021-02-04",
                                        "2021-02-05",
                                        "2021-02-06",
                                        "2021-02-07",
                                        "2021-02-08",
                                        "2021-02-09",
                                        "2021-02-10",
                                        "2021-02-11",
                                        "2021-02-12",
                                        "2021-02-13",
                                        "2021-02-14",
                                        "2021-02-15",
                                        "2021-02-16",
                                        "2021-02-17",
                                        "2021-02-18",
                                        "2021-02-19",
                                        "2021-02-20",
                                        "2021-02-21",
                                        "2021-02-22",
                                        "2021-02-23",
                                        "2021-02-24",
                                        "2021-02-25",
                                        "2021-02-26",
                                        "2021-02-27",
                                        "2021-02-28",
                                        "2021-03-01",
                                        "2021-03-02",
                                        "2021-03-03",
                                        "2021-03-04",
                                        "2021-03-05",
                                        "2021-03-06",
                                        "2021-03-07",
                                        "2021-03-08",
                                        "2021-03-09",
                                        "2021-03-10",
                                        "2021-03-11",
                                        "2021-03-12",
                                        "2021-03-13",
                                        "2021-03-14",
                                        "2021-03-15",
                                        "2021-03-16",
                                        "2021-03-17",
                                        "2021-03-18",
                                        "2021-03-19",
                                        "2021-03-20",
                                        "2021-03-21",
                                        "2021-03-22",
                                        "2021-03-23",
                                        "2021-03-24",
                                        "2021-03-25",
                                        "2021-03-26",
                                        "2021-03-27",
                                        "2021-03-28",
                                        "2021-03-29",
                                        "2021-03-30",
                                        "2021-03-31",
                                        "2021-04-01",
                                        "2021-04-02",
                                        "2021-04-03",
                                        "2021-04-04",
                                        "2021-04-05",
                                        "2021-04-06",
                                        "2021-04-07",
                                        "2021-04-08",
                                        "2021-04-09",
                                        "2021-04-10",
                                        "2021-04-11",
                                        "2021-04-12",
                                        "2021-04-13",
                                        "2021-04-14",
                                        "2021-04-15",
                                        "2021-04-16",
                                        "2021-04-17",
                                        "2021-04-18",
                                        "2021-04-19",
                                        "2021-04-20",
                                        "2021-04-21",
                                        "2021-04-22",
                                        "2021-04-23",
                                        "2021-04-24",
                                        "2021-04-25",
                                        "2021-04-26",
                                        "2021-04-27",
                                        "2021-04-28",
                                        "2021-04-29",
                                        "2021-04-30",
                                        "2021-05-01",
                                        "2021-05-02",
                                        "2021-05-03",
                                        "2021-05-04",
                                        "2021-05-05",
                                        "2021-05-06",
                                        "2021-05-07",
                                        "2021-05-08",
                                        "2021-05-09",
                                        "2021-05-10",
                                        "2021-05-11",
                                        "2021-05-12",
                                        "2021-05-13",
                                        "2021-05-14",
                                        "2021-05-15",
                                        "2021-05-16",
                                        "2021-05-17",
                                        "2021-05-18",
                                        "2021-05-19",
                                        "2021-05-20",
                                        "2021-05-21",
                                        "2021-05-22",
                                        "2021-05-23",
                                        "2021-05-24",
                                        "2021-05-25",
                                        "2021-05-26",
                                        "2021-05-27",
                                        "2021-05-28",
                                        "2021-05-29",
                                        "2021-05-30",
                                        "2021-05-31",
                                        "2021-06-01",
                                        "2021-06-02",
                                        "2021-06-03",
                                        "2021-06-04",
                                        "2021-06-05",
                                        "2021-06-06",
                                        "2021-06-07",
                                        "2021-06-08",
                                        "2021-06-09",
                                        "2021-06-10",
                                        "2021-06-11",
                                        "2021-06-12",
                                        "2021-06-13",
                                        "2021-06-14",
                                        "2021-06-15",
                                        "2021-06-16",
                                        "2021-06-17",
                                        "2021-06-18",
                                        "2021-06-19",
                                        "2021-06-20",
                                        "2021-06-21",
                                        "2021-06-22",
                                        "2021-06-23",
                                        "2021-06-24",
                                        "2021-06-25",
                                        "2021-06-26",
                                        "2021-06-27",
                                        "2021-06-28",
                                        "2021-06-29",
                                        "2021-06-30",
                                        "2021-07-01",
                                        "2021-07-02",
                                        "2021-07-03",
                                        "2021-07-04",
                                        "2021-07-05",
                                        "2021-07-06",
                                        "2021-07-07",
                                        "2021-07-08",
                                        "2021-07-09",
                                        "2021-07-10",
                                        "2021-07-11",
                                        "2021-07-12",
                                        "2021-07-13",
                                        "2021-07-14",
                                        "2021-07-15",
                                        "2021-07-16",
                                        "2021-07-17",
                                        "2021-07-18",
                                        "2021-07-19",
                                        "2021-07-20",
                                        "2021-07-21",
                                        "2021-07-22",
                                        "2021-07-23",
                                        "2021-07-24",
                                        "2021-07-25",
                                        "2021-07-26",
                                        "2021-07-27",
                                        "2021-07-28",
                                        "2021-07-29",
                                        "2021-07-30",
                                        "2021-07-31",
                                        "2021-08-01"
                                    ],
                                    "xaxis": "x",
                                    "y": [
                                        0,
                                        0,
                                        0,
                                        0,
                                        0,
                                        0,
                                        0,
                                        0,
                                        0,
                                        0,
                                        0,
                                        0,
                                        0,
                                        0,
                                        0,
                                        0,
                                        0,
                                        0,
                                        0,
                                        0,
                                        0,
                                        0,
                                        0,
                                        0,
                                        0,
                                        0,
                                        0,
                                        0,
                                        0,
                                        0,
                                        0,
                                        0,
                                        0,
                                        0,
                                        0,
                                        0,
                                        0,
                                        0,
                                        0,
                                        0,
                                        0,
                                        0,
                                        0,
                                        0,
                                        0,
                                        0,
                                        0,
                                        0,
                                        5,
                                        8,
                                        9,
                                        13,
                                        7,
                                        4,
                                        5,
                                        2,
                                        5,
                                        3,
                                        18,
                                        6,
                                        3,
                                        1,
                                        5,
                                        0,
                                        5,
                                        6,
                                        3,
                                        0,
                                        2,
                                        1,
                                        1,
                                        1,
                                        1,
                                        3,
                                        1,
                                        0,
                                        0,
                                        0,
                                        1,
                                        1,
                                        0,
                                        1,
                                        0,
                                        2,
                                        0,
                                        0,
                                        1,
                                        0,
                                        0,
                                        1,
                                        0,
                                        0,
                                        0,
                                        0,
                                        0,
                                        0,
                                        2,
                                        0,
                                        0,
                                        1,
                                        0,
                                        0,
                                        0,
                                        0,
                                        0,
                                        0,
                                        0,
                                        1,
                                        0,
                                        0,
                                        1,
                                        0,
                                        2,
                                        0,
                                        0,
                                        0,
                                        0,
                                        1,
                                        330,
                                        0,
                                        1,
                                        0,
                                        0,
                                        0,
                                        4,
                                        2,
                                        1,
                                        0,
                                        1,
                                        1,
                                        1,
                                        2,
                                        0,
                                        1,
                                        0,
                                        0,
                                        2,
                                        0,
                                        0,
                                        0,
                                        2,
                                        1,
                                        0,
                                        2,
                                        1,
                                        1,
                                        2,
                                        3,
                                        1,
                                        2,
                                        0,
                                        1,
                                        2,
                                        5,
                                        2,
                                        5,
                                        2,
                                        2,
                                        1,
                                        6,
                                        6,
                                        0,
                                        4,
                                        3,
                                        4,
                                        4,
                                        1,
                                        2,
                                        3,
                                        7,
                                        3,
                                        3,
                                        6,
                                        3,
                                        2,
                                        3,
                                        4,
                                        2,
                                        1,
                                        2,
                                        4,
                                        1,
                                        4,
                                        5,
                                        5,
                                        5,
                                        5,
                                        9,
                                        9,
                                        8,
                                        4,
                                        4,
                                        2,
                                        4,
                                        7,
                                        2,
                                        10,
                                        9,
                                        4,
                                        10,
                                        5,
                                        5,
                                        14,
                                        13,
                                        8,
                                        6,
                                        10,
                                        4,
                                        6,
                                        11,
                                        9,
                                        8,
                                        18,
                                        27,
                                        18,
                                        19,
                                        24,
                                        33,
                                        28,
                                        35,
                                        14,
                                        16,
                                        20,
                                        31,
                                        42,
                                        12,
                                        21,
                                        22,
                                        30,
                                        22,
                                        53,
                                        32,
                                        21,
                                        63,
                                        21,
                                        31,
                                        65,
                                        71,
                                        29,
                                        51,
                                        44,
                                        34,
                                        45,
                                        50,
                                        58,
                                        50,
                                        43,
                                        54,
                                        45,
                                        65,
                                        28,
                                        78,
                                        89,
                                        58,
                                        75,
                                        97,
                                        0,
                                        113,
                                        31,
                                        72,
                                        39,
                                        91,
                                        73,
                                        69,
                                        35,
                                        58,
                                        54,
                                        53,
                                        57,
                                        57,
                                        66,
                                        62,
                                        70,
                                        68,
                                        69,
                                        66,
                                        91,
                                        79,
                                        94,
                                        76,
                                        117,
                                        119,
                                        138,
                                        140,
                                        214,
                                        116,
                                        164,
                                        245,
                                        272,
                                        202,
                                        308,
                                        225,
                                        334,
                                        364,
                                        385,
                                        429,
                                        261,
                                        249,
                                        246,
                                        446,
                                        414,
                                        207,
                                        423,
                                        348,
                                        370,
                                        312,
                                        494,
                                        346,
                                        347,
                                        334,
                                        375,
                                        282,
                                        272,
                                        270,
                                        147,
                                        267,
                                        351,
                                        279,
                                        117,
                                        265,
                                        152,
                                        184,
                                        123,
                                        245,
                                        168,
                                        200,
                                        125,
                                        47,
                                        164,
                                        146,
                                        165,
                                        80,
                                        90,
                                        99,
                                        62,
                                        68,
                                        91,
                                        74,
                                        79,
                                        60,
                                        47,
                                        57,
                                        49,
                                        50,
                                        68,
                                        55,
                                        37,
                                        48,
                                        51,
                                        59,
                                        54,
                                        40,
                                        43,
                                        46,
                                        67,
                                        34,
                                        39,
                                        76,
                                        48,
                                        25,
                                        29,
                                        20,
                                        43,
                                        16,
                                        21,
                                        32,
                                        30,
                                        32,
                                        30,
                                        24,
                                        21,
                                        32,
                                        54,
                                        31,
                                        8,
                                        23,
                                        21,
                                        17,
                                        20,
                                        17,
                                        23,
                                        22,
                                        18,
                                        21,
                                        19,
                                        22,
                                        27,
                                        10,
                                        17,
                                        11,
                                        24,
                                        13,
                                        18,
                                        16,
                                        9,
                                        9,
                                        4,
                                        12,
                                        15,
                                        13,
                                        0,
                                        17,
                                        12,
                                        13,
                                        22,
                                        6,
                                        15,
                                        10,
                                        12,
                                        6,
                                        6,
                                        3,
                                        6,
                                        7,
                                        14,
                                        5,
                                        8,
                                        9,
                                        19,
                                        4,
                                        5,
                                        6,
                                        4,
                                        5,
                                        4,
                                        3,
                                        3,
                                        12,
                                        11,
                                        8,
                                        6,
                                        10,
                                        10,
                                        5,
                                        18,
                                        10,
                                        4,
                                        5,
                                        8,
                                        0,
                                        8,
                                        3,
                                        11,
                                        3,
                                        7,
                                        15,
                                        19,
                                        3,
                                        23,
                                        14,
                                        15,
                                        9,
                                        14,
                                        14,
                                        13,
                                        21,
                                        28,
                                        16,
                                        18,
                                        22,
                                        29,
                                        27,
                                        17,
                                        15,
                                        31,
                                        27,
                                        32,
                                        19,
                                        23,
                                        20,
                                        33,
                                        41,
                                        20,
                                        21,
                                        30,
                                        21,
                                        30,
                                        40,
                                        64,
                                        34,
                                        74,
                                        58,
                                        79,
                                        109,
                                        91,
                                        83,
                                        118,
                                        63,
                                        111,
                                        109,
                                        71,
                                        94,
                                        128,
                                        124,
                                        127,
                                        131,
                                        167,
                                        176,
                                        194,
                                        193,
                                        203,
                                        89,
                                        237,
                                        164,
                                        135,
                                        153,
                                        120,
                                        98,
                                        90,
                                        100,
                                        135,
                                        130,
                                        115,
                                        102,
                                        119
                                    ],
                                    "yaxis": "y"
                                }
                            ],
                            "layout": {
                                "legend": {
                                    "itemsizing": "constant",
                                    "tracegroupgap": 0
                                },
                                "template": {
                                    "data": {
                                        "bar": [
                                            {
                                                "error_x": {
                                                    "color": "#2a3f5f"
                                                },
                                                "error_y": {
                                                    "color": "#2a3f5f"
                                                },
                                                "marker": {
                                                    "line": {
                                                        "color": "#E5ECF6",
                                                        "width": 0.5
                                                    },
                                                    "pattern": {
                                                        "fillmode": "overlay",
                                                        "size": 10,
                                                        "solidity": 0.2
                                                    }
                                                },
                                                "type": "bar"
                                            }
                                        ],
                                        "barpolar": [
                                            {
                                                "marker": {
                                                    "line": {
                                                        "color": "#E5ECF6",
                                                        "width": 0.5
                                                    },
                                                    "pattern": {
                                                        "fillmode": "overlay",
                                                        "size": 10,
                                                        "solidity": 0.2
                                                    }
                                                },
                                                "type": "barpolar"
                                            }
                                        ],
                                        "carpet": [
                                            {
                                                "aaxis": {
                                                    "endlinecolor": "#2a3f5f",
                                                    "gridcolor": "white",
                                                    "linecolor": "white",
                                                    "minorgridcolor": "white",
                                                    "startlinecolor": "#2a3f5f"
                                                },
                                                "baxis": {
                                                    "endlinecolor": "#2a3f5f",
                                                    "gridcolor": "white",
                                                    "linecolor": "white",
                                                    "minorgridcolor": "white",
                                                    "startlinecolor": "#2a3f5f"
                                                },
                                                "type": "carpet"
                                            }
                                        ],
                                        "choropleth": [
                                            {
                                                "colorbar": {
                                                    "outlinewidth": 0,
                                                    "ticks": ""
                                                },
                                                "type": "choropleth"
                                            }
                                        ],
                                        "contour": [
                                            {
                                                "colorbar": {
                                                    "outlinewidth": 0,
                                                    "ticks": ""
                                                },
                                                "colorscale": [
                                                    [
                                                        0,
                                                        "#0d0887"
                                                    ],
                                                    [
                                                        0.1111111111111111,
                                                        "#46039f"
                                                    ],
                                                    [
                                                        0.2222222222222222,
                                                        "#7201a8"
                                                    ],
                                                    [
                                                        0.3333333333333333,
                                                        "#9c179e"
                                                    ],
                                                    [
                                                        0.4444444444444444,
                                                        "#bd3786"
                                                    ],
                                                    [
                                                        0.5555555555555556,
                                                        "#d8576b"
                                                    ],
                                                    [
                                                        0.6666666666666666,
                                                        "#ed7953"
                                                    ],
                                                    [
                                                        0.7777777777777778,
                                                        "#fb9f3a"
                                                    ],
                                                    [
                                                        0.8888888888888888,
                                                        "#fdca26"
                                                    ],
                                                    [
                                                        1,
                                                        "#f0f921"
                                                    ]
                                                ],
                                                "type": "contour"
                                            }
                                        ],
                                        "contourcarpet": [
                                            {
                                                "colorbar": {
                                                    "outlinewidth": 0,
                                                    "ticks": ""
                                                },
                                                "type": "contourcarpet"
                                            }
                                        ],
                                        "heatmap": [
                                            {
                                                "colorbar": {
                                                    "outlinewidth": 0,
                                                    "ticks": ""
                                                },
                                                "colorscale": [
                                                    [
                                                        0,
                                                        "#0d0887"
                                                    ],
                                                    [
                                                        0.1111111111111111,
                                                        "#46039f"
                                                    ],
                                                    [
                                                        0.2222222222222222,
                                                        "#7201a8"
                                                    ],
                                                    [
                                                        0.3333333333333333,
                                                        "#9c179e"
                                                    ],
                                                    [
                                                        0.4444444444444444,
                                                        "#bd3786"
                                                    ],
                                                    [
                                                        0.5555555555555556,
                                                        "#d8576b"
                                                    ],
                                                    [
                                                        0.6666666666666666,
                                                        "#ed7953"
                                                    ],
                                                    [
                                                        0.7777777777777778,
                                                        "#fb9f3a"
                                                    ],
                                                    [
                                                        0.8888888888888888,
                                                        "#fdca26"
                                                    ],
                                                    [
                                                        1,
                                                        "#f0f921"
                                                    ]
                                                ],
                                                "type": "heatmap"
                                            }
                                        ],
                                        "heatmapgl": [
                                            {
                                                "colorbar": {
                                                    "outlinewidth": 0,
                                                    "ticks": ""
                                                },
                                                "colorscale": [
                                                    [
                                                        0,
                                                        "#0d0887"
                                                    ],
                                                    [
                                                        0.1111111111111111,
                                                        "#46039f"
                                                    ],
                                                    [
                                                        0.2222222222222222,
                                                        "#7201a8"
                                                    ],
                                                    [
                                                        0.3333333333333333,
                                                        "#9c179e"
                                                    ],
                                                    [
                                                        0.4444444444444444,
                                                        "#bd3786"
                                                    ],
                                                    [
                                                        0.5555555555555556,
                                                        "#d8576b"
                                                    ],
                                                    [
                                                        0.6666666666666666,
                                                        "#ed7953"
                                                    ],
                                                    [
                                                        0.7777777777777778,
                                                        "#fb9f3a"
                                                    ],
                                                    [
                                                        0.8888888888888888,
                                                        "#fdca26"
                                                    ],
                                                    [
                                                        1,
                                                        "#f0f921"
                                                    ]
                                                ],
                                                "type": "heatmapgl"
                                            }
                                        ],
                                        "histogram": [
                                            {
                                                "marker": {
                                                    "pattern": {
                                                        "fillmode": "overlay",
                                                        "size": 10,
                                                        "solidity": 0.2
                                                    }
                                                },
                                                "type": "histogram"
                                            }
                                        ],
                                        "histogram2d": [
                                            {
                                                "colorbar": {
                                                    "outlinewidth": 0,
                                                    "ticks": ""
                                                },
                                                "colorscale": [
                                                    [
                                                        0,
                                                        "#0d0887"
                                                    ],
                                                    [
                                                        0.1111111111111111,
                                                        "#46039f"
                                                    ],
                                                    [
                                                        0.2222222222222222,
                                                        "#7201a8"
                                                    ],
                                                    [
                                                        0.3333333333333333,
                                                        "#9c179e"
                                                    ],
                                                    [
                                                        0.4444444444444444,
                                                        "#bd3786"
                                                    ],
                                                    [
                                                        0.5555555555555556,
                                                        "#d8576b"
                                                    ],
                                                    [
                                                        0.6666666666666666,
                                                        "#ed7953"
                                                    ],
                                                    [
                                                        0.7777777777777778,
                                                        "#fb9f3a"
                                                    ],
                                                    [
                                                        0.8888888888888888,
                                                        "#fdca26"
                                                    ],
                                                    [
                                                        1,
                                                        "#f0f921"
                                                    ]
                                                ],
                                                "type": "histogram2d"
                                            }
                                        ],
                                        "histogram2dcontour": [
                                            {
                                                "colorbar": {
                                                    "outlinewidth": 0,
                                                    "ticks": ""
                                                },
                                                "colorscale": [
                                                    [
                                                        0,
                                                        "#0d0887"
                                                    ],
                                                    [
                                                        0.1111111111111111,
                                                        "#46039f"
                                                    ],
                                                    [
                                                        0.2222222222222222,
                                                        "#7201a8"
                                                    ],
                                                    [
                                                        0.3333333333333333,
                                                        "#9c179e"
                                                    ],
                                                    [
                                                        0.4444444444444444,
                                                        "#bd3786"
                                                    ],
                                                    [
                                                        0.5555555555555556,
                                                        "#d8576b"
                                                    ],
                                                    [
                                                        0.6666666666666666,
                                                        "#ed7953"
                                                    ],
                                                    [
                                                        0.7777777777777778,
                                                        "#fb9f3a"
                                                    ],
                                                    [
                                                        0.8888888888888888,
                                                        "#fdca26"
                                                    ],
                                                    [
                                                        1,
                                                        "#f0f921"
                                                    ]
                                                ],
                                                "type": "histogram2dcontour"
                                            }
                                        ],
                                        "mesh3d": [
                                            {
                                                "colorbar": {
                                                    "outlinewidth": 0,
                                                    "ticks": ""
                                                },
                                                "type": "mesh3d"
                                            }
                                        ],
                                        "parcoords": [
                                            {
                                                "line": {
                                                    "colorbar": {
                                                        "outlinewidth": 0,
                                                        "ticks": ""
                                                    }
                                                },
                                                "type": "parcoords"
                                            }
                                        ],
                                        "pie": [
                                            {
                                                "automargin": true,
                                                "type": "pie"
                                            }
                                        ],
                                        "scatter": [
                                            {
                                                "marker": {
                                                    "colorbar": {
                                                        "outlinewidth": 0,
                                                        "ticks": ""
                                                    }
                                                },
                                                "type": "scatter"
                                            }
                                        ],
                                        "scatter3d": [
                                            {
                                                "line": {
                                                    "colorbar": {
                                                        "outlinewidth": 0,
                                                        "ticks": ""
                                                    }
                                                },
                                                "marker": {
                                                    "colorbar": {
                                                        "outlinewidth": 0,
                                                        "ticks": ""
                                                    }
                                                },
                                                "type": "scatter3d"
                                            }
                                        ],
                                        "scattercarpet": [
                                            {
                                                "marker": {
                                                    "colorbar": {
                                                        "outlinewidth": 0,
                                                        "ticks": ""
                                                    }
                                                },
                                                "type": "scattercarpet"
                                            }
                                        ],
                                        "scattergeo": [
                                            {
                                                "marker": {
                                                    "colorbar": {
                                                        "outlinewidth": 0,
                                                        "ticks": ""
                                                    }
                                                },
                                                "type": "scattergeo"
                                            }
                                        ],
                                        "scattergl": [
                                            {
                                                "marker": {
                                                    "colorbar": {
                                                        "outlinewidth": 0,
                                                        "ticks": ""
                                                    }
                                                },
                                                "type": "scattergl"
                                            }
                                        ],
                                        "scattermapbox": [
                                            {
                                                "marker": {
                                                    "colorbar": {
                                                        "outlinewidth": 0,
                                                        "ticks": ""
                                                    }
                                                },
                                                "type": "scattermapbox"
                                            }
                                        ],
                                        "scatterpolar": [
                                            {
                                                "marker": {
                                                    "colorbar": {
                                                        "outlinewidth": 0,
                                                        "ticks": ""
                                                    }
                                                },
                                                "type": "scatterpolar"
                                            }
                                        ],
                                        "scatterpolargl": [
                                            {
                                                "marker": {
                                                    "colorbar": {
                                                        "outlinewidth": 0,
                                                        "ticks": ""
                                                    }
                                                },
                                                "type": "scatterpolargl"
                                            }
                                        ],
                                        "scatterternary": [
                                            {
                                                "marker": {
                                                    "colorbar": {
                                                        "outlinewidth": 0,
                                                        "ticks": ""
                                                    }
                                                },
                                                "type": "scatterternary"
                                            }
                                        ],
                                        "surface": [
                                            {
                                                "colorbar": {
                                                    "outlinewidth": 0,
                                                    "ticks": ""
                                                },
                                                "colorscale": [
                                                    [
                                                        0,
                                                        "#0d0887"
                                                    ],
                                                    [
                                                        0.1111111111111111,
                                                        "#46039f"
                                                    ],
                                                    [
                                                        0.2222222222222222,
                                                        "#7201a8"
                                                    ],
                                                    [
                                                        0.3333333333333333,
                                                        "#9c179e"
                                                    ],
                                                    [
                                                        0.4444444444444444,
                                                        "#bd3786"
                                                    ],
                                                    [
                                                        0.5555555555555556,
                                                        "#d8576b"
                                                    ],
                                                    [
                                                        0.6666666666666666,
                                                        "#ed7953"
                                                    ],
                                                    [
                                                        0.7777777777777778,
                                                        "#fb9f3a"
                                                    ],
                                                    [
                                                        0.8888888888888888,
                                                        "#fdca26"
                                                    ],
                                                    [
                                                        1,
                                                        "#f0f921"
                                                    ]
                                                ],
                                                "type": "surface"
                                            }
                                        ],
                                        "table": [
                                            {
                                                "cells": {
                                                    "fill": {
                                                        "color": "#EBF0F8"
                                                    },
                                                    "line": {
                                                        "color": "white"
                                                    }
                                                },
                                                "header": {
                                                    "fill": {
                                                        "color": "#C8D4E3"
                                                    },
                                                    "line": {
                                                        "color": "white"
                                                    }
                                                },
                                                "type": "table"
                                            }
                                        ]
                                    },
                                    "layout": {
                                        "annotationdefaults": {
                                            "arrowcolor": "#2a3f5f",
                                            "arrowhead": 0,
                                            "arrowwidth": 1
                                        },
                                        "autotypenumbers": "strict",
                                        "coloraxis": {
                                            "colorbar": {
                                                "outlinewidth": 0,
                                                "ticks": ""
                                            }
                                        },
                                        "colorscale": {
                                            "diverging": [
                                                [
                                                    0,
                                                    "#8e0152"
                                                ],
                                                [
                                                    0.1,
                                                    "#c51b7d"
                                                ],
                                                [
                                                    0.2,
                                                    "#de77ae"
                                                ],
                                                [
                                                    0.3,
                                                    "#f1b6da"
                                                ],
                                                [
                                                    0.4,
                                                    "#fde0ef"
                                                ],
                                                [
                                                    0.5,
                                                    "#f7f7f7"
                                                ],
                                                [
                                                    0.6,
                                                    "#e6f5d0"
                                                ],
                                                [
                                                    0.7,
                                                    "#b8e186"
                                                ],
                                                [
                                                    0.8,
                                                    "#7fbc41"
                                                ],
                                                [
                                                    0.9,
                                                    "#4d9221"
                                                ],
                                                [
                                                    1,
                                                    "#276419"
                                                ]
                                            ],
                                            "sequential": [
                                                [
                                                    0,
                                                    "#0d0887"
                                                ],
                                                [
                                                    0.1111111111111111,
                                                    "#46039f"
                                                ],
                                                [
                                                    0.2222222222222222,
                                                    "#7201a8"
                                                ],
                                                [
                                                    0.3333333333333333,
                                                    "#9c179e"
                                                ],
                                                [
                                                    0.4444444444444444,
                                                    "#bd3786"
                                                ],
                                                [
                                                    0.5555555555555556,
                                                    "#d8576b"
                                                ],
                                                [
                                                    0.6666666666666666,
                                                    "#ed7953"
                                                ],
                                                [
                                                    0.7777777777777778,
                                                    "#fb9f3a"
                                                ],
                                                [
                                                    0.8888888888888888,
                                                    "#fdca26"
                                                ],
                                                [
                                                    1,
                                                    "#f0f921"
                                                ]
                                            ],
                                            "sequentialminus": [
                                                [
                                                    0,
                                                    "#0d0887"
                                                ],
                                                [
                                                    0.1111111111111111,
                                                    "#46039f"
                                                ],
                                                [
                                                    0.2222222222222222,
                                                    "#7201a8"
                                                ],
                                                [
                                                    0.3333333333333333,
                                                    "#9c179e"
                                                ],
                                                [
                                                    0.4444444444444444,
                                                    "#bd3786"
                                                ],
                                                [
                                                    0.5555555555555556,
                                                    "#d8576b"
                                                ],
                                                [
                                                    0.6666666666666666,
                                                    "#ed7953"
                                                ],
                                                [
                                                    0.7777777777777778,
                                                    "#fb9f3a"
                                                ],
                                                [
                                                    0.8888888888888888,
                                                    "#fdca26"
                                                ],
                                                [
                                                    1,
                                                    "#f0f921"
                                                ]
                                            ]
                                        },
                                        "colorway": [
                                            "#636efa",
                                            "#EF553B",
                                            "#00cc96",
                                            "#ab63fa",
                                            "#FFA15A",
                                            "#19d3f3",
                                            "#FF6692",
                                            "#B6E880",
                                            "#FF97FF",
                                            "#FECB52"
                                        ],
                                        "font": {
                                            "color": "#2a3f5f"
                                        },
                                        "geo": {
                                            "bgcolor": "white",
                                            "lakecolor": "white",
                                            "landcolor": "#E5ECF6",
                                            "showlakes": true,
                                            "showland": true,
                                            "subunitcolor": "white"
                                        },
                                        "hoverlabel": {
                                            "align": "left"
                                        },
                                        "hovermode": "closest",
                                        "mapbox": {
                                            "style": "light"
                                        },
                                        "paper_bgcolor": "white",
                                        "plot_bgcolor": "#E5ECF6",
                                        "polar": {
                                            "angularaxis": {
                                                "gridcolor": "white",
                                                "linecolor": "white",
                                                "ticks": ""
                                            },
                                            "bgcolor": "#E5ECF6",
                                            "radialaxis": {
                                                "gridcolor": "white",
                                                "linecolor": "white",
                                                "ticks": ""
                                            }
                                        },
                                        "scene": {
                                            "xaxis": {
                                                "backgroundcolor": "#E5ECF6",
                                                "gridcolor": "white",
                                                "gridwidth": 2,
                                                "linecolor": "white",
                                                "showbackground": true,
                                                "ticks": "",
                                                "zerolinecolor": "white"
                                            },
                                            "yaxis": {
                                                "backgroundcolor": "#E5ECF6",
                                                "gridcolor": "white",
                                                "gridwidth": 2,
                                                "linecolor": "white",
                                                "showbackground": true,
                                                "ticks": "",
                                                "zerolinecolor": "white"
                                            },
                                            "zaxis": {
                                                "backgroundcolor": "#E5ECF6",
                                                "gridcolor": "white",
                                                "gridwidth": 2,
                                                "linecolor": "white",
                                                "showbackground": true,
                                                "ticks": "",
                                                "zerolinecolor": "white"
                                            }
                                        },
                                        "shapedefaults": {
                                            "line": {
                                                "color": "#2a3f5f"
                                            }
                                        },
                                        "ternary": {
                                            "aaxis": {
                                                "gridcolor": "white",
                                                "linecolor": "white",
                                                "ticks": ""
                                            },
                                            "baxis": {
                                                "gridcolor": "white",
                                                "linecolor": "white",
                                                "ticks": ""
                                            },
                                            "bgcolor": "#E5ECF6",
                                            "caxis": {
                                                "gridcolor": "white",
                                                "linecolor": "white",
                                                "ticks": ""
                                            }
                                        },
                                        "title": {
                                            "x": 0.05
                                        },
                                        "xaxis": {
                                            "automargin": true,
                                            "gridcolor": "white",
                                            "linecolor": "white",
                                            "ticks": "",
                                            "title": {
                                                "standoff": 15
                                            },
                                            "zerolinecolor": "white",
                                            "zerolinewidth": 2
                                        },
                                        "yaxis": {
                                            "automargin": true,
                                            "gridcolor": "white",
                                            "linecolor": "white",
                                            "ticks": "",
                                            "title": {
                                                "standoff": 15
                                            },
                                            "zerolinecolor": "white",
                                            "zerolinewidth": 2
                                        }
                                    }
                                },
                                "title": {
                                    "text": "COVID-19 Milton Keynes (new cases)"
                                },
                                "xaxis": {
                                    "anchor": "y",
                                    "domain": [
                                        0,
                                        1
                                    ],
                                    "title": {
                                        "text": "date"
                                    }
                                },
                                "yaxis": {
                                    "anchor": "x",
                                    "domain": [
                                        0,
                                        1
                                    ],
                                    "title": {
                                        "text": "newCasesByPublishDate"
                                    }
                                }
                            }
                        }
                    },
                    "metadata": {}
                }
            ],
            "metadata": {}
        },
        {
            "cell_type": "code",
            "execution_count": 13,
            "source": [
                "# using plotly express\r\n",
                "df = df.dropna()\r\n",
                "fig = px.scatter(df, x='date', y='cumDeaths28DaysByDeathDate', size='newCasesByPublishDate', title=\"COVID-19 Milton Keynes (cumulative deaths)\")\r\n",
                "fig.show()"
            ],
            "outputs": [
                {
                    "output_type": "display_data",
                    "data": {
                        "text/html": [
                            "<div>                            <div id=\"b8da23ba-0834-4ec2-a2b3-991991622b44\" class=\"plotly-graph-div\" style=\"height:525px; width:100%;\"></div>            <script type=\"text/javascript\">                require([\"plotly\"], function(Plotly) {                    window.PLOTLYENV=window.PLOTLYENV || {};                                    if (document.getElementById(\"b8da23ba-0834-4ec2-a2b3-991991622b44\")) {                    Plotly.newPlot(                        \"b8da23ba-0834-4ec2-a2b3-991991622b44\",                        [{\"hovertemplate\":\"date=%{x}<br>cumDeaths28DaysByDeathDate=%{y}<br>newCasesByPublishDate=%{marker.size}<extra></extra>\",\"legendgroup\":\"\",\"marker\":{\"color\":\"#636efa\",\"size\":[0.0,0.0,0.0,0.0,0.0,0.0,0.0,0.0,0.0,0.0,0.0,0.0,0.0,0.0,0.0,0.0,0.0,0.0,0.0,0.0,0.0,0.0,0.0,0.0,0.0,0.0,0.0,0.0,0.0,0.0,0.0,0.0,0.0,0.0,0.0,0.0,0.0,0.0,0.0,0.0,0.0,0.0,0.0,0.0,0.0,0.0,0.0,0.0,5.0,8.0,9.0,13.0,7.0,4.0,5.0,2.0,5.0,3.0,18.0,6.0,3.0,1.0,5.0,0.0,5.0,6.0,3.0,0.0,2.0,1.0,1.0,1.0,1.0,3.0,1.0,0.0,0.0,0.0,1.0,1.0,0.0,1.0,0.0,2.0,0.0,0.0,1.0,0.0,0.0,1.0,0.0,0.0,0.0,0.0,0.0,0.0,2.0,0.0,0.0,1.0,0.0,0.0,0.0,0.0,0.0,0.0,0.0,1.0,0.0,0.0,1.0,0.0,2.0,0.0,0.0,0.0,0.0,1.0,330.0,0.0,1.0,0.0,0.0,0.0,4.0,2.0,1.0,0.0,1.0,1.0,1.0,2.0,0.0,1.0,0.0,0.0,2.0,0.0,0.0,0.0,2.0,1.0,0.0,2.0,1.0,1.0,2.0,3.0,1.0,2.0,0.0,1.0,2.0,5.0,2.0,5.0,2.0,2.0,1.0,6.0,6.0,0.0,4.0,3.0,4.0,4.0,1.0,2.0,3.0,7.0,3.0,3.0,6.0,3.0,2.0,3.0,4.0,2.0,1.0,2.0,4.0,1.0,4.0,5.0,5.0,5.0,5.0,9.0,9.0,8.0,4.0,4.0,2.0,4.0,7.0,2.0,10.0,9.0,4.0,10.0,5.0,5.0,14.0,13.0,8.0,6.0,10.0,4.0,6.0,11.0,9.0,8.0,18.0,27.0,18.0,19.0,24.0,33.0,28.0,35.0,14.0,16.0,20.0,31.0,42.0,12.0,21.0,22.0,30.0,22.0,53.0,32.0,21.0,63.0,21.0,31.0,65.0,71.0,29.0,51.0,44.0,34.0,45.0,50.0,58.0,50.0,43.0,54.0,45.0,65.0,28.0,78.0,89.0,58.0,75.0,97.0,0.0,113.0,31.0,72.0,39.0,91.0,73.0,69.0,35.0,58.0,54.0,53.0,57.0,57.0,66.0,62.0,70.0,68.0,69.0,66.0,91.0,79.0,94.0,76.0,117.0,119.0,138.0,140.0,214.0,116.0,164.0,245.0,272.0,202.0,308.0,225.0,334.0,364.0,385.0,429.0,261.0,249.0,246.0,446.0,414.0,207.0,423.0,348.0,370.0,312.0,494.0,346.0,347.0,334.0,375.0,282.0,272.0,270.0,147.0,267.0,351.0,279.0,117.0,265.0,152.0,184.0,123.0,245.0,168.0,200.0,125.0,47.0,164.0,146.0,165.0,80.0,90.0,99.0,62.0,68.0,91.0,74.0,79.0,60.0,47.0,57.0,49.0,50.0,68.0,55.0,37.0,48.0,51.0,59.0,54.0,40.0,43.0,46.0,67.0,34.0,39.0,76.0,48.0,25.0,29.0,20.0,43.0,16.0,21.0,32.0,30.0,32.0,30.0,24.0,21.0,32.0,54.0,31.0,8.0,23.0,21.0,17.0,20.0,17.0,23.0,22.0,18.0,21.0,19.0,22.0,27.0,10.0,17.0,11.0,24.0,13.0,18.0,16.0,9.0,9.0,4.0,12.0,15.0,13.0,0.0,17.0,12.0,13.0,22.0,6.0,15.0,10.0,12.0,6.0,6.0,3.0,6.0,7.0,14.0,5.0,8.0,9.0,19.0,4.0,5.0,6.0,4.0,5.0,4.0,3.0,3.0,12.0,11.0,8.0,6.0,10.0,10.0,5.0,18.0,10.0,4.0,5.0,8.0,0.0,8.0,3.0,11.0,3.0,7.0,15.0,19.0,3.0,23.0,14.0,15.0,9.0,14.0,14.0,13.0,21.0,28.0,16.0,18.0,22.0,29.0,27.0,17.0,15.0,31.0,27.0,32.0,19.0,23.0,20.0,33.0,41.0,20.0,21.0,30.0,21.0,30.0,40.0,64.0,34.0,74.0,58.0,79.0,109.0,91.0,83.0,118.0,63.0,111.0,109.0,71.0,94.0,128.0,124.0,127.0,131.0,167.0,176.0,194.0,193.0,203.0,89.0,237.0,164.0,135.0,153.0,120.0,98.0,90.0,100.0,135.0,130.0,115.0,102.0,119.0],\"sizemode\":\"area\",\"sizeref\":1.235,\"symbol\":\"circle\"},\"mode\":\"markers\",\"name\":\"\",\"orientation\":\"v\",\"showlegend\":false,\"type\":\"scatter\",\"x\":[\"2020-03-05\",\"2020-03-06\",\"2020-03-07\",\"2020-03-08\",\"2020-03-09\",\"2020-03-10\",\"2020-03-11\",\"2020-03-12\",\"2020-03-13\",\"2020-03-14\",\"2020-03-15\",\"2020-03-16\",\"2020-03-17\",\"2020-03-18\",\"2020-03-19\",\"2020-03-20\",\"2020-03-21\",\"2020-03-22\",\"2020-03-23\",\"2020-03-24\",\"2020-03-25\",\"2020-03-26\",\"2020-03-27\",\"2020-03-28\",\"2020-03-29\",\"2020-03-30\",\"2020-03-31\",\"2020-04-01\",\"2020-04-02\",\"2020-04-03\",\"2020-04-04\",\"2020-04-05\",\"2020-04-06\",\"2020-04-07\",\"2020-04-08\",\"2020-04-09\",\"2020-04-10\",\"2020-04-11\",\"2020-04-12\",\"2020-04-13\",\"2020-04-14\",\"2020-04-15\",\"2020-04-16\",\"2020-04-17\",\"2020-04-18\",\"2020-04-19\",\"2020-04-20\",\"2020-04-21\",\"2020-04-22\",\"2020-04-23\",\"2020-04-24\",\"2020-04-25\",\"2020-04-26\",\"2020-04-27\",\"2020-04-28\",\"2020-04-29\",\"2020-04-30\",\"2020-05-01\",\"2020-05-02\",\"2020-05-03\",\"2020-05-04\",\"2020-05-05\",\"2020-05-06\",\"2020-05-07\",\"2020-05-08\",\"2020-05-09\",\"2020-05-10\",\"2020-05-11\",\"2020-05-12\",\"2020-05-13\",\"2020-05-14\",\"2020-05-15\",\"2020-05-16\",\"2020-05-17\",\"2020-05-18\",\"2020-05-19\",\"2020-05-20\",\"2020-05-21\",\"2020-05-22\",\"2020-05-23\",\"2020-05-24\",\"2020-05-25\",\"2020-05-26\",\"2020-05-27\",\"2020-05-28\",\"2020-05-29\",\"2020-05-30\",\"2020-05-31\",\"2020-06-01\",\"2020-06-02\",\"2020-06-03\",\"2020-06-04\",\"2020-06-05\",\"2020-06-06\",\"2020-06-07\",\"2020-06-08\",\"2020-06-09\",\"2020-06-10\",\"2020-06-11\",\"2020-06-12\",\"2020-06-13\",\"2020-06-14\",\"2020-06-15\",\"2020-06-16\",\"2020-06-17\",\"2020-06-18\",\"2020-06-19\",\"2020-06-20\",\"2020-06-21\",\"2020-06-22\",\"2020-06-23\",\"2020-06-24\",\"2020-06-25\",\"2020-06-26\",\"2020-06-27\",\"2020-06-28\",\"2020-06-29\",\"2020-06-30\",\"2020-07-01\",\"2020-07-02\",\"2020-07-03\",\"2020-07-04\",\"2020-07-05\",\"2020-07-06\",\"2020-07-07\",\"2020-07-08\",\"2020-07-09\",\"2020-07-10\",\"2020-07-11\",\"2020-07-12\",\"2020-07-13\",\"2020-07-14\",\"2020-07-15\",\"2020-07-16\",\"2020-07-17\",\"2020-07-18\",\"2020-07-19\",\"2020-07-20\",\"2020-07-21\",\"2020-07-22\",\"2020-07-23\",\"2020-07-24\",\"2020-07-25\",\"2020-07-26\",\"2020-07-27\",\"2020-07-28\",\"2020-07-29\",\"2020-07-30\",\"2020-07-31\",\"2020-08-01\",\"2020-08-02\",\"2020-08-03\",\"2020-08-04\",\"2020-08-05\",\"2020-08-06\",\"2020-08-07\",\"2020-08-08\",\"2020-08-09\",\"2020-08-10\",\"2020-08-11\",\"2020-08-12\",\"2020-08-13\",\"2020-08-14\",\"2020-08-15\",\"2020-08-16\",\"2020-08-17\",\"2020-08-18\",\"2020-08-19\",\"2020-08-20\",\"2020-08-21\",\"2020-08-22\",\"2020-08-23\",\"2020-08-24\",\"2020-08-25\",\"2020-08-26\",\"2020-08-27\",\"2020-08-28\",\"2020-08-29\",\"2020-08-30\",\"2020-08-31\",\"2020-09-01\",\"2020-09-02\",\"2020-09-03\",\"2020-09-04\",\"2020-09-05\",\"2020-09-06\",\"2020-09-07\",\"2020-09-08\",\"2020-09-09\",\"2020-09-10\",\"2020-09-11\",\"2020-09-12\",\"2020-09-13\",\"2020-09-14\",\"2020-09-15\",\"2020-09-16\",\"2020-09-17\",\"2020-09-18\",\"2020-09-19\",\"2020-09-20\",\"2020-09-21\",\"2020-09-22\",\"2020-09-23\",\"2020-09-24\",\"2020-09-25\",\"2020-09-26\",\"2020-09-27\",\"2020-09-28\",\"2020-09-29\",\"2020-09-30\",\"2020-10-01\",\"2020-10-02\",\"2020-10-03\",\"2020-10-04\",\"2020-10-05\",\"2020-10-06\",\"2020-10-07\",\"2020-10-08\",\"2020-10-09\",\"2020-10-10\",\"2020-10-11\",\"2020-10-12\",\"2020-10-13\",\"2020-10-14\",\"2020-10-15\",\"2020-10-16\",\"2020-10-17\",\"2020-10-18\",\"2020-10-19\",\"2020-10-20\",\"2020-10-21\",\"2020-10-22\",\"2020-10-23\",\"2020-10-24\",\"2020-10-25\",\"2020-10-26\",\"2020-10-27\",\"2020-10-28\",\"2020-10-29\",\"2020-10-30\",\"2020-10-31\",\"2020-11-01\",\"2020-11-02\",\"2020-11-03\",\"2020-11-04\",\"2020-11-05\",\"2020-11-06\",\"2020-11-07\",\"2020-11-08\",\"2020-11-09\",\"2020-11-10\",\"2020-11-11\",\"2020-11-12\",\"2020-11-13\",\"2020-11-14\",\"2020-11-15\",\"2020-11-16\",\"2020-11-17\",\"2020-11-18\",\"2020-11-19\",\"2020-11-20\",\"2020-11-21\",\"2020-11-22\",\"2020-11-23\",\"2020-11-24\",\"2020-11-25\",\"2020-11-26\",\"2020-11-27\",\"2020-11-28\",\"2020-11-29\",\"2020-11-30\",\"2020-12-01\",\"2020-12-02\",\"2020-12-03\",\"2020-12-04\",\"2020-12-05\",\"2020-12-06\",\"2020-12-07\",\"2020-12-08\",\"2020-12-09\",\"2020-12-10\",\"2020-12-11\",\"2020-12-12\",\"2020-12-13\",\"2020-12-14\",\"2020-12-15\",\"2020-12-16\",\"2020-12-17\",\"2020-12-18\",\"2020-12-19\",\"2020-12-20\",\"2020-12-21\",\"2020-12-22\",\"2020-12-23\",\"2020-12-24\",\"2020-12-25\",\"2020-12-26\",\"2020-12-27\",\"2020-12-28\",\"2020-12-29\",\"2020-12-30\",\"2020-12-31\",\"2021-01-01\",\"2021-01-02\",\"2021-01-03\",\"2021-01-04\",\"2021-01-05\",\"2021-01-06\",\"2021-01-07\",\"2021-01-08\",\"2021-01-09\",\"2021-01-10\",\"2021-01-11\",\"2021-01-12\",\"2021-01-13\",\"2021-01-14\",\"2021-01-15\",\"2021-01-16\",\"2021-01-17\",\"2021-01-18\",\"2021-01-19\",\"2021-01-20\",\"2021-01-21\",\"2021-01-22\",\"2021-01-23\",\"2021-01-24\",\"2021-01-25\",\"2021-01-26\",\"2021-01-27\",\"2021-01-28\",\"2021-01-29\",\"2021-01-30\",\"2021-01-31\",\"2021-02-01\",\"2021-02-02\",\"2021-02-03\",\"2021-02-04\",\"2021-02-05\",\"2021-02-06\",\"2021-02-07\",\"2021-02-08\",\"2021-02-09\",\"2021-02-10\",\"2021-02-11\",\"2021-02-12\",\"2021-02-13\",\"2021-02-14\",\"2021-02-15\",\"2021-02-16\",\"2021-02-17\",\"2021-02-18\",\"2021-02-19\",\"2021-02-20\",\"2021-02-21\",\"2021-02-22\",\"2021-02-23\",\"2021-02-24\",\"2021-02-25\",\"2021-02-26\",\"2021-02-27\",\"2021-02-28\",\"2021-03-01\",\"2021-03-02\",\"2021-03-03\",\"2021-03-04\",\"2021-03-05\",\"2021-03-06\",\"2021-03-07\",\"2021-03-08\",\"2021-03-09\",\"2021-03-10\",\"2021-03-11\",\"2021-03-12\",\"2021-03-13\",\"2021-03-14\",\"2021-03-15\",\"2021-03-16\",\"2021-03-17\",\"2021-03-18\",\"2021-03-19\",\"2021-03-20\",\"2021-03-21\",\"2021-03-22\",\"2021-03-23\",\"2021-03-24\",\"2021-03-25\",\"2021-03-26\",\"2021-03-27\",\"2021-03-28\",\"2021-03-29\",\"2021-03-30\",\"2021-03-31\",\"2021-04-01\",\"2021-04-02\",\"2021-04-03\",\"2021-04-04\",\"2021-04-05\",\"2021-04-06\",\"2021-04-07\",\"2021-04-08\",\"2021-04-09\",\"2021-04-10\",\"2021-04-11\",\"2021-04-12\",\"2021-04-13\",\"2021-04-14\",\"2021-04-15\",\"2021-04-16\",\"2021-04-17\",\"2021-04-18\",\"2021-04-19\",\"2021-04-20\",\"2021-04-21\",\"2021-04-22\",\"2021-04-23\",\"2021-04-24\",\"2021-04-25\",\"2021-04-26\",\"2021-04-27\",\"2021-04-28\",\"2021-04-29\",\"2021-04-30\",\"2021-05-01\",\"2021-05-02\",\"2021-05-03\",\"2021-05-04\",\"2021-05-05\",\"2021-05-06\",\"2021-05-07\",\"2021-05-08\",\"2021-05-09\",\"2021-05-10\",\"2021-05-11\",\"2021-05-12\",\"2021-05-13\",\"2021-05-14\",\"2021-05-15\",\"2021-05-16\",\"2021-05-17\",\"2021-05-18\",\"2021-05-19\",\"2021-05-20\",\"2021-05-21\",\"2021-05-22\",\"2021-05-23\",\"2021-05-24\",\"2021-05-25\",\"2021-05-26\",\"2021-05-27\",\"2021-05-28\",\"2021-05-29\",\"2021-05-30\",\"2021-05-31\",\"2021-06-01\",\"2021-06-02\",\"2021-06-03\",\"2021-06-04\",\"2021-06-05\",\"2021-06-06\",\"2021-06-07\",\"2021-06-08\",\"2021-06-09\",\"2021-06-10\",\"2021-06-11\",\"2021-06-12\",\"2021-06-13\",\"2021-06-14\",\"2021-06-15\",\"2021-06-16\",\"2021-06-17\",\"2021-06-18\",\"2021-06-19\",\"2021-06-20\",\"2021-06-21\",\"2021-06-22\",\"2021-06-23\",\"2021-06-24\",\"2021-06-25\",\"2021-06-26\",\"2021-06-27\",\"2021-06-28\",\"2021-06-29\",\"2021-06-30\",\"2021-07-01\",\"2021-07-02\",\"2021-07-03\",\"2021-07-04\",\"2021-07-05\",\"2021-07-06\",\"2021-07-07\",\"2021-07-08\",\"2021-07-09\",\"2021-07-10\",\"2021-07-11\",\"2021-07-12\",\"2021-07-13\",\"2021-07-14\",\"2021-07-15\",\"2021-07-16\",\"2021-07-17\",\"2021-07-18\",\"2021-07-19\",\"2021-07-20\",\"2021-07-21\",\"2021-07-22\",\"2021-07-23\",\"2021-07-24\",\"2021-07-25\",\"2021-07-26\",\"2021-07-27\",\"2021-07-28\",\"2021-07-29\",\"2021-07-30\",\"2021-07-31\",\"2021-08-01\"],\"xaxis\":\"x\",\"y\":[1.0,1.0,1.0,1.0,1.0,1.0,1.0,1.0,1.0,2.0,3.0,3.0,3.0,5.0,5.0,5.0,6.0,6.0,7.0,8.0,11.0,15.0,18.0,18.0,18.0,20.0,22.0,25.0,26.0,29.0,34.0,38.0,40.0,45.0,47.0,48.0,52.0,53.0,54.0,61.0,62.0,65.0,68.0,72.0,73.0,76.0,79.0,83.0,84.0,88.0,89.0,91.0,91.0,91.0,91.0,91.0,93.0,96.0,96.0,96.0,96.0,97.0,98.0,98.0,98.0,99.0,100.0,103.0,103.0,104.0,104.0,104.0,104.0,104.0,105.0,105.0,105.0,105.0,105.0,105.0,105.0,105.0,105.0,105.0,105.0,105.0,106.0,106.0,106.0,106.0,106.0,106.0,106.0,106.0,106.0,106.0,106.0,106.0,106.0,106.0,106.0,107.0,107.0,107.0,107.0,107.0,107.0,107.0,107.0,107.0,107.0,107.0,107.0,107.0,108.0,108.0,108.0,108.0,108.0,108.0,108.0,108.0,108.0,108.0,108.0,108.0,108.0,108.0,108.0,108.0,108.0,108.0,108.0,108.0,108.0,108.0,108.0,108.0,108.0,108.0,108.0,108.0,108.0,109.0,109.0,109.0,109.0,109.0,110.0,110.0,110.0,110.0,110.0,110.0,110.0,110.0,110.0,110.0,110.0,110.0,110.0,110.0,110.0,110.0,110.0,110.0,110.0,110.0,110.0,110.0,110.0,110.0,110.0,110.0,110.0,110.0,110.0,110.0,110.0,110.0,110.0,110.0,110.0,110.0,110.0,110.0,110.0,110.0,110.0,110.0,110.0,110.0,110.0,110.0,110.0,110.0,110.0,110.0,110.0,110.0,110.0,110.0,110.0,110.0,110.0,110.0,110.0,110.0,110.0,110.0,110.0,110.0,110.0,110.0,110.0,110.0,110.0,110.0,110.0,110.0,110.0,110.0,110.0,110.0,110.0,110.0,110.0,110.0,110.0,110.0,110.0,110.0,110.0,110.0,110.0,110.0,110.0,110.0,110.0,110.0,110.0,111.0,111.0,112.0,114.0,114.0,116.0,116.0,116.0,116.0,116.0,117.0,117.0,120.0,120.0,124.0,125.0,126.0,128.0,130.0,131.0,133.0,134.0,137.0,138.0,138.0,140.0,141.0,143.0,145.0,145.0,147.0,147.0,151.0,152.0,152.0,154.0,155.0,158.0,160.0,160.0,162.0,163.0,167.0,169.0,173.0,175.0,177.0,178.0,180.0,184.0,189.0,192.0,194.0,195.0,200.0,203.0,207.0,210.0,212.0,220.0,225.0,231.0,231.0,237.0,244.0,249.0,257.0,263.0,269.0,278.0,285.0,293.0,304.0,313.0,325.0,330.0,335.0,341.0,349.0,354.0,361.0,363.0,366.0,368.0,370.0,375.0,379.0,382.0,385.0,391.0,395.0,396.0,397.0,397.0,400.0,404.0,408.0,410.0,412.0,415.0,417.0,421.0,423.0,425.0,427.0,431.0,431.0,432.0,434.0,436.0,438.0,439.0,440.0,442.0,444.0,446.0,447.0,447.0,448.0,449.0,451.0,454.0,454.0,456.0,457.0,457.0,457.0,457.0,457.0,457.0,457.0,458.0,458.0,459.0,459.0,459.0,460.0,460.0,460.0,460.0,460.0,460.0,460.0,460.0,460.0,460.0,460.0,460.0,460.0,460.0,460.0,461.0,461.0,461.0,462.0,462.0,462.0,462.0,462.0,462.0,462.0,462.0,462.0,462.0,462.0,462.0,462.0,462.0,462.0,462.0,462.0,462.0,462.0,462.0,462.0,462.0,462.0,462.0,462.0,462.0,462.0,462.0,462.0,462.0,462.0,462.0,462.0,462.0,462.0,462.0,462.0,462.0,462.0,462.0,462.0,462.0,462.0,462.0,462.0,462.0,462.0,462.0,462.0,462.0,462.0,462.0,462.0,462.0,463.0,463.0,463.0,463.0,463.0,463.0,463.0,463.0,463.0,463.0,463.0,463.0,463.0,463.0,463.0,463.0,463.0,463.0,463.0,463.0,463.0,463.0,463.0,463.0,463.0,463.0,463.0,463.0,463.0,463.0,463.0,463.0,463.0,463.0,463.0,463.0,463.0,463.0,463.0,463.0,463.0,463.0,464.0,465.0,465.0,465.0,465.0,465.0,466.0,466.0,466.0,466.0,466.0,466.0,466.0,466.0,467.0,467.0,467.0,467.0,467.0,467.0,469.0,470.0,470.0,0.0],\"yaxis\":\"y\"}],                        {\"legend\":{\"itemsizing\":\"constant\",\"tracegroupgap\":0},\"template\":{\"data\":{\"bar\":[{\"error_x\":{\"color\":\"#2a3f5f\"},\"error_y\":{\"color\":\"#2a3f5f\"},\"marker\":{\"line\":{\"color\":\"#E5ECF6\",\"width\":0.5},\"pattern\":{\"fillmode\":\"overlay\",\"size\":10,\"solidity\":0.2}},\"type\":\"bar\"}],\"barpolar\":[{\"marker\":{\"line\":{\"color\":\"#E5ECF6\",\"width\":0.5},\"pattern\":{\"fillmode\":\"overlay\",\"size\":10,\"solidity\":0.2}},\"type\":\"barpolar\"}],\"carpet\":[{\"aaxis\":{\"endlinecolor\":\"#2a3f5f\",\"gridcolor\":\"white\",\"linecolor\":\"white\",\"minorgridcolor\":\"white\",\"startlinecolor\":\"#2a3f5f\"},\"baxis\":{\"endlinecolor\":\"#2a3f5f\",\"gridcolor\":\"white\",\"linecolor\":\"white\",\"minorgridcolor\":\"white\",\"startlinecolor\":\"#2a3f5f\"},\"type\":\"carpet\"}],\"choropleth\":[{\"colorbar\":{\"outlinewidth\":0,\"ticks\":\"\"},\"type\":\"choropleth\"}],\"contour\":[{\"colorbar\":{\"outlinewidth\":0,\"ticks\":\"\"},\"colorscale\":[[0.0,\"#0d0887\"],[0.1111111111111111,\"#46039f\"],[0.2222222222222222,\"#7201a8\"],[0.3333333333333333,\"#9c179e\"],[0.4444444444444444,\"#bd3786\"],[0.5555555555555556,\"#d8576b\"],[0.6666666666666666,\"#ed7953\"],[0.7777777777777778,\"#fb9f3a\"],[0.8888888888888888,\"#fdca26\"],[1.0,\"#f0f921\"]],\"type\":\"contour\"}],\"contourcarpet\":[{\"colorbar\":{\"outlinewidth\":0,\"ticks\":\"\"},\"type\":\"contourcarpet\"}],\"heatmap\":[{\"colorbar\":{\"outlinewidth\":0,\"ticks\":\"\"},\"colorscale\":[[0.0,\"#0d0887\"],[0.1111111111111111,\"#46039f\"],[0.2222222222222222,\"#7201a8\"],[0.3333333333333333,\"#9c179e\"],[0.4444444444444444,\"#bd3786\"],[0.5555555555555556,\"#d8576b\"],[0.6666666666666666,\"#ed7953\"],[0.7777777777777778,\"#fb9f3a\"],[0.8888888888888888,\"#fdca26\"],[1.0,\"#f0f921\"]],\"type\":\"heatmap\"}],\"heatmapgl\":[{\"colorbar\":{\"outlinewidth\":0,\"ticks\":\"\"},\"colorscale\":[[0.0,\"#0d0887\"],[0.1111111111111111,\"#46039f\"],[0.2222222222222222,\"#7201a8\"],[0.3333333333333333,\"#9c179e\"],[0.4444444444444444,\"#bd3786\"],[0.5555555555555556,\"#d8576b\"],[0.6666666666666666,\"#ed7953\"],[0.7777777777777778,\"#fb9f3a\"],[0.8888888888888888,\"#fdca26\"],[1.0,\"#f0f921\"]],\"type\":\"heatmapgl\"}],\"histogram\":[{\"marker\":{\"pattern\":{\"fillmode\":\"overlay\",\"size\":10,\"solidity\":0.2}},\"type\":\"histogram\"}],\"histogram2d\":[{\"colorbar\":{\"outlinewidth\":0,\"ticks\":\"\"},\"colorscale\":[[0.0,\"#0d0887\"],[0.1111111111111111,\"#46039f\"],[0.2222222222222222,\"#7201a8\"],[0.3333333333333333,\"#9c179e\"],[0.4444444444444444,\"#bd3786\"],[0.5555555555555556,\"#d8576b\"],[0.6666666666666666,\"#ed7953\"],[0.7777777777777778,\"#fb9f3a\"],[0.8888888888888888,\"#fdca26\"],[1.0,\"#f0f921\"]],\"type\":\"histogram2d\"}],\"histogram2dcontour\":[{\"colorbar\":{\"outlinewidth\":0,\"ticks\":\"\"},\"colorscale\":[[0.0,\"#0d0887\"],[0.1111111111111111,\"#46039f\"],[0.2222222222222222,\"#7201a8\"],[0.3333333333333333,\"#9c179e\"],[0.4444444444444444,\"#bd3786\"],[0.5555555555555556,\"#d8576b\"],[0.6666666666666666,\"#ed7953\"],[0.7777777777777778,\"#fb9f3a\"],[0.8888888888888888,\"#fdca26\"],[1.0,\"#f0f921\"]],\"type\":\"histogram2dcontour\"}],\"mesh3d\":[{\"colorbar\":{\"outlinewidth\":0,\"ticks\":\"\"},\"type\":\"mesh3d\"}],\"parcoords\":[{\"line\":{\"colorbar\":{\"outlinewidth\":0,\"ticks\":\"\"}},\"type\":\"parcoords\"}],\"pie\":[{\"automargin\":true,\"type\":\"pie\"}],\"scatter\":[{\"marker\":{\"colorbar\":{\"outlinewidth\":0,\"ticks\":\"\"}},\"type\":\"scatter\"}],\"scatter3d\":[{\"line\":{\"colorbar\":{\"outlinewidth\":0,\"ticks\":\"\"}},\"marker\":{\"colorbar\":{\"outlinewidth\":0,\"ticks\":\"\"}},\"type\":\"scatter3d\"}],\"scattercarpet\":[{\"marker\":{\"colorbar\":{\"outlinewidth\":0,\"ticks\":\"\"}},\"type\":\"scattercarpet\"}],\"scattergeo\":[{\"marker\":{\"colorbar\":{\"outlinewidth\":0,\"ticks\":\"\"}},\"type\":\"scattergeo\"}],\"scattergl\":[{\"marker\":{\"colorbar\":{\"outlinewidth\":0,\"ticks\":\"\"}},\"type\":\"scattergl\"}],\"scattermapbox\":[{\"marker\":{\"colorbar\":{\"outlinewidth\":0,\"ticks\":\"\"}},\"type\":\"scattermapbox\"}],\"scatterpolar\":[{\"marker\":{\"colorbar\":{\"outlinewidth\":0,\"ticks\":\"\"}},\"type\":\"scatterpolar\"}],\"scatterpolargl\":[{\"marker\":{\"colorbar\":{\"outlinewidth\":0,\"ticks\":\"\"}},\"type\":\"scatterpolargl\"}],\"scatterternary\":[{\"marker\":{\"colorbar\":{\"outlinewidth\":0,\"ticks\":\"\"}},\"type\":\"scatterternary\"}],\"surface\":[{\"colorbar\":{\"outlinewidth\":0,\"ticks\":\"\"},\"colorscale\":[[0.0,\"#0d0887\"],[0.1111111111111111,\"#46039f\"],[0.2222222222222222,\"#7201a8\"],[0.3333333333333333,\"#9c179e\"],[0.4444444444444444,\"#bd3786\"],[0.5555555555555556,\"#d8576b\"],[0.6666666666666666,\"#ed7953\"],[0.7777777777777778,\"#fb9f3a\"],[0.8888888888888888,\"#fdca26\"],[1.0,\"#f0f921\"]],\"type\":\"surface\"}],\"table\":[{\"cells\":{\"fill\":{\"color\":\"#EBF0F8\"},\"line\":{\"color\":\"white\"}},\"header\":{\"fill\":{\"color\":\"#C8D4E3\"},\"line\":{\"color\":\"white\"}},\"type\":\"table\"}]},\"layout\":{\"annotationdefaults\":{\"arrowcolor\":\"#2a3f5f\",\"arrowhead\":0,\"arrowwidth\":1},\"autotypenumbers\":\"strict\",\"coloraxis\":{\"colorbar\":{\"outlinewidth\":0,\"ticks\":\"\"}},\"colorscale\":{\"diverging\":[[0,\"#8e0152\"],[0.1,\"#c51b7d\"],[0.2,\"#de77ae\"],[0.3,\"#f1b6da\"],[0.4,\"#fde0ef\"],[0.5,\"#f7f7f7\"],[0.6,\"#e6f5d0\"],[0.7,\"#b8e186\"],[0.8,\"#7fbc41\"],[0.9,\"#4d9221\"],[1,\"#276419\"]],\"sequential\":[[0.0,\"#0d0887\"],[0.1111111111111111,\"#46039f\"],[0.2222222222222222,\"#7201a8\"],[0.3333333333333333,\"#9c179e\"],[0.4444444444444444,\"#bd3786\"],[0.5555555555555556,\"#d8576b\"],[0.6666666666666666,\"#ed7953\"],[0.7777777777777778,\"#fb9f3a\"],[0.8888888888888888,\"#fdca26\"],[1.0,\"#f0f921\"]],\"sequentialminus\":[[0.0,\"#0d0887\"],[0.1111111111111111,\"#46039f\"],[0.2222222222222222,\"#7201a8\"],[0.3333333333333333,\"#9c179e\"],[0.4444444444444444,\"#bd3786\"],[0.5555555555555556,\"#d8576b\"],[0.6666666666666666,\"#ed7953\"],[0.7777777777777778,\"#fb9f3a\"],[0.8888888888888888,\"#fdca26\"],[1.0,\"#f0f921\"]]},\"colorway\":[\"#636efa\",\"#EF553B\",\"#00cc96\",\"#ab63fa\",\"#FFA15A\",\"#19d3f3\",\"#FF6692\",\"#B6E880\",\"#FF97FF\",\"#FECB52\"],\"font\":{\"color\":\"#2a3f5f\"},\"geo\":{\"bgcolor\":\"white\",\"lakecolor\":\"white\",\"landcolor\":\"#E5ECF6\",\"showlakes\":true,\"showland\":true,\"subunitcolor\":\"white\"},\"hoverlabel\":{\"align\":\"left\"},\"hovermode\":\"closest\",\"mapbox\":{\"style\":\"light\"},\"paper_bgcolor\":\"white\",\"plot_bgcolor\":\"#E5ECF6\",\"polar\":{\"angularaxis\":{\"gridcolor\":\"white\",\"linecolor\":\"white\",\"ticks\":\"\"},\"bgcolor\":\"#E5ECF6\",\"radialaxis\":{\"gridcolor\":\"white\",\"linecolor\":\"white\",\"ticks\":\"\"}},\"scene\":{\"xaxis\":{\"backgroundcolor\":\"#E5ECF6\",\"gridcolor\":\"white\",\"gridwidth\":2,\"linecolor\":\"white\",\"showbackground\":true,\"ticks\":\"\",\"zerolinecolor\":\"white\"},\"yaxis\":{\"backgroundcolor\":\"#E5ECF6\",\"gridcolor\":\"white\",\"gridwidth\":2,\"linecolor\":\"white\",\"showbackground\":true,\"ticks\":\"\",\"zerolinecolor\":\"white\"},\"zaxis\":{\"backgroundcolor\":\"#E5ECF6\",\"gridcolor\":\"white\",\"gridwidth\":2,\"linecolor\":\"white\",\"showbackground\":true,\"ticks\":\"\",\"zerolinecolor\":\"white\"}},\"shapedefaults\":{\"line\":{\"color\":\"#2a3f5f\"}},\"ternary\":{\"aaxis\":{\"gridcolor\":\"white\",\"linecolor\":\"white\",\"ticks\":\"\"},\"baxis\":{\"gridcolor\":\"white\",\"linecolor\":\"white\",\"ticks\":\"\"},\"bgcolor\":\"#E5ECF6\",\"caxis\":{\"gridcolor\":\"white\",\"linecolor\":\"white\",\"ticks\":\"\"}},\"title\":{\"x\":0.05},\"xaxis\":{\"automargin\":true,\"gridcolor\":\"white\",\"linecolor\":\"white\",\"ticks\":\"\",\"title\":{\"standoff\":15},\"zerolinecolor\":\"white\",\"zerolinewidth\":2},\"yaxis\":{\"automargin\":true,\"gridcolor\":\"white\",\"linecolor\":\"white\",\"ticks\":\"\",\"title\":{\"standoff\":15},\"zerolinecolor\":\"white\",\"zerolinewidth\":2}}},\"title\":{\"text\":\"COVID-19 Milton Keynes (cumulative deaths)\"},\"xaxis\":{\"anchor\":\"y\",\"domain\":[0.0,1.0],\"title\":{\"text\":\"date\"}},\"yaxis\":{\"anchor\":\"x\",\"domain\":[0.0,1.0],\"title\":{\"text\":\"cumDeaths28DaysByDeathDate\"}}},                        {\"responsive\": true}                    ).then(function(){\n",
                            "                            \n",
                            "var gd = document.getElementById('b8da23ba-0834-4ec2-a2b3-991991622b44');\n",
                            "var x = new MutationObserver(function (mutations, observer) {{\n",
                            "        var display = window.getComputedStyle(gd).display;\n",
                            "        if (!display || display === 'none') {{\n",
                            "            console.log([gd, 'removed!']);\n",
                            "            Plotly.purge(gd);\n",
                            "            observer.disconnect();\n",
                            "        }}\n",
                            "}});\n",
                            "\n",
                            "// Listen for the removal of the full notebook cells\n",
                            "var notebookContainer = gd.closest('#notebook-container');\n",
                            "if (notebookContainer) {{\n",
                            "    x.observe(notebookContainer, {childList: true});\n",
                            "}}\n",
                            "\n",
                            "// Listen for the clearing of the current output cell\n",
                            "var outputEl = gd.closest('.output');\n",
                            "if (outputEl) {{\n",
                            "    x.observe(outputEl, {childList: true});\n",
                            "}}\n",
                            "\n",
                            "                        })                };                });            </script>        </div>"
                        ],
                        "application/vnd.plotly.v1+json": {
                            "config": {
                                "plotlyServerURL": "https://plot.ly"
                            },
                            "data": [
                                {
                                    "hovertemplate": "date=%{x}<br>cumDeaths28DaysByDeathDate=%{y}<br>newCasesByPublishDate=%{marker.size}<extra></extra>",
                                    "legendgroup": "",
                                    "marker": {
                                        "color": "#636efa",
                                        "size": [
                                            0,
                                            0,
                                            0,
                                            0,
                                            0,
                                            0,
                                            0,
                                            0,
                                            0,
                                            0,
                                            0,
                                            0,
                                            0,
                                            0,
                                            0,
                                            0,
                                            0,
                                            0,
                                            0,
                                            0,
                                            0,
                                            0,
                                            0,
                                            0,
                                            0,
                                            0,
                                            0,
                                            0,
                                            0,
                                            0,
                                            0,
                                            0,
                                            0,
                                            0,
                                            0,
                                            0,
                                            0,
                                            0,
                                            0,
                                            0,
                                            0,
                                            0,
                                            0,
                                            0,
                                            0,
                                            0,
                                            0,
                                            0,
                                            5,
                                            8,
                                            9,
                                            13,
                                            7,
                                            4,
                                            5,
                                            2,
                                            5,
                                            3,
                                            18,
                                            6,
                                            3,
                                            1,
                                            5,
                                            0,
                                            5,
                                            6,
                                            3,
                                            0,
                                            2,
                                            1,
                                            1,
                                            1,
                                            1,
                                            3,
                                            1,
                                            0,
                                            0,
                                            0,
                                            1,
                                            1,
                                            0,
                                            1,
                                            0,
                                            2,
                                            0,
                                            0,
                                            1,
                                            0,
                                            0,
                                            1,
                                            0,
                                            0,
                                            0,
                                            0,
                                            0,
                                            0,
                                            2,
                                            0,
                                            0,
                                            1,
                                            0,
                                            0,
                                            0,
                                            0,
                                            0,
                                            0,
                                            0,
                                            1,
                                            0,
                                            0,
                                            1,
                                            0,
                                            2,
                                            0,
                                            0,
                                            0,
                                            0,
                                            1,
                                            330,
                                            0,
                                            1,
                                            0,
                                            0,
                                            0,
                                            4,
                                            2,
                                            1,
                                            0,
                                            1,
                                            1,
                                            1,
                                            2,
                                            0,
                                            1,
                                            0,
                                            0,
                                            2,
                                            0,
                                            0,
                                            0,
                                            2,
                                            1,
                                            0,
                                            2,
                                            1,
                                            1,
                                            2,
                                            3,
                                            1,
                                            2,
                                            0,
                                            1,
                                            2,
                                            5,
                                            2,
                                            5,
                                            2,
                                            2,
                                            1,
                                            6,
                                            6,
                                            0,
                                            4,
                                            3,
                                            4,
                                            4,
                                            1,
                                            2,
                                            3,
                                            7,
                                            3,
                                            3,
                                            6,
                                            3,
                                            2,
                                            3,
                                            4,
                                            2,
                                            1,
                                            2,
                                            4,
                                            1,
                                            4,
                                            5,
                                            5,
                                            5,
                                            5,
                                            9,
                                            9,
                                            8,
                                            4,
                                            4,
                                            2,
                                            4,
                                            7,
                                            2,
                                            10,
                                            9,
                                            4,
                                            10,
                                            5,
                                            5,
                                            14,
                                            13,
                                            8,
                                            6,
                                            10,
                                            4,
                                            6,
                                            11,
                                            9,
                                            8,
                                            18,
                                            27,
                                            18,
                                            19,
                                            24,
                                            33,
                                            28,
                                            35,
                                            14,
                                            16,
                                            20,
                                            31,
                                            42,
                                            12,
                                            21,
                                            22,
                                            30,
                                            22,
                                            53,
                                            32,
                                            21,
                                            63,
                                            21,
                                            31,
                                            65,
                                            71,
                                            29,
                                            51,
                                            44,
                                            34,
                                            45,
                                            50,
                                            58,
                                            50,
                                            43,
                                            54,
                                            45,
                                            65,
                                            28,
                                            78,
                                            89,
                                            58,
                                            75,
                                            97,
                                            0,
                                            113,
                                            31,
                                            72,
                                            39,
                                            91,
                                            73,
                                            69,
                                            35,
                                            58,
                                            54,
                                            53,
                                            57,
                                            57,
                                            66,
                                            62,
                                            70,
                                            68,
                                            69,
                                            66,
                                            91,
                                            79,
                                            94,
                                            76,
                                            117,
                                            119,
                                            138,
                                            140,
                                            214,
                                            116,
                                            164,
                                            245,
                                            272,
                                            202,
                                            308,
                                            225,
                                            334,
                                            364,
                                            385,
                                            429,
                                            261,
                                            249,
                                            246,
                                            446,
                                            414,
                                            207,
                                            423,
                                            348,
                                            370,
                                            312,
                                            494,
                                            346,
                                            347,
                                            334,
                                            375,
                                            282,
                                            272,
                                            270,
                                            147,
                                            267,
                                            351,
                                            279,
                                            117,
                                            265,
                                            152,
                                            184,
                                            123,
                                            245,
                                            168,
                                            200,
                                            125,
                                            47,
                                            164,
                                            146,
                                            165,
                                            80,
                                            90,
                                            99,
                                            62,
                                            68,
                                            91,
                                            74,
                                            79,
                                            60,
                                            47,
                                            57,
                                            49,
                                            50,
                                            68,
                                            55,
                                            37,
                                            48,
                                            51,
                                            59,
                                            54,
                                            40,
                                            43,
                                            46,
                                            67,
                                            34,
                                            39,
                                            76,
                                            48,
                                            25,
                                            29,
                                            20,
                                            43,
                                            16,
                                            21,
                                            32,
                                            30,
                                            32,
                                            30,
                                            24,
                                            21,
                                            32,
                                            54,
                                            31,
                                            8,
                                            23,
                                            21,
                                            17,
                                            20,
                                            17,
                                            23,
                                            22,
                                            18,
                                            21,
                                            19,
                                            22,
                                            27,
                                            10,
                                            17,
                                            11,
                                            24,
                                            13,
                                            18,
                                            16,
                                            9,
                                            9,
                                            4,
                                            12,
                                            15,
                                            13,
                                            0,
                                            17,
                                            12,
                                            13,
                                            22,
                                            6,
                                            15,
                                            10,
                                            12,
                                            6,
                                            6,
                                            3,
                                            6,
                                            7,
                                            14,
                                            5,
                                            8,
                                            9,
                                            19,
                                            4,
                                            5,
                                            6,
                                            4,
                                            5,
                                            4,
                                            3,
                                            3,
                                            12,
                                            11,
                                            8,
                                            6,
                                            10,
                                            10,
                                            5,
                                            18,
                                            10,
                                            4,
                                            5,
                                            8,
                                            0,
                                            8,
                                            3,
                                            11,
                                            3,
                                            7,
                                            15,
                                            19,
                                            3,
                                            23,
                                            14,
                                            15,
                                            9,
                                            14,
                                            14,
                                            13,
                                            21,
                                            28,
                                            16,
                                            18,
                                            22,
                                            29,
                                            27,
                                            17,
                                            15,
                                            31,
                                            27,
                                            32,
                                            19,
                                            23,
                                            20,
                                            33,
                                            41,
                                            20,
                                            21,
                                            30,
                                            21,
                                            30,
                                            40,
                                            64,
                                            34,
                                            74,
                                            58,
                                            79,
                                            109,
                                            91,
                                            83,
                                            118,
                                            63,
                                            111,
                                            109,
                                            71,
                                            94,
                                            128,
                                            124,
                                            127,
                                            131,
                                            167,
                                            176,
                                            194,
                                            193,
                                            203,
                                            89,
                                            237,
                                            164,
                                            135,
                                            153,
                                            120,
                                            98,
                                            90,
                                            100,
                                            135,
                                            130,
                                            115,
                                            102,
                                            119
                                        ],
                                        "sizemode": "area",
                                        "sizeref": 1.235,
                                        "symbol": "circle"
                                    },
                                    "mode": "markers",
                                    "name": "",
                                    "orientation": "v",
                                    "showlegend": false,
                                    "type": "scatter",
                                    "x": [
                                        "2020-03-05",
                                        "2020-03-06",
                                        "2020-03-07",
                                        "2020-03-08",
                                        "2020-03-09",
                                        "2020-03-10",
                                        "2020-03-11",
                                        "2020-03-12",
                                        "2020-03-13",
                                        "2020-03-14",
                                        "2020-03-15",
                                        "2020-03-16",
                                        "2020-03-17",
                                        "2020-03-18",
                                        "2020-03-19",
                                        "2020-03-20",
                                        "2020-03-21",
                                        "2020-03-22",
                                        "2020-03-23",
                                        "2020-03-24",
                                        "2020-03-25",
                                        "2020-03-26",
                                        "2020-03-27",
                                        "2020-03-28",
                                        "2020-03-29",
                                        "2020-03-30",
                                        "2020-03-31",
                                        "2020-04-01",
                                        "2020-04-02",
                                        "2020-04-03",
                                        "2020-04-04",
                                        "2020-04-05",
                                        "2020-04-06",
                                        "2020-04-07",
                                        "2020-04-08",
                                        "2020-04-09",
                                        "2020-04-10",
                                        "2020-04-11",
                                        "2020-04-12",
                                        "2020-04-13",
                                        "2020-04-14",
                                        "2020-04-15",
                                        "2020-04-16",
                                        "2020-04-17",
                                        "2020-04-18",
                                        "2020-04-19",
                                        "2020-04-20",
                                        "2020-04-21",
                                        "2020-04-22",
                                        "2020-04-23",
                                        "2020-04-24",
                                        "2020-04-25",
                                        "2020-04-26",
                                        "2020-04-27",
                                        "2020-04-28",
                                        "2020-04-29",
                                        "2020-04-30",
                                        "2020-05-01",
                                        "2020-05-02",
                                        "2020-05-03",
                                        "2020-05-04",
                                        "2020-05-05",
                                        "2020-05-06",
                                        "2020-05-07",
                                        "2020-05-08",
                                        "2020-05-09",
                                        "2020-05-10",
                                        "2020-05-11",
                                        "2020-05-12",
                                        "2020-05-13",
                                        "2020-05-14",
                                        "2020-05-15",
                                        "2020-05-16",
                                        "2020-05-17",
                                        "2020-05-18",
                                        "2020-05-19",
                                        "2020-05-20",
                                        "2020-05-21",
                                        "2020-05-22",
                                        "2020-05-23",
                                        "2020-05-24",
                                        "2020-05-25",
                                        "2020-05-26",
                                        "2020-05-27",
                                        "2020-05-28",
                                        "2020-05-29",
                                        "2020-05-30",
                                        "2020-05-31",
                                        "2020-06-01",
                                        "2020-06-02",
                                        "2020-06-03",
                                        "2020-06-04",
                                        "2020-06-05",
                                        "2020-06-06",
                                        "2020-06-07",
                                        "2020-06-08",
                                        "2020-06-09",
                                        "2020-06-10",
                                        "2020-06-11",
                                        "2020-06-12",
                                        "2020-06-13",
                                        "2020-06-14",
                                        "2020-06-15",
                                        "2020-06-16",
                                        "2020-06-17",
                                        "2020-06-18",
                                        "2020-06-19",
                                        "2020-06-20",
                                        "2020-06-21",
                                        "2020-06-22",
                                        "2020-06-23",
                                        "2020-06-24",
                                        "2020-06-25",
                                        "2020-06-26",
                                        "2020-06-27",
                                        "2020-06-28",
                                        "2020-06-29",
                                        "2020-06-30",
                                        "2020-07-01",
                                        "2020-07-02",
                                        "2020-07-03",
                                        "2020-07-04",
                                        "2020-07-05",
                                        "2020-07-06",
                                        "2020-07-07",
                                        "2020-07-08",
                                        "2020-07-09",
                                        "2020-07-10",
                                        "2020-07-11",
                                        "2020-07-12",
                                        "2020-07-13",
                                        "2020-07-14",
                                        "2020-07-15",
                                        "2020-07-16",
                                        "2020-07-17",
                                        "2020-07-18",
                                        "2020-07-19",
                                        "2020-07-20",
                                        "2020-07-21",
                                        "2020-07-22",
                                        "2020-07-23",
                                        "2020-07-24",
                                        "2020-07-25",
                                        "2020-07-26",
                                        "2020-07-27",
                                        "2020-07-28",
                                        "2020-07-29",
                                        "2020-07-30",
                                        "2020-07-31",
                                        "2020-08-01",
                                        "2020-08-02",
                                        "2020-08-03",
                                        "2020-08-04",
                                        "2020-08-05",
                                        "2020-08-06",
                                        "2020-08-07",
                                        "2020-08-08",
                                        "2020-08-09",
                                        "2020-08-10",
                                        "2020-08-11",
                                        "2020-08-12",
                                        "2020-08-13",
                                        "2020-08-14",
                                        "2020-08-15",
                                        "2020-08-16",
                                        "2020-08-17",
                                        "2020-08-18",
                                        "2020-08-19",
                                        "2020-08-20",
                                        "2020-08-21",
                                        "2020-08-22",
                                        "2020-08-23",
                                        "2020-08-24",
                                        "2020-08-25",
                                        "2020-08-26",
                                        "2020-08-27",
                                        "2020-08-28",
                                        "2020-08-29",
                                        "2020-08-30",
                                        "2020-08-31",
                                        "2020-09-01",
                                        "2020-09-02",
                                        "2020-09-03",
                                        "2020-09-04",
                                        "2020-09-05",
                                        "2020-09-06",
                                        "2020-09-07",
                                        "2020-09-08",
                                        "2020-09-09",
                                        "2020-09-10",
                                        "2020-09-11",
                                        "2020-09-12",
                                        "2020-09-13",
                                        "2020-09-14",
                                        "2020-09-15",
                                        "2020-09-16",
                                        "2020-09-17",
                                        "2020-09-18",
                                        "2020-09-19",
                                        "2020-09-20",
                                        "2020-09-21",
                                        "2020-09-22",
                                        "2020-09-23",
                                        "2020-09-24",
                                        "2020-09-25",
                                        "2020-09-26",
                                        "2020-09-27",
                                        "2020-09-28",
                                        "2020-09-29",
                                        "2020-09-30",
                                        "2020-10-01",
                                        "2020-10-02",
                                        "2020-10-03",
                                        "2020-10-04",
                                        "2020-10-05",
                                        "2020-10-06",
                                        "2020-10-07",
                                        "2020-10-08",
                                        "2020-10-09",
                                        "2020-10-10",
                                        "2020-10-11",
                                        "2020-10-12",
                                        "2020-10-13",
                                        "2020-10-14",
                                        "2020-10-15",
                                        "2020-10-16",
                                        "2020-10-17",
                                        "2020-10-18",
                                        "2020-10-19",
                                        "2020-10-20",
                                        "2020-10-21",
                                        "2020-10-22",
                                        "2020-10-23",
                                        "2020-10-24",
                                        "2020-10-25",
                                        "2020-10-26",
                                        "2020-10-27",
                                        "2020-10-28",
                                        "2020-10-29",
                                        "2020-10-30",
                                        "2020-10-31",
                                        "2020-11-01",
                                        "2020-11-02",
                                        "2020-11-03",
                                        "2020-11-04",
                                        "2020-11-05",
                                        "2020-11-06",
                                        "2020-11-07",
                                        "2020-11-08",
                                        "2020-11-09",
                                        "2020-11-10",
                                        "2020-11-11",
                                        "2020-11-12",
                                        "2020-11-13",
                                        "2020-11-14",
                                        "2020-11-15",
                                        "2020-11-16",
                                        "2020-11-17",
                                        "2020-11-18",
                                        "2020-11-19",
                                        "2020-11-20",
                                        "2020-11-21",
                                        "2020-11-22",
                                        "2020-11-23",
                                        "2020-11-24",
                                        "2020-11-25",
                                        "2020-11-26",
                                        "2020-11-27",
                                        "2020-11-28",
                                        "2020-11-29",
                                        "2020-11-30",
                                        "2020-12-01",
                                        "2020-12-02",
                                        "2020-12-03",
                                        "2020-12-04",
                                        "2020-12-05",
                                        "2020-12-06",
                                        "2020-12-07",
                                        "2020-12-08",
                                        "2020-12-09",
                                        "2020-12-10",
                                        "2020-12-11",
                                        "2020-12-12",
                                        "2020-12-13",
                                        "2020-12-14",
                                        "2020-12-15",
                                        "2020-12-16",
                                        "2020-12-17",
                                        "2020-12-18",
                                        "2020-12-19",
                                        "2020-12-20",
                                        "2020-12-21",
                                        "2020-12-22",
                                        "2020-12-23",
                                        "2020-12-24",
                                        "2020-12-25",
                                        "2020-12-26",
                                        "2020-12-27",
                                        "2020-12-28",
                                        "2020-12-29",
                                        "2020-12-30",
                                        "2020-12-31",
                                        "2021-01-01",
                                        "2021-01-02",
                                        "2021-01-03",
                                        "2021-01-04",
                                        "2021-01-05",
                                        "2021-01-06",
                                        "2021-01-07",
                                        "2021-01-08",
                                        "2021-01-09",
                                        "2021-01-10",
                                        "2021-01-11",
                                        "2021-01-12",
                                        "2021-01-13",
                                        "2021-01-14",
                                        "2021-01-15",
                                        "2021-01-16",
                                        "2021-01-17",
                                        "2021-01-18",
                                        "2021-01-19",
                                        "2021-01-20",
                                        "2021-01-21",
                                        "2021-01-22",
                                        "2021-01-23",
                                        "2021-01-24",
                                        "2021-01-25",
                                        "2021-01-26",
                                        "2021-01-27",
                                        "2021-01-28",
                                        "2021-01-29",
                                        "2021-01-30",
                                        "2021-01-31",
                                        "2021-02-01",
                                        "2021-02-02",
                                        "2021-02-03",
                                        "2021-02-04",
                                        "2021-02-05",
                                        "2021-02-06",
                                        "2021-02-07",
                                        "2021-02-08",
                                        "2021-02-09",
                                        "2021-02-10",
                                        "2021-02-11",
                                        "2021-02-12",
                                        "2021-02-13",
                                        "2021-02-14",
                                        "2021-02-15",
                                        "2021-02-16",
                                        "2021-02-17",
                                        "2021-02-18",
                                        "2021-02-19",
                                        "2021-02-20",
                                        "2021-02-21",
                                        "2021-02-22",
                                        "2021-02-23",
                                        "2021-02-24",
                                        "2021-02-25",
                                        "2021-02-26",
                                        "2021-02-27",
                                        "2021-02-28",
                                        "2021-03-01",
                                        "2021-03-02",
                                        "2021-03-03",
                                        "2021-03-04",
                                        "2021-03-05",
                                        "2021-03-06",
                                        "2021-03-07",
                                        "2021-03-08",
                                        "2021-03-09",
                                        "2021-03-10",
                                        "2021-03-11",
                                        "2021-03-12",
                                        "2021-03-13",
                                        "2021-03-14",
                                        "2021-03-15",
                                        "2021-03-16",
                                        "2021-03-17",
                                        "2021-03-18",
                                        "2021-03-19",
                                        "2021-03-20",
                                        "2021-03-21",
                                        "2021-03-22",
                                        "2021-03-23",
                                        "2021-03-24",
                                        "2021-03-25",
                                        "2021-03-26",
                                        "2021-03-27",
                                        "2021-03-28",
                                        "2021-03-29",
                                        "2021-03-30",
                                        "2021-03-31",
                                        "2021-04-01",
                                        "2021-04-02",
                                        "2021-04-03",
                                        "2021-04-04",
                                        "2021-04-05",
                                        "2021-04-06",
                                        "2021-04-07",
                                        "2021-04-08",
                                        "2021-04-09",
                                        "2021-04-10",
                                        "2021-04-11",
                                        "2021-04-12",
                                        "2021-04-13",
                                        "2021-04-14",
                                        "2021-04-15",
                                        "2021-04-16",
                                        "2021-04-17",
                                        "2021-04-18",
                                        "2021-04-19",
                                        "2021-04-20",
                                        "2021-04-21",
                                        "2021-04-22",
                                        "2021-04-23",
                                        "2021-04-24",
                                        "2021-04-25",
                                        "2021-04-26",
                                        "2021-04-27",
                                        "2021-04-28",
                                        "2021-04-29",
                                        "2021-04-30",
                                        "2021-05-01",
                                        "2021-05-02",
                                        "2021-05-03",
                                        "2021-05-04",
                                        "2021-05-05",
                                        "2021-05-06",
                                        "2021-05-07",
                                        "2021-05-08",
                                        "2021-05-09",
                                        "2021-05-10",
                                        "2021-05-11",
                                        "2021-05-12",
                                        "2021-05-13",
                                        "2021-05-14",
                                        "2021-05-15",
                                        "2021-05-16",
                                        "2021-05-17",
                                        "2021-05-18",
                                        "2021-05-19",
                                        "2021-05-20",
                                        "2021-05-21",
                                        "2021-05-22",
                                        "2021-05-23",
                                        "2021-05-24",
                                        "2021-05-25",
                                        "2021-05-26",
                                        "2021-05-27",
                                        "2021-05-28",
                                        "2021-05-29",
                                        "2021-05-30",
                                        "2021-05-31",
                                        "2021-06-01",
                                        "2021-06-02",
                                        "2021-06-03",
                                        "2021-06-04",
                                        "2021-06-05",
                                        "2021-06-06",
                                        "2021-06-07",
                                        "2021-06-08",
                                        "2021-06-09",
                                        "2021-06-10",
                                        "2021-06-11",
                                        "2021-06-12",
                                        "2021-06-13",
                                        "2021-06-14",
                                        "2021-06-15",
                                        "2021-06-16",
                                        "2021-06-17",
                                        "2021-06-18",
                                        "2021-06-19",
                                        "2021-06-20",
                                        "2021-06-21",
                                        "2021-06-22",
                                        "2021-06-23",
                                        "2021-06-24",
                                        "2021-06-25",
                                        "2021-06-26",
                                        "2021-06-27",
                                        "2021-06-28",
                                        "2021-06-29",
                                        "2021-06-30",
                                        "2021-07-01",
                                        "2021-07-02",
                                        "2021-07-03",
                                        "2021-07-04",
                                        "2021-07-05",
                                        "2021-07-06",
                                        "2021-07-07",
                                        "2021-07-08",
                                        "2021-07-09",
                                        "2021-07-10",
                                        "2021-07-11",
                                        "2021-07-12",
                                        "2021-07-13",
                                        "2021-07-14",
                                        "2021-07-15",
                                        "2021-07-16",
                                        "2021-07-17",
                                        "2021-07-18",
                                        "2021-07-19",
                                        "2021-07-20",
                                        "2021-07-21",
                                        "2021-07-22",
                                        "2021-07-23",
                                        "2021-07-24",
                                        "2021-07-25",
                                        "2021-07-26",
                                        "2021-07-27",
                                        "2021-07-28",
                                        "2021-07-29",
                                        "2021-07-30",
                                        "2021-07-31",
                                        "2021-08-01"
                                    ],
                                    "xaxis": "x",
                                    "y": [
                                        1,
                                        1,
                                        1,
                                        1,
                                        1,
                                        1,
                                        1,
                                        1,
                                        1,
                                        2,
                                        3,
                                        3,
                                        3,
                                        5,
                                        5,
                                        5,
                                        6,
                                        6,
                                        7,
                                        8,
                                        11,
                                        15,
                                        18,
                                        18,
                                        18,
                                        20,
                                        22,
                                        25,
                                        26,
                                        29,
                                        34,
                                        38,
                                        40,
                                        45,
                                        47,
                                        48,
                                        52,
                                        53,
                                        54,
                                        61,
                                        62,
                                        65,
                                        68,
                                        72,
                                        73,
                                        76,
                                        79,
                                        83,
                                        84,
                                        88,
                                        89,
                                        91,
                                        91,
                                        91,
                                        91,
                                        91,
                                        93,
                                        96,
                                        96,
                                        96,
                                        96,
                                        97,
                                        98,
                                        98,
                                        98,
                                        99,
                                        100,
                                        103,
                                        103,
                                        104,
                                        104,
                                        104,
                                        104,
                                        104,
                                        105,
                                        105,
                                        105,
                                        105,
                                        105,
                                        105,
                                        105,
                                        105,
                                        105,
                                        105,
                                        105,
                                        105,
                                        106,
                                        106,
                                        106,
                                        106,
                                        106,
                                        106,
                                        106,
                                        106,
                                        106,
                                        106,
                                        106,
                                        106,
                                        106,
                                        106,
                                        106,
                                        107,
                                        107,
                                        107,
                                        107,
                                        107,
                                        107,
                                        107,
                                        107,
                                        107,
                                        107,
                                        107,
                                        107,
                                        107,
                                        108,
                                        108,
                                        108,
                                        108,
                                        108,
                                        108,
                                        108,
                                        108,
                                        108,
                                        108,
                                        108,
                                        108,
                                        108,
                                        108,
                                        108,
                                        108,
                                        108,
                                        108,
                                        108,
                                        108,
                                        108,
                                        108,
                                        108,
                                        108,
                                        108,
                                        108,
                                        108,
                                        108,
                                        108,
                                        109,
                                        109,
                                        109,
                                        109,
                                        109,
                                        110,
                                        110,
                                        110,
                                        110,
                                        110,
                                        110,
                                        110,
                                        110,
                                        110,
                                        110,
                                        110,
                                        110,
                                        110,
                                        110,
                                        110,
                                        110,
                                        110,
                                        110,
                                        110,
                                        110,
                                        110,
                                        110,
                                        110,
                                        110,
                                        110,
                                        110,
                                        110,
                                        110,
                                        110,
                                        110,
                                        110,
                                        110,
                                        110,
                                        110,
                                        110,
                                        110,
                                        110,
                                        110,
                                        110,
                                        110,
                                        110,
                                        110,
                                        110,
                                        110,
                                        110,
                                        110,
                                        110,
                                        110,
                                        110,
                                        110,
                                        110,
                                        110,
                                        110,
                                        110,
                                        110,
                                        110,
                                        110,
                                        110,
                                        110,
                                        110,
                                        110,
                                        110,
                                        110,
                                        110,
                                        110,
                                        110,
                                        110,
                                        110,
                                        110,
                                        110,
                                        110,
                                        110,
                                        110,
                                        110,
                                        110,
                                        110,
                                        110,
                                        110,
                                        110,
                                        110,
                                        110,
                                        110,
                                        110,
                                        110,
                                        110,
                                        110,
                                        110,
                                        110,
                                        110,
                                        110,
                                        110,
                                        110,
                                        110,
                                        111,
                                        111,
                                        112,
                                        114,
                                        114,
                                        116,
                                        116,
                                        116,
                                        116,
                                        116,
                                        117,
                                        117,
                                        120,
                                        120,
                                        124,
                                        125,
                                        126,
                                        128,
                                        130,
                                        131,
                                        133,
                                        134,
                                        137,
                                        138,
                                        138,
                                        140,
                                        141,
                                        143,
                                        145,
                                        145,
                                        147,
                                        147,
                                        151,
                                        152,
                                        152,
                                        154,
                                        155,
                                        158,
                                        160,
                                        160,
                                        162,
                                        163,
                                        167,
                                        169,
                                        173,
                                        175,
                                        177,
                                        178,
                                        180,
                                        184,
                                        189,
                                        192,
                                        194,
                                        195,
                                        200,
                                        203,
                                        207,
                                        210,
                                        212,
                                        220,
                                        225,
                                        231,
                                        231,
                                        237,
                                        244,
                                        249,
                                        257,
                                        263,
                                        269,
                                        278,
                                        285,
                                        293,
                                        304,
                                        313,
                                        325,
                                        330,
                                        335,
                                        341,
                                        349,
                                        354,
                                        361,
                                        363,
                                        366,
                                        368,
                                        370,
                                        375,
                                        379,
                                        382,
                                        385,
                                        391,
                                        395,
                                        396,
                                        397,
                                        397,
                                        400,
                                        404,
                                        408,
                                        410,
                                        412,
                                        415,
                                        417,
                                        421,
                                        423,
                                        425,
                                        427,
                                        431,
                                        431,
                                        432,
                                        434,
                                        436,
                                        438,
                                        439,
                                        440,
                                        442,
                                        444,
                                        446,
                                        447,
                                        447,
                                        448,
                                        449,
                                        451,
                                        454,
                                        454,
                                        456,
                                        457,
                                        457,
                                        457,
                                        457,
                                        457,
                                        457,
                                        457,
                                        458,
                                        458,
                                        459,
                                        459,
                                        459,
                                        460,
                                        460,
                                        460,
                                        460,
                                        460,
                                        460,
                                        460,
                                        460,
                                        460,
                                        460,
                                        460,
                                        460,
                                        460,
                                        460,
                                        460,
                                        461,
                                        461,
                                        461,
                                        462,
                                        462,
                                        462,
                                        462,
                                        462,
                                        462,
                                        462,
                                        462,
                                        462,
                                        462,
                                        462,
                                        462,
                                        462,
                                        462,
                                        462,
                                        462,
                                        462,
                                        462,
                                        462,
                                        462,
                                        462,
                                        462,
                                        462,
                                        462,
                                        462,
                                        462,
                                        462,
                                        462,
                                        462,
                                        462,
                                        462,
                                        462,
                                        462,
                                        462,
                                        462,
                                        462,
                                        462,
                                        462,
                                        462,
                                        462,
                                        462,
                                        462,
                                        462,
                                        462,
                                        462,
                                        462,
                                        462,
                                        462,
                                        462,
                                        462,
                                        462,
                                        462,
                                        462,
                                        462,
                                        463,
                                        463,
                                        463,
                                        463,
                                        463,
                                        463,
                                        463,
                                        463,
                                        463,
                                        463,
                                        463,
                                        463,
                                        463,
                                        463,
                                        463,
                                        463,
                                        463,
                                        463,
                                        463,
                                        463,
                                        463,
                                        463,
                                        463,
                                        463,
                                        463,
                                        463,
                                        463,
                                        463,
                                        463,
                                        463,
                                        463,
                                        463,
                                        463,
                                        463,
                                        463,
                                        463,
                                        463,
                                        463,
                                        463,
                                        463,
                                        463,
                                        463,
                                        464,
                                        465,
                                        465,
                                        465,
                                        465,
                                        465,
                                        466,
                                        466,
                                        466,
                                        466,
                                        466,
                                        466,
                                        466,
                                        466,
                                        467,
                                        467,
                                        467,
                                        467,
                                        467,
                                        467,
                                        469,
                                        470,
                                        470,
                                        0
                                    ],
                                    "yaxis": "y"
                                }
                            ],
                            "layout": {
                                "legend": {
                                    "itemsizing": "constant",
                                    "tracegroupgap": 0
                                },
                                "template": {
                                    "data": {
                                        "bar": [
                                            {
                                                "error_x": {
                                                    "color": "#2a3f5f"
                                                },
                                                "error_y": {
                                                    "color": "#2a3f5f"
                                                },
                                                "marker": {
                                                    "line": {
                                                        "color": "#E5ECF6",
                                                        "width": 0.5
                                                    },
                                                    "pattern": {
                                                        "fillmode": "overlay",
                                                        "size": 10,
                                                        "solidity": 0.2
                                                    }
                                                },
                                                "type": "bar"
                                            }
                                        ],
                                        "barpolar": [
                                            {
                                                "marker": {
                                                    "line": {
                                                        "color": "#E5ECF6",
                                                        "width": 0.5
                                                    },
                                                    "pattern": {
                                                        "fillmode": "overlay",
                                                        "size": 10,
                                                        "solidity": 0.2
                                                    }
                                                },
                                                "type": "barpolar"
                                            }
                                        ],
                                        "carpet": [
                                            {
                                                "aaxis": {
                                                    "endlinecolor": "#2a3f5f",
                                                    "gridcolor": "white",
                                                    "linecolor": "white",
                                                    "minorgridcolor": "white",
                                                    "startlinecolor": "#2a3f5f"
                                                },
                                                "baxis": {
                                                    "endlinecolor": "#2a3f5f",
                                                    "gridcolor": "white",
                                                    "linecolor": "white",
                                                    "minorgridcolor": "white",
                                                    "startlinecolor": "#2a3f5f"
                                                },
                                                "type": "carpet"
                                            }
                                        ],
                                        "choropleth": [
                                            {
                                                "colorbar": {
                                                    "outlinewidth": 0,
                                                    "ticks": ""
                                                },
                                                "type": "choropleth"
                                            }
                                        ],
                                        "contour": [
                                            {
                                                "colorbar": {
                                                    "outlinewidth": 0,
                                                    "ticks": ""
                                                },
                                                "colorscale": [
                                                    [
                                                        0,
                                                        "#0d0887"
                                                    ],
                                                    [
                                                        0.1111111111111111,
                                                        "#46039f"
                                                    ],
                                                    [
                                                        0.2222222222222222,
                                                        "#7201a8"
                                                    ],
                                                    [
                                                        0.3333333333333333,
                                                        "#9c179e"
                                                    ],
                                                    [
                                                        0.4444444444444444,
                                                        "#bd3786"
                                                    ],
                                                    [
                                                        0.5555555555555556,
                                                        "#d8576b"
                                                    ],
                                                    [
                                                        0.6666666666666666,
                                                        "#ed7953"
                                                    ],
                                                    [
                                                        0.7777777777777778,
                                                        "#fb9f3a"
                                                    ],
                                                    [
                                                        0.8888888888888888,
                                                        "#fdca26"
                                                    ],
                                                    [
                                                        1,
                                                        "#f0f921"
                                                    ]
                                                ],
                                                "type": "contour"
                                            }
                                        ],
                                        "contourcarpet": [
                                            {
                                                "colorbar": {
                                                    "outlinewidth": 0,
                                                    "ticks": ""
                                                },
                                                "type": "contourcarpet"
                                            }
                                        ],
                                        "heatmap": [
                                            {
                                                "colorbar": {
                                                    "outlinewidth": 0,
                                                    "ticks": ""
                                                },
                                                "colorscale": [
                                                    [
                                                        0,
                                                        "#0d0887"
                                                    ],
                                                    [
                                                        0.1111111111111111,
                                                        "#46039f"
                                                    ],
                                                    [
                                                        0.2222222222222222,
                                                        "#7201a8"
                                                    ],
                                                    [
                                                        0.3333333333333333,
                                                        "#9c179e"
                                                    ],
                                                    [
                                                        0.4444444444444444,
                                                        "#bd3786"
                                                    ],
                                                    [
                                                        0.5555555555555556,
                                                        "#d8576b"
                                                    ],
                                                    [
                                                        0.6666666666666666,
                                                        "#ed7953"
                                                    ],
                                                    [
                                                        0.7777777777777778,
                                                        "#fb9f3a"
                                                    ],
                                                    [
                                                        0.8888888888888888,
                                                        "#fdca26"
                                                    ],
                                                    [
                                                        1,
                                                        "#f0f921"
                                                    ]
                                                ],
                                                "type": "heatmap"
                                            }
                                        ],
                                        "heatmapgl": [
                                            {
                                                "colorbar": {
                                                    "outlinewidth": 0,
                                                    "ticks": ""
                                                },
                                                "colorscale": [
                                                    [
                                                        0,
                                                        "#0d0887"
                                                    ],
                                                    [
                                                        0.1111111111111111,
                                                        "#46039f"
                                                    ],
                                                    [
                                                        0.2222222222222222,
                                                        "#7201a8"
                                                    ],
                                                    [
                                                        0.3333333333333333,
                                                        "#9c179e"
                                                    ],
                                                    [
                                                        0.4444444444444444,
                                                        "#bd3786"
                                                    ],
                                                    [
                                                        0.5555555555555556,
                                                        "#d8576b"
                                                    ],
                                                    [
                                                        0.6666666666666666,
                                                        "#ed7953"
                                                    ],
                                                    [
                                                        0.7777777777777778,
                                                        "#fb9f3a"
                                                    ],
                                                    [
                                                        0.8888888888888888,
                                                        "#fdca26"
                                                    ],
                                                    [
                                                        1,
                                                        "#f0f921"
                                                    ]
                                                ],
                                                "type": "heatmapgl"
                                            }
                                        ],
                                        "histogram": [
                                            {
                                                "marker": {
                                                    "pattern": {
                                                        "fillmode": "overlay",
                                                        "size": 10,
                                                        "solidity": 0.2
                                                    }
                                                },
                                                "type": "histogram"
                                            }
                                        ],
                                        "histogram2d": [
                                            {
                                                "colorbar": {
                                                    "outlinewidth": 0,
                                                    "ticks": ""
                                                },
                                                "colorscale": [
                                                    [
                                                        0,
                                                        "#0d0887"
                                                    ],
                                                    [
                                                        0.1111111111111111,
                                                        "#46039f"
                                                    ],
                                                    [
                                                        0.2222222222222222,
                                                        "#7201a8"
                                                    ],
                                                    [
                                                        0.3333333333333333,
                                                        "#9c179e"
                                                    ],
                                                    [
                                                        0.4444444444444444,
                                                        "#bd3786"
                                                    ],
                                                    [
                                                        0.5555555555555556,
                                                        "#d8576b"
                                                    ],
                                                    [
                                                        0.6666666666666666,
                                                        "#ed7953"
                                                    ],
                                                    [
                                                        0.7777777777777778,
                                                        "#fb9f3a"
                                                    ],
                                                    [
                                                        0.8888888888888888,
                                                        "#fdca26"
                                                    ],
                                                    [
                                                        1,
                                                        "#f0f921"
                                                    ]
                                                ],
                                                "type": "histogram2d"
                                            }
                                        ],
                                        "histogram2dcontour": [
                                            {
                                                "colorbar": {
                                                    "outlinewidth": 0,
                                                    "ticks": ""
                                                },
                                                "colorscale": [
                                                    [
                                                        0,
                                                        "#0d0887"
                                                    ],
                                                    [
                                                        0.1111111111111111,
                                                        "#46039f"
                                                    ],
                                                    [
                                                        0.2222222222222222,
                                                        "#7201a8"
                                                    ],
                                                    [
                                                        0.3333333333333333,
                                                        "#9c179e"
                                                    ],
                                                    [
                                                        0.4444444444444444,
                                                        "#bd3786"
                                                    ],
                                                    [
                                                        0.5555555555555556,
                                                        "#d8576b"
                                                    ],
                                                    [
                                                        0.6666666666666666,
                                                        "#ed7953"
                                                    ],
                                                    [
                                                        0.7777777777777778,
                                                        "#fb9f3a"
                                                    ],
                                                    [
                                                        0.8888888888888888,
                                                        "#fdca26"
                                                    ],
                                                    [
                                                        1,
                                                        "#f0f921"
                                                    ]
                                                ],
                                                "type": "histogram2dcontour"
                                            }
                                        ],
                                        "mesh3d": [
                                            {
                                                "colorbar": {
                                                    "outlinewidth": 0,
                                                    "ticks": ""
                                                },
                                                "type": "mesh3d"
                                            }
                                        ],
                                        "parcoords": [
                                            {
                                                "line": {
                                                    "colorbar": {
                                                        "outlinewidth": 0,
                                                        "ticks": ""
                                                    }
                                                },
                                                "type": "parcoords"
                                            }
                                        ],
                                        "pie": [
                                            {
                                                "automargin": true,
                                                "type": "pie"
                                            }
                                        ],
                                        "scatter": [
                                            {
                                                "marker": {
                                                    "colorbar": {
                                                        "outlinewidth": 0,
                                                        "ticks": ""
                                                    }
                                                },
                                                "type": "scatter"
                                            }
                                        ],
                                        "scatter3d": [
                                            {
                                                "line": {
                                                    "colorbar": {
                                                        "outlinewidth": 0,
                                                        "ticks": ""
                                                    }
                                                },
                                                "marker": {
                                                    "colorbar": {
                                                        "outlinewidth": 0,
                                                        "ticks": ""
                                                    }
                                                },
                                                "type": "scatter3d"
                                            }
                                        ],
                                        "scattercarpet": [
                                            {
                                                "marker": {
                                                    "colorbar": {
                                                        "outlinewidth": 0,
                                                        "ticks": ""
                                                    }
                                                },
                                                "type": "scattercarpet"
                                            }
                                        ],
                                        "scattergeo": [
                                            {
                                                "marker": {
                                                    "colorbar": {
                                                        "outlinewidth": 0,
                                                        "ticks": ""
                                                    }
                                                },
                                                "type": "scattergeo"
                                            }
                                        ],
                                        "scattergl": [
                                            {
                                                "marker": {
                                                    "colorbar": {
                                                        "outlinewidth": 0,
                                                        "ticks": ""
                                                    }
                                                },
                                                "type": "scattergl"
                                            }
                                        ],
                                        "scattermapbox": [
                                            {
                                                "marker": {
                                                    "colorbar": {
                                                        "outlinewidth": 0,
                                                        "ticks": ""
                                                    }
                                                },
                                                "type": "scattermapbox"
                                            }
                                        ],
                                        "scatterpolar": [
                                            {
                                                "marker": {
                                                    "colorbar": {
                                                        "outlinewidth": 0,
                                                        "ticks": ""
                                                    }
                                                },
                                                "type": "scatterpolar"
                                            }
                                        ],
                                        "scatterpolargl": [
                                            {
                                                "marker": {
                                                    "colorbar": {
                                                        "outlinewidth": 0,
                                                        "ticks": ""
                                                    }
                                                },
                                                "type": "scatterpolargl"
                                            }
                                        ],
                                        "scatterternary": [
                                            {
                                                "marker": {
                                                    "colorbar": {
                                                        "outlinewidth": 0,
                                                        "ticks": ""
                                                    }
                                                },
                                                "type": "scatterternary"
                                            }
                                        ],
                                        "surface": [
                                            {
                                                "colorbar": {
                                                    "outlinewidth": 0,
                                                    "ticks": ""
                                                },
                                                "colorscale": [
                                                    [
                                                        0,
                                                        "#0d0887"
                                                    ],
                                                    [
                                                        0.1111111111111111,
                                                        "#46039f"
                                                    ],
                                                    [
                                                        0.2222222222222222,
                                                        "#7201a8"
                                                    ],
                                                    [
                                                        0.3333333333333333,
                                                        "#9c179e"
                                                    ],
                                                    [
                                                        0.4444444444444444,
                                                        "#bd3786"
                                                    ],
                                                    [
                                                        0.5555555555555556,
                                                        "#d8576b"
                                                    ],
                                                    [
                                                        0.6666666666666666,
                                                        "#ed7953"
                                                    ],
                                                    [
                                                        0.7777777777777778,
                                                        "#fb9f3a"
                                                    ],
                                                    [
                                                        0.8888888888888888,
                                                        "#fdca26"
                                                    ],
                                                    [
                                                        1,
                                                        "#f0f921"
                                                    ]
                                                ],
                                                "type": "surface"
                                            }
                                        ],
                                        "table": [
                                            {
                                                "cells": {
                                                    "fill": {
                                                        "color": "#EBF0F8"
                                                    },
                                                    "line": {
                                                        "color": "white"
                                                    }
                                                },
                                                "header": {
                                                    "fill": {
                                                        "color": "#C8D4E3"
                                                    },
                                                    "line": {
                                                        "color": "white"
                                                    }
                                                },
                                                "type": "table"
                                            }
                                        ]
                                    },
                                    "layout": {
                                        "annotationdefaults": {
                                            "arrowcolor": "#2a3f5f",
                                            "arrowhead": 0,
                                            "arrowwidth": 1
                                        },
                                        "autotypenumbers": "strict",
                                        "coloraxis": {
                                            "colorbar": {
                                                "outlinewidth": 0,
                                                "ticks": ""
                                            }
                                        },
                                        "colorscale": {
                                            "diverging": [
                                                [
                                                    0,
                                                    "#8e0152"
                                                ],
                                                [
                                                    0.1,
                                                    "#c51b7d"
                                                ],
                                                [
                                                    0.2,
                                                    "#de77ae"
                                                ],
                                                [
                                                    0.3,
                                                    "#f1b6da"
                                                ],
                                                [
                                                    0.4,
                                                    "#fde0ef"
                                                ],
                                                [
                                                    0.5,
                                                    "#f7f7f7"
                                                ],
                                                [
                                                    0.6,
                                                    "#e6f5d0"
                                                ],
                                                [
                                                    0.7,
                                                    "#b8e186"
                                                ],
                                                [
                                                    0.8,
                                                    "#7fbc41"
                                                ],
                                                [
                                                    0.9,
                                                    "#4d9221"
                                                ],
                                                [
                                                    1,
                                                    "#276419"
                                                ]
                                            ],
                                            "sequential": [
                                                [
                                                    0,
                                                    "#0d0887"
                                                ],
                                                [
                                                    0.1111111111111111,
                                                    "#46039f"
                                                ],
                                                [
                                                    0.2222222222222222,
                                                    "#7201a8"
                                                ],
                                                [
                                                    0.3333333333333333,
                                                    "#9c179e"
                                                ],
                                                [
                                                    0.4444444444444444,
                                                    "#bd3786"
                                                ],
                                                [
                                                    0.5555555555555556,
                                                    "#d8576b"
                                                ],
                                                [
                                                    0.6666666666666666,
                                                    "#ed7953"
                                                ],
                                                [
                                                    0.7777777777777778,
                                                    "#fb9f3a"
                                                ],
                                                [
                                                    0.8888888888888888,
                                                    "#fdca26"
                                                ],
                                                [
                                                    1,
                                                    "#f0f921"
                                                ]
                                            ],
                                            "sequentialminus": [
                                                [
                                                    0,
                                                    "#0d0887"
                                                ],
                                                [
                                                    0.1111111111111111,
                                                    "#46039f"
                                                ],
                                                [
                                                    0.2222222222222222,
                                                    "#7201a8"
                                                ],
                                                [
                                                    0.3333333333333333,
                                                    "#9c179e"
                                                ],
                                                [
                                                    0.4444444444444444,
                                                    "#bd3786"
                                                ],
                                                [
                                                    0.5555555555555556,
                                                    "#d8576b"
                                                ],
                                                [
                                                    0.6666666666666666,
                                                    "#ed7953"
                                                ],
                                                [
                                                    0.7777777777777778,
                                                    "#fb9f3a"
                                                ],
                                                [
                                                    0.8888888888888888,
                                                    "#fdca26"
                                                ],
                                                [
                                                    1,
                                                    "#f0f921"
                                                ]
                                            ]
                                        },
                                        "colorway": [
                                            "#636efa",
                                            "#EF553B",
                                            "#00cc96",
                                            "#ab63fa",
                                            "#FFA15A",
                                            "#19d3f3",
                                            "#FF6692",
                                            "#B6E880",
                                            "#FF97FF",
                                            "#FECB52"
                                        ],
                                        "font": {
                                            "color": "#2a3f5f"
                                        },
                                        "geo": {
                                            "bgcolor": "white",
                                            "lakecolor": "white",
                                            "landcolor": "#E5ECF6",
                                            "showlakes": true,
                                            "showland": true,
                                            "subunitcolor": "white"
                                        },
                                        "hoverlabel": {
                                            "align": "left"
                                        },
                                        "hovermode": "closest",
                                        "mapbox": {
                                            "style": "light"
                                        },
                                        "paper_bgcolor": "white",
                                        "plot_bgcolor": "#E5ECF6",
                                        "polar": {
                                            "angularaxis": {
                                                "gridcolor": "white",
                                                "linecolor": "white",
                                                "ticks": ""
                                            },
                                            "bgcolor": "#E5ECF6",
                                            "radialaxis": {
                                                "gridcolor": "white",
                                                "linecolor": "white",
                                                "ticks": ""
                                            }
                                        },
                                        "scene": {
                                            "xaxis": {
                                                "backgroundcolor": "#E5ECF6",
                                                "gridcolor": "white",
                                                "gridwidth": 2,
                                                "linecolor": "white",
                                                "showbackground": true,
                                                "ticks": "",
                                                "zerolinecolor": "white"
                                            },
                                            "yaxis": {
                                                "backgroundcolor": "#E5ECF6",
                                                "gridcolor": "white",
                                                "gridwidth": 2,
                                                "linecolor": "white",
                                                "showbackground": true,
                                                "ticks": "",
                                                "zerolinecolor": "white"
                                            },
                                            "zaxis": {
                                                "backgroundcolor": "#E5ECF6",
                                                "gridcolor": "white",
                                                "gridwidth": 2,
                                                "linecolor": "white",
                                                "showbackground": true,
                                                "ticks": "",
                                                "zerolinecolor": "white"
                                            }
                                        },
                                        "shapedefaults": {
                                            "line": {
                                                "color": "#2a3f5f"
                                            }
                                        },
                                        "ternary": {
                                            "aaxis": {
                                                "gridcolor": "white",
                                                "linecolor": "white",
                                                "ticks": ""
                                            },
                                            "baxis": {
                                                "gridcolor": "white",
                                                "linecolor": "white",
                                                "ticks": ""
                                            },
                                            "bgcolor": "#E5ECF6",
                                            "caxis": {
                                                "gridcolor": "white",
                                                "linecolor": "white",
                                                "ticks": ""
                                            }
                                        },
                                        "title": {
                                            "x": 0.05
                                        },
                                        "xaxis": {
                                            "automargin": true,
                                            "gridcolor": "white",
                                            "linecolor": "white",
                                            "ticks": "",
                                            "title": {
                                                "standoff": 15
                                            },
                                            "zerolinecolor": "white",
                                            "zerolinewidth": 2
                                        },
                                        "yaxis": {
                                            "automargin": true,
                                            "gridcolor": "white",
                                            "linecolor": "white",
                                            "ticks": "",
                                            "title": {
                                                "standoff": 15
                                            },
                                            "zerolinecolor": "white",
                                            "zerolinewidth": 2
                                        }
                                    }
                                },
                                "title": {
                                    "text": "COVID-19 Milton Keynes (cumulative deaths)"
                                },
                                "xaxis": {
                                    "anchor": "y",
                                    "domain": [
                                        0,
                                        1
                                    ],
                                    "title": {
                                        "text": "date"
                                    }
                                },
                                "yaxis": {
                                    "anchor": "x",
                                    "domain": [
                                        0,
                                        1
                                    ],
                                    "title": {
                                        "text": "cumDeaths28DaysByDeathDate"
                                    }
                                }
                            }
                        }
                    },
                    "metadata": {}
                }
            ],
            "metadata": {}
        },
        {
            "cell_type": "code",
            "execution_count": null,
            "source": [],
            "outputs": [],
            "metadata": {}
        }
    ],
    "metadata": {
        "orig_nbformat": 4,
        "language_info": {
            "name": "python",
            "version": "3.9.5",
            "mimetype": "text/x-python",
            "codemirror_mode": {
                "name": "ipython",
                "version": 3
            },
            "pygments_lexer": "ipython3",
            "nbconvert_exporter": "python",
            "file_extension": ".py"
        },
        "kernelspec": {
            "name": "python3",
            "display_name": "Python 3.9.5 64-bit ('covid19': conda)"
        },
        "interpreter": {
            "hash": "92c0fd2a67e87f9af823686040a8de6bcbf3a5b9e1eebdcf8ff62379db128d3a"
        }
    },
    "nbformat": 4,
    "nbformat_minor": 2
}