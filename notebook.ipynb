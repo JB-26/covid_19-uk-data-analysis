{
    "cells": [
        {
            "cell_type": "markdown",
            "source": [
                "# COVID-19 Data Exploration\r\n",
                "\r\n",
                "This Jupyter notebook looks at using an API from the [UK Government](https://coronavirus.data.gov.uk/details/developers-guide).\r\n",
                "\r\n",
                "The purpose of this exercise is for myself to improve my data analysis and programming skills in Python.\r\n",
                "\r\n",
                "Feel free to clone this repo if you want to take a look around! The requirements for running this notebook have been exported to the requirements.txt file.\r\n",
                "\r\n",
                "More documentation for this library can be found [here](https://publichealthengland.github.io/coronavirus-dashboard-api-python-sdk/index.html)"
            ],
            "metadata": {}
        },
        {
            "cell_type": "code",
            "execution_count": 4,
            "source": [
                "from uk_covid19 import Cov19API\r\n",
                "import seaborn as sns"
            ],
            "outputs": [],
            "metadata": {}
        },
        {
            "cell_type": "code",
            "execution_count": 11,
            "source": [
                "england_only = [\r\n",
                "    'areaType=ltla',\r\n",
                "    'areaName=Milton Keynes'\r\n",
                "]\r\n",
                "\r\n",
                "cases_and_deaths = {\r\n",
                "    \"date\": \"date\",\r\n",
                "    \"newCasesByPublishDate\": \"newCasesByPublishDate\",\r\n",
                "    \"cumCasesByPublishDate\": \"cumCasesByPublishDate\",\r\n",
                "    \"newDeaths28DaysByDeathDate\": \"newDeaths28DaysByDeathDate\",\r\n",
                "    \"cumDeaths28DaysByDeathDate\": \"cumDeaths28DaysByDeathDate\"\r\n",
                "}\r\n",
                "\r\n",
                "api = Cov19API(filters=england_only, structure=cases_and_deaths)\r\n",
                "df = api.get_dataframe()\r\n",
                "\r\n",
                "print(df.head())"
            ],
            "outputs": [
                {
                    "output_type": "stream",
                    "name": "stdout",
                    "text": [
                        "         date  newCasesByPublishDate  cumCasesByPublishDate  \\\n",
                        "0  2021-07-28                  135.0                24905.0   \n",
                        "1  2021-07-27                  100.0                    NaN   \n",
                        "2  2021-07-26                   90.0                    NaN   \n",
                        "3  2021-07-25                   98.0                    NaN   \n",
                        "4  2021-07-24                  120.0                    NaN   \n",
                        "\n",
                        "   newDeaths28DaysByDeathDate  cumDeaths28DaysByDeathDate  \n",
                        "0                         NaN                         NaN  \n",
                        "1                         0.0                       467.0  \n",
                        "2                         0.0                       467.0  \n",
                        "3                         0.0                       467.0  \n",
                        "4                         0.0                       467.0  \n"
                    ]
                }
            ],
            "metadata": {}
        },
        {
            "cell_type": "code",
            "execution_count": null,
            "source": [],
            "outputs": [],
            "metadata": {}
        }
    ],
    "metadata": {
        "orig_nbformat": 4,
        "language_info": {
            "name": "python",
            "version": "3.9.5",
            "mimetype": "text/x-python",
            "codemirror_mode": {
                "name": "ipython",
                "version": 3
            },
            "pygments_lexer": "ipython3",
            "nbconvert_exporter": "python",
            "file_extension": ".py"
        },
        "kernelspec": {
            "name": "python3",
            "display_name": "Python 3.9.5 64-bit ('covid19': conda)"
        },
        "interpreter": {
            "hash": "92c0fd2a67e87f9af823686040a8de6bcbf3a5b9e1eebdcf8ff62379db128d3a"
        }
    },
    "nbformat": 4,
    "nbformat_minor": 2
}